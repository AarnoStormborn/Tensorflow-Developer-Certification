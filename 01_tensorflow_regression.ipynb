{
  "nbformat": 4,
  "nbformat_minor": 0,
  "metadata": {
    "colab": {
      "provenance": [],
      "mount_file_id": "1C93VRd9B6sloABz3SQfn1PwNL2Z_Zw6H",
      "authorship_tag": "ABX9TyNu81Jnmq534r6bpMvKZf4t",
      "include_colab_link": true
    },
    "kernelspec": {
      "name": "python3",
      "display_name": "Python 3"
    },
    "language_info": {
      "name": "python"
    }
  },
  "cells": [
    {
      "cell_type": "markdown",
      "metadata": {
        "id": "view-in-github",
        "colab_type": "text"
      },
      "source": [
        "<a href=\"https://colab.research.google.com/github/AarnoStormborn/Tensorflow-Developer-Certification/blob/main/01_tensorflow_regression.ipynb\" target=\"_parent\"><img src=\"https://colab.research.google.com/assets/colab-badge.svg\" alt=\"Open In Colab\"/></a>"
      ]
    },
    {
      "cell_type": "code",
      "execution_count": null,
      "metadata": {
        "colab": {
          "base_uri": "https://localhost:8080/"
        },
        "id": "3UPsfbbmJzXs",
        "outputId": "e73ab741-f9ad-4968-a1d6-4e973fc5d77e"
      },
      "outputs": [
        {
          "output_type": "stream",
          "name": "stdout",
          "text": [
            "2.8.2\n"
          ]
        }
      ],
      "source": [
        "import tensorflow as tf\n",
        "print(tf.__version__)"
      ]
    },
    {
      "cell_type": "markdown",
      "source": [
        "# Regression with Neural Networks"
      ],
      "metadata": {
        "id": "YoJz452-H-ZB"
      }
    },
    {
      "cell_type": "code",
      "source": [
        "# Creating a dataset \n",
        "import numpy as np\n",
        "import matplotlib.pyplot as plt\n",
        "\n",
        "# Create features\n",
        "X = np.array([-7.0, -4.0, -1.0, 2.0, 5.0, 8.0, 11.0, 14.0])\n",
        "\n",
        "# Create labels\n",
        "y = np. array([3.0, 6.0, 9.0, 12.0, 15.0, 18.0, 21.0, 24.0])\n",
        "\n",
        "# Visualize it\n",
        "plt.scatter(X, y)"
      ],
      "metadata": {
        "id": "6l6zuToALAsw",
        "colab": {
          "base_uri": "https://localhost:8080/",
          "height": 287
        },
        "outputId": "c8be09ab-8efb-4280-9818-0e7c4082789f"
      },
      "execution_count": null,
      "outputs": [
        {
          "output_type": "execute_result",
          "data": {
            "text/plain": [
              "<matplotlib.collections.PathCollection at 0x7f5f1e5c5c50>"
            ]
          },
          "metadata": {},
          "execution_count": 2
        },
        {
          "output_type": "display_data",
          "data": {
            "text/plain": [
              "<Figure size 432x288 with 1 Axes>"
            ],
            "image/png": "[encoded data removed]"
          },
          "metadata": {
            "needs_background": "light"
          }
        }
      ]
    },
    {
      "cell_type": "code",
      "source": [
        "y == X + 10"
      ],
      "metadata": {
        "colab": {
          "base_uri": "https://localhost:8080/"
        },
        "id": "ktNIsfpPIrb4",
        "outputId": "f0b64fd7-5098-4f21-90c9-3ed32bedd648"
      },
      "execution_count": null,
      "outputs": [
        {
          "output_type": "execute_result",
          "data": {
            "text/plain": [
              "array([ True,  True,  True,  True,  True,  True,  True,  True])"
            ]
          },
          "metadata": {},
          "execution_count": 3
        }
      ]
    },
    {
      "cell_type": "markdown",
      "source": [
        "### Input and Output shapes"
      ],
      "metadata": {
        "id": "DcUiyLx_I5Vr"
      }
    },
    {
      "cell_type": "code",
      "source": [
        "house_info = tf.constant(['bedroom', 'bathroom', 'garage'])\n",
        "house_price = tf.constant([939700])\n",
        "house_info, house_price"
      ],
      "metadata": {
        "colab": {
          "base_uri": "https://localhost:8080/"
        },
        "id": "15VKcZ_QI0V9",
        "outputId": "66f44c8c-89a8-4786-ea17-101f09a1a1d1"
      },
      "execution_count": null,
      "outputs": [
        {
          "output_type": "execute_result",
          "data": {
            "text/plain": [
              "(<tf.Tensor: shape=(3,), dtype=string, numpy=array([b'bedroom', b'bathroom', b'garage'], dtype=object)>,\n",
              " <tf.Tensor: shape=(1,), dtype=int32, numpy=array([939700], dtype=int32)>)"
            ]
          },
          "metadata": {},
          "execution_count": 4
        }
      ]
    },
    {
      "cell_type": "code",
      "source": [
        "X = tf.constant(X)\n",
        "y = tf.constant(y)\n",
        "X, y"
      ],
      "metadata": {
        "colab": {
          "base_uri": "https://localhost:8080/"
        },
        "id": "R_oURVRqJNnv",
        "outputId": "aa5a8e9e-ef0e-4681-cc2b-eb601c565efb"
      },
      "execution_count": null,
      "outputs": [
        {
          "output_type": "execute_result",
          "data": {
            "text/plain": [
              "(<tf.Tensor: shape=(8,), dtype=float64, numpy=array([-7., -4., -1.,  2.,  5.,  8., 11., 14.])>,\n",
              " <tf.Tensor: shape=(8,), dtype=float64, numpy=array([ 3.,  6.,  9., 12., 15., 18., 21., 24.])>)"
            ]
          },
          "metadata": {},
          "execution_count": 5
        }
      ]
    },
    {
      "cell_type": "markdown",
      "source": [
        "### Steps in modelling with tf\n",
        "* **Creating a model** - input and ouput layers with hidden layers\n",
        "* **Compiling a model** - Loss function and Optimizers\n",
        "* **Fitting a model** - letting the model try to find patterns"
      ],
      "metadata": {
        "id": "WfEzw0BIKxs7"
      }
    },
    {
      "cell_type": "code",
      "source": [
        "tf.random.set_seed(42)\n",
        "\n",
        "\n",
        "# 1. Create the model\n",
        "model = tf.keras.Sequential([\n",
        "    tf.keras.layers.Dense(1)\n",
        "])\n",
        "\n",
        "# 2. Compile the model\n",
        "model.compile(loss=tf.keras.losses.mae,\n",
        "              optimizer=tf.keras.optimizers.SGD(),\n",
        "              metrics=['mae'])\n",
        "\n",
        "# 3. Fit the model\n",
        "model.fit(tf.expand_dims(X, axis=-1), y, epochs=5)"
      ],
      "metadata": {
        "colab": {
          "base_uri": "https://localhost:8080/"
        },
        "id": "sK0pkaBeKnh9",
        "outputId": "67c1366d-7e9b-4b3f-84f8-4b3687b8b8c6"
      },
      "execution_count": null,
      "outputs": [
        {
          "output_type": "stream",
          "name": "stdout",
          "text": [
            "Epoch 1/5\n",
            "1/1 [==============================] - 1s 508ms/step - loss: 11.5048 - mae: 11.5048\n",
            "Epoch 2/5\n",
            "1/1 [==============================] - 0s 13ms/step - loss: 11.3723 - mae: 11.3723\n",
            "Epoch 3/5\n",
            "1/1 [==============================] - 0s 11ms/step - loss: 11.2398 - mae: 11.2398\n",
            "Epoch 4/5\n",
            "1/1 [==============================] - 0s 7ms/step - loss: 11.1073 - mae: 11.1073\n",
            "Epoch 5/5\n",
            "1/1 [==============================] - 0s 7ms/step - loss: 10.9748 - mae: 10.9748\n"
          ]
        },
        {
          "output_type": "execute_result",
          "data": {
            "text/plain": [
              "<keras.callbacks.History at 0x7f5f1a2cfb50>"
            ]
          },
          "metadata": {},
          "execution_count": 6
        }
      ]
    },
    {
      "cell_type": "code",
      "source": [
        "# Another way\n",
        "\n",
        "# model = tf.keras.Sequential()\n",
        "# model.add(tf.keras.layers.Dense(1))"
      ],
      "metadata": {
        "id": "fb9yrD9EMfJt"
      },
      "execution_count": null,
      "outputs": []
    },
    {
      "cell_type": "code",
      "source": [
        "X.dtype, y.dtype"
      ],
      "metadata": {
        "colab": {
          "base_uri": "https://localhost:8080/"
        },
        "id": "TWA5qQyZPX_C",
        "outputId": "5fc2f8f2-66db-4b10-fe65-b3508c7075af"
      },
      "execution_count": null,
      "outputs": [
        {
          "output_type": "execute_result",
          "data": {
            "text/plain": [
              "(tf.float64, tf.float64)"
            ]
          },
          "metadata": {},
          "execution_count": 8
        }
      ]
    },
    {
      "cell_type": "code",
      "source": [
        "# Make a prediction using our model\n",
        "\n",
        "model.predict([17.0])"
      ],
      "metadata": {
        "colab": {
          "base_uri": "https://localhost:8080/"
        },
        "id": "y-wc-QrEPZEi",
        "outputId": "ad7fffe0-1b22-4aa4-b1c7-d9013cf47dd0"
      },
      "execution_count": null,
      "outputs": [
        {
          "output_type": "execute_result",
          "data": {
            "text/plain": [
              "array([[12.716021]], dtype=float32)"
            ]
          },
          "metadata": {},
          "execution_count": 9
        }
      ]
    },
    {
      "cell_type": "markdown",
      "source": [
        "### Improving our model"
      ],
      "metadata": {
        "id": "9nQ1H0Z-RPov"
      }
    },
    {
      "cell_type": "code",
      "source": [
        "# creating a better model\n",
        "\n",
        "# 1. Create a model \n",
        "model = tf.keras.Sequential([\n",
        "    tf.keras.layers.Dense(50, activation=None),\n",
        "    tf.keras.layers.Dense(1)\n",
        "])\n",
        "\n",
        "# 2. Compile the model\n",
        "model.compile(loss=tf.keras.losses.mae,\n",
        "              optimizer=tf.keras.optimizers.Adam(learning_rate=0.1),\n",
        "              metrics=['mae']\n",
        "              )\n",
        "\n",
        "# 3. Fit the model\n",
        "model.fit(tf.expand_dims(X, axis=-1),y, epochs=100)"
      ],
      "metadata": {
        "id": "lo5ix3zlQyEp",
        "colab": {
          "base_uri": "https://localhost:8080/"
        },
        "outputId": "7c3a0920-9e51-4153-f6e7-2795546e34ce"
      },
      "execution_count": null,
      "outputs": [
        {
          "output_type": "stream",
          "name": "stdout",
          "text": [
            "Epoch 1/100\n",
            "1/1 [==============================] - 0s 358ms/step - loss: 14.6466 - mae: 14.6466\n",
            "Epoch 2/100\n",
            "1/1 [==============================] - 0s 9ms/step - loss: 7.7126 - mae: 7.7126\n",
            "Epoch 3/100\n",
            "1/1 [==============================] - 0s 7ms/step - loss: 13.4266 - mae: 13.4266\n",
            "Epoch 4/100\n",
            "1/1 [==============================] - 0s 11ms/step - loss: 10.7267 - mae: 10.7267\n",
            "Epoch 5/100\n",
            "1/1 [==============================] - 0s 20ms/step - loss: 5.9640 - mae: 5.9640\n",
            "Epoch 6/100\n",
            "1/1 [==============================] - 0s 7ms/step - loss: 8.3730 - mae: 8.3730\n",
            "Epoch 7/100\n",
            "1/1 [==============================] - 0s 6ms/step - loss: 9.2446 - mae: 9.2446\n",
            "Epoch 8/100\n",
            "1/1 [==============================] - 0s 5ms/step - loss: 8.4631 - mae: 8.4631\n",
            "Epoch 9/100\n",
            "1/1 [==============================] - 0s 5ms/step - loss: 6.6290 - mae: 6.6290\n",
            "Epoch 10/100\n",
            "1/1 [==============================] - 0s 5ms/step - loss: 3.9859 - mae: 3.9859\n",
            "Epoch 11/100\n",
            "1/1 [==============================] - 0s 5ms/step - loss: 3.2656 - mae: 3.2656\n",
            "Epoch 12/100\n",
            "1/1 [==============================] - 0s 6ms/step - loss: 3.7837 - mae: 3.7837\n",
            "Epoch 13/100\n",
            "1/1 [==============================] - 0s 5ms/step - loss: 1.9171 - mae: 1.9171\n",
            "Epoch 14/100\n",
            "1/1 [==============================] - 0s 6ms/step - loss: 1.9214 - mae: 1.9214\n",
            "Epoch 15/100\n",
            "1/1 [==============================] - 0s 6ms/step - loss: 3.2090 - mae: 3.2090\n",
            "Epoch 16/100\n",
            "1/1 [==============================] - 0s 6ms/step - loss: 2.6718 - mae: 2.6718\n",
            "Epoch 17/100\n",
            "1/1 [==============================] - 0s 6ms/step - loss: 2.0541 - mae: 2.0541\n",
            "Epoch 18/100\n",
            "1/1 [==============================] - 0s 5ms/step - loss: 2.1862 - mae: 2.1862\n",
            "Epoch 19/100\n",
            "1/1 [==============================] - 0s 5ms/step - loss: 0.8937 - mae: 0.8937\n",
            "Epoch 20/100\n",
            "1/1 [==============================] - 0s 5ms/step - loss: 1.9046 - mae: 1.9046\n",
            "Epoch 21/100\n",
            "1/1 [==============================] - 0s 6ms/step - loss: 2.4319 - mae: 2.4319\n",
            "Epoch 22/100\n",
            "1/1 [==============================] - 0s 6ms/step - loss: 2.1847 - mae: 2.1847\n",
            "Epoch 23/100\n",
            "1/1 [==============================] - 0s 7ms/step - loss: 1.3097 - mae: 1.3097\n",
            "Epoch 24/100\n",
            "1/1 [==============================] - 0s 15ms/step - loss: 2.1754 - mae: 2.1754\n",
            "Epoch 25/100\n",
            "1/1 [==============================] - 0s 9ms/step - loss: 2.0506 - mae: 2.0506\n",
            "Epoch 26/100\n",
            "1/1 [==============================] - 0s 6ms/step - loss: 0.7848 - mae: 0.7848\n",
            "Epoch 27/100\n",
            "1/1 [==============================] - 0s 7ms/step - loss: 1.3660 - mae: 1.3660\n",
            "Epoch 28/100\n",
            "1/1 [==============================] - 0s 8ms/step - loss: 1.9267 - mae: 1.9267\n",
            "Epoch 29/100\n",
            "1/1 [==============================] - 0s 6ms/step - loss: 1.5912 - mae: 1.5912\n",
            "Epoch 30/100\n",
            "1/1 [==============================] - 0s 6ms/step - loss: 0.8846 - mae: 0.8846\n",
            "Epoch 31/100\n",
            "1/1 [==============================] - 0s 6ms/step - loss: 1.5030 - mae: 1.5030\n",
            "Epoch 32/100\n",
            "1/1 [==============================] - 0s 6ms/step - loss: 0.9850 - mae: 0.9850\n",
            "Epoch 33/100\n",
            "1/1 [==============================] - 0s 6ms/step - loss: 0.5583 - mae: 0.5583\n",
            "Epoch 34/100\n",
            "1/1 [==============================] - 0s 6ms/step - loss: 0.8888 - mae: 0.8888\n",
            "Epoch 35/100\n",
            "1/1 [==============================] - 0s 6ms/step - loss: 0.4555 - mae: 0.4555\n",
            "Epoch 36/100\n",
            "1/1 [==============================] - 0s 6ms/step - loss: 0.5936 - mae: 0.5936\n",
            "Epoch 37/100\n",
            "1/1 [==============================] - 0s 6ms/step - loss: 0.2289 - mae: 0.2289\n",
            "Epoch 38/100\n",
            "1/1 [==============================] - 0s 6ms/step - loss: 0.4994 - mae: 0.4994\n",
            "Epoch 39/100\n",
            "1/1 [==============================] - 0s 6ms/step - loss: 0.2314 - mae: 0.2314\n",
            "Epoch 40/100\n",
            "1/1 [==============================] - 0s 6ms/step - loss: 0.1920 - mae: 0.1920\n",
            "Epoch 41/100\n",
            "1/1 [==============================] - 0s 6ms/step - loss: 0.3578 - mae: 0.3578\n",
            "Epoch 42/100\n",
            "1/1 [==============================] - 0s 6ms/step - loss: 0.4709 - mae: 0.4709\n",
            "Epoch 43/100\n",
            "1/1 [==============================] - 0s 6ms/step - loss: 0.2046 - mae: 0.2046\n",
            "Epoch 44/100\n",
            "1/1 [==============================] - 0s 6ms/step - loss: 0.2734 - mae: 0.2734\n",
            "Epoch 45/100\n",
            "1/1 [==============================] - 0s 5ms/step - loss: 0.6060 - mae: 0.6060\n",
            "Epoch 46/100\n",
            "1/1 [==============================] - 0s 6ms/step - loss: 0.4181 - mae: 0.4181\n",
            "Epoch 47/100\n",
            "1/1 [==============================] - 0s 6ms/step - loss: 0.7927 - mae: 0.7927\n",
            "Epoch 48/100\n",
            "1/1 [==============================] - 0s 6ms/step - loss: 0.5791 - mae: 0.5791\n",
            "Epoch 49/100\n",
            "1/1 [==============================] - 0s 5ms/step - loss: 0.6717 - mae: 0.6717\n",
            "Epoch 50/100\n",
            "1/1 [==============================] - 0s 5ms/step - loss: 0.7983 - mae: 0.7983\n",
            "Epoch 51/100\n",
            "1/1 [==============================] - 0s 7ms/step - loss: 0.1457 - mae: 0.1457\n",
            "Epoch 52/100\n",
            "1/1 [==============================] - 0s 6ms/step - loss: 0.1972 - mae: 0.1972\n",
            "Epoch 53/100\n",
            "1/1 [==============================] - 0s 6ms/step - loss: 0.8376 - mae: 0.8376\n",
            "Epoch 54/100\n",
            "1/1 [==============================] - 0s 6ms/step - loss: 0.7157 - mae: 0.7157\n",
            "Epoch 55/100\n",
            "1/1 [==============================] - 0s 6ms/step - loss: 0.3609 - mae: 0.3609\n",
            "Epoch 56/100\n",
            "1/1 [==============================] - 0s 6ms/step - loss: 0.2580 - mae: 0.2580\n",
            "Epoch 57/100\n",
            "1/1 [==============================] - 0s 6ms/step - loss: 0.7510 - mae: 0.7510\n",
            "Epoch 58/100\n",
            "1/1 [==============================] - 0s 7ms/step - loss: 0.6833 - mae: 0.6833\n",
            "Epoch 59/100\n",
            "1/1 [==============================] - 0s 8ms/step - loss: 0.2554 - mae: 0.2554\n",
            "Epoch 60/100\n",
            "1/1 [==============================] - 0s 10ms/step - loss: 0.1836 - mae: 0.1836\n",
            "Epoch 61/100\n",
            "1/1 [==============================] - 0s 7ms/step - loss: 0.9255 - mae: 0.9255\n",
            "Epoch 62/100\n",
            "1/1 [==============================] - 0s 6ms/step - loss: 0.9381 - mae: 0.9381\n",
            "Epoch 63/100\n",
            "1/1 [==============================] - 0s 5ms/step - loss: 0.1232 - mae: 0.1232\n",
            "Epoch 64/100\n",
            "1/1 [==============================] - 0s 5ms/step - loss: 1.5286 - mae: 1.5286\n",
            "Epoch 65/100\n",
            "1/1 [==============================] - 0s 5ms/step - loss: 2.0131 - mae: 2.0131\n",
            "Epoch 66/100\n",
            "1/1 [==============================] - 0s 6ms/step - loss: 1.3846 - mae: 1.3846\n",
            "Epoch 67/100\n",
            "1/1 [==============================] - 0s 5ms/step - loss: 0.1578 - mae: 0.1578\n",
            "Epoch 68/100\n",
            "1/1 [==============================] - 0s 5ms/step - loss: 0.6056 - mae: 0.6056\n",
            "Epoch 69/100\n",
            "1/1 [==============================] - 0s 6ms/step - loss: 0.2211 - mae: 0.2211\n",
            "Epoch 70/100\n",
            "1/1 [==============================] - 0s 6ms/step - loss: 0.9585 - mae: 0.9585\n",
            "Epoch 71/100\n",
            "1/1 [==============================] - 0s 6ms/step - loss: 1.0708 - mae: 1.0708\n",
            "Epoch 72/100\n",
            "1/1 [==============================] - 0s 6ms/step - loss: 0.2721 - mae: 0.2721\n",
            "Epoch 73/100\n",
            "1/1 [==============================] - 0s 5ms/step - loss: 1.2103 - mae: 1.2103\n",
            "Epoch 74/100\n",
            "1/1 [==============================] - 0s 4ms/step - loss: 1.6957 - mae: 1.6957\n",
            "Epoch 75/100\n",
            "1/1 [==============================] - 0s 5ms/step - loss: 1.4112 - mae: 1.4112\n",
            "Epoch 76/100\n",
            "1/1 [==============================] - 0s 5ms/step - loss: 0.4135 - mae: 0.4135\n",
            "Epoch 77/100\n",
            "1/1 [==============================] - 0s 6ms/step - loss: 1.4064 - mae: 1.4064\n",
            "Epoch 78/100\n",
            "1/1 [==============================] - 0s 5ms/step - loss: 2.1596 - mae: 2.1596\n",
            "Epoch 79/100\n",
            "1/1 [==============================] - 0s 5ms/step - loss: 1.8427 - mae: 1.8427\n",
            "Epoch 80/100\n",
            "1/1 [==============================] - 0s 5ms/step - loss: 0.6226 - mae: 0.6226\n",
            "Epoch 81/100\n",
            "1/1 [==============================] - 0s 5ms/step - loss: 1.2261 - mae: 1.2261\n",
            "Epoch 82/100\n",
            "1/1 [==============================] - 0s 5ms/step - loss: 2.0676 - mae: 2.0676\n",
            "Epoch 83/100\n",
            "1/1 [==============================] - 0s 5ms/step - loss: 2.1478 - mae: 2.1478\n",
            "Epoch 84/100\n",
            "1/1 [==============================] - 0s 5ms/step - loss: 1.5559 - mae: 1.5559\n",
            "Epoch 85/100\n",
            "1/1 [==============================] - 0s 5ms/step - loss: 0.2875 - mae: 0.2875\n",
            "Epoch 86/100\n",
            "1/1 [==============================] - 0s 5ms/step - loss: 1.7467 - mae: 1.7467\n",
            "Epoch 87/100\n",
            "1/1 [==============================] - 0s 5ms/step - loss: 2.7464 - mae: 2.7464\n",
            "Epoch 88/100\n",
            "1/1 [==============================] - 0s 6ms/step - loss: 2.6727 - mae: 2.6727\n",
            "Epoch 89/100\n",
            "1/1 [==============================] - 0s 16ms/step - loss: 1.6517 - mae: 1.6517\n",
            "Epoch 90/100\n",
            "1/1 [==============================] - 0s 6ms/step - loss: 0.0837 - mae: 0.0837\n",
            "Epoch 91/100\n",
            "1/1 [==============================] - 0s 5ms/step - loss: 0.7952 - mae: 0.7952\n",
            "Epoch 92/100\n",
            "1/1 [==============================] - 0s 6ms/step - loss: 0.7347 - mae: 0.7347\n",
            "Epoch 93/100\n",
            "1/1 [==============================] - 0s 6ms/step - loss: 0.1838 - mae: 0.1838\n",
            "Epoch 94/100\n",
            "1/1 [==============================] - 0s 5ms/step - loss: 0.2361 - mae: 0.2361\n",
            "Epoch 95/100\n",
            "1/1 [==============================] - 0s 5ms/step - loss: 0.4481 - mae: 0.4481\n",
            "Epoch 96/100\n",
            "1/1 [==============================] - 0s 6ms/step - loss: 0.2510 - mae: 0.2510\n",
            "Epoch 97/100\n",
            "1/1 [==============================] - 0s 8ms/step - loss: 0.6743 - mae: 0.6743\n",
            "Epoch 98/100\n",
            "1/1 [==============================] - 0s 10ms/step - loss: 0.7027 - mae: 0.7027\n",
            "Epoch 99/100\n",
            "1/1 [==============================] - 0s 5ms/step - loss: 0.2812 - mae: 0.2812\n",
            "Epoch 100/100\n",
            "1/1 [==============================] - 0s 10ms/step - loss: 0.1846 - mae: 0.1846\n"
          ]
        },
        {
          "output_type": "execute_result",
          "data": {
            "text/plain": [
              "<keras.callbacks.History at 0x7f5f18a17e90>"
            ]
          },
          "metadata": {},
          "execution_count": 10
        }
      ]
    },
    {
      "cell_type": "code",
      "source": [
        "model.predict([17.0])"
      ],
      "metadata": {
        "colab": {
          "base_uri": "https://localhost:8080/"
        },
        "id": "nBb7bbtTfsj6",
        "outputId": "a8842cfd-1170-4cd7-c7bc-1268caafb536"
      },
      "execution_count": null,
      "outputs": [
        {
          "output_type": "execute_result",
          "data": {
            "text/plain": [
              "array([[28.078846]], dtype=float32)"
            ]
          },
          "metadata": {},
          "execution_count": 11
        }
      ]
    },
    {
      "cell_type": "code",
      "source": [
        "# Create a bigger dataset\n",
        "\n",
        "X = tf.range(-100, 100, 4)\n",
        "X"
      ],
      "metadata": {
        "colab": {
          "base_uri": "https://localhost:8080/"
        },
        "id": "Q84p7kHQgIq0",
        "outputId": "30000cf3-b399-46e6-83e7-3f76162e999b"
      },
      "execution_count": null,
      "outputs": [
        {
          "output_type": "execute_result",
          "data": {
            "text/plain": [
              "<tf.Tensor: shape=(50,), dtype=int32, numpy=\n",
              "array([-100,  -96,  -92,  -88,  -84,  -80,  -76,  -72,  -68,  -64,  -60,\n",
              "        -56,  -52,  -48,  -44,  -40,  -36,  -32,  -28,  -24,  -20,  -16,\n",
              "        -12,   -8,   -4,    0,    4,    8,   12,   16,   20,   24,   28,\n",
              "         32,   36,   40,   44,   48,   52,   56,   60,   64,   68,   72,\n",
              "         76,   80,   84,   88,   92,   96], dtype=int32)>"
            ]
          },
          "metadata": {},
          "execution_count": 12
        }
      ]
    },
    {
      "cell_type": "code",
      "source": [
        "y = X + 10\n",
        "y"
      ],
      "metadata": {
        "colab": {
          "base_uri": "https://localhost:8080/"
        },
        "id": "DAxZPwaKFf5c",
        "outputId": "284a7041-6fd5-439e-9805-e5769c771a56"
      },
      "execution_count": null,
      "outputs": [
        {
          "output_type": "execute_result",
          "data": {
            "text/plain": [
              "<tf.Tensor: shape=(50,), dtype=int32, numpy=\n",
              "array([-90, -86, -82, -78, -74, -70, -66, -62, -58, -54, -50, -46, -42,\n",
              "       -38, -34, -30, -26, -22, -18, -14, -10,  -6,  -2,   2,   6,  10,\n",
              "        14,  18,  22,  26,  30,  34,  38,  42,  46,  50,  54,  58,  62,\n",
              "        66,  70,  74,  78,  82,  86,  90,  94,  98, 102, 106], dtype=int32)>"
            ]
          },
          "metadata": {},
          "execution_count": 13
        }
      ]
    },
    {
      "cell_type": "code",
      "source": [
        "# Visualize the data\n",
        "import matplotlib.pyplot as plt\n",
        "\n",
        "plt.scatter(X,y)"
      ],
      "metadata": {
        "colab": {
          "base_uri": "https://localhost:8080/",
          "height": 283
        },
        "id": "dgTrKkygFnRA",
        "outputId": "690fb9c6-27b5-41e0-8261-5fe419a2865d"
      },
      "execution_count": null,
      "outputs": [
        {
          "output_type": "execute_result",
          "data": {
            "text/plain": [
              "<matplotlib.collections.PathCollection at 0x7f5f19b8b3d0>"
            ]
          },
          "metadata": {},
          "execution_count": 14
        },
        {
          "output_type": "display_data",
          "data": {
            "text/plain": [
              "<Figure size 432x288 with 1 Axes>"
            ],
            "image/png": "[encoded data removed]"
          },
          "metadata": {
            "needs_background": "light"
          }
        }
      ]
    },
    {
      "cell_type": "markdown",
      "source": [
        "### The 3 sets\n",
        "* Training : 70-80%\n",
        "* Validation : 10-15%\n",
        "* Testing : 10-15%"
      ],
      "metadata": {
        "id": "eY4stuZhF7wQ"
      }
    },
    {
      "cell_type": "code",
      "source": [
        "X_train = X[:40]\n",
        "X_test = X[40:] \n",
        "y_train = y[:40]\n",
        "y_test = y[40:]\n",
        "\n",
        "X_train, X_test, y_train, y_test"
      ],
      "metadata": {
        "colab": {
          "base_uri": "https://localhost:8080/"
        },
        "id": "_qL_k8tyFxUF",
        "outputId": "b4dabd8f-b49a-47db-eb1c-dd5dc78cbbf9"
      },
      "execution_count": null,
      "outputs": [
        {
          "output_type": "execute_result",
          "data": {
            "text/plain": [
              "(<tf.Tensor: shape=(40,), dtype=int32, numpy=\n",
              " array([-100,  -96,  -92,  -88,  -84,  -80,  -76,  -72,  -68,  -64,  -60,\n",
              "         -56,  -52,  -48,  -44,  -40,  -36,  -32,  -28,  -24,  -20,  -16,\n",
              "         -12,   -8,   -4,    0,    4,    8,   12,   16,   20,   24,   28,\n",
              "          32,   36,   40,   44,   48,   52,   56], dtype=int32)>,\n",
              " <tf.Tensor: shape=(10,), dtype=int32, numpy=array([60, 64, 68, 72, 76, 80, 84, 88, 92, 96], dtype=int32)>,\n",
              " <tf.Tensor: shape=(40,), dtype=int32, numpy=\n",
              " array([-90, -86, -82, -78, -74, -70, -66, -62, -58, -54, -50, -46, -42,\n",
              "        -38, -34, -30, -26, -22, -18, -14, -10,  -6,  -2,   2,   6,  10,\n",
              "         14,  18,  22,  26,  30,  34,  38,  42,  46,  50,  54,  58,  62,\n",
              "         66], dtype=int32)>,\n",
              " <tf.Tensor: shape=(10,), dtype=int32, numpy=array([ 70,  74,  78,  82,  86,  90,  94,  98, 102, 106], dtype=int32)>)"
            ]
          },
          "metadata": {},
          "execution_count": 15
        }
      ]
    },
    {
      "cell_type": "code",
      "source": [
        "plt.figure(figsize=(10,7))\n",
        "\n",
        "plt.scatter(X_train, y_train, c='b', label='Training data')\n",
        "plt.scatter(X_test, y_test, c='g', label='Testing data')\n",
        "\n",
        "plt.legend()\n",
        "plt.show()"
      ],
      "metadata": {
        "id": "AgOB2IDrGUOW",
        "colab": {
          "base_uri": "https://localhost:8080/",
          "height": 428
        },
        "outputId": "fc1cec9c-3bcd-498a-f3ec-4ae9292d9a4a"
      },
      "execution_count": null,
      "outputs": [
        {
          "output_type": "display_data",
          "data": {
            "text/plain": [
              "<Figure size 720x504 with 1 Axes>"
            ],
            "image/png": "[encoded data removed]"
          },
          "metadata": {
            "needs_background": "light"
          }
        }
      ]
    },
    {
      "cell_type": "code",
      "source": [
        "# Create a model\n",
        "\n",
        "model = tf.keras.Sequential([\n",
        "    tf.keras.layers.Dense(50, activation=None)\n",
        "])\n",
        "\n",
        "model.compile(loss=tf.keras.losses.mae,\n",
        "              optimizer=tf.keras.optimizers.Adam(learning_rate=0.01),\n",
        "              metrics=['mae'])\n",
        "\n",
        "# model.fit(tf.expand_dims(X_train, axis=-1), y_train, epochs=100)"
      ],
      "metadata": {
        "id": "WMD7gQtbtXmY"
      },
      "execution_count": null,
      "outputs": []
    },
    {
      "cell_type": "code",
      "source": [
        "X.shape, y.shape"
      ],
      "metadata": {
        "colab": {
          "base_uri": "https://localhost:8080/"
        },
        "id": "Ac8tX8My0Gd7",
        "outputId": "21b55181-e8c2-4f42-bd64-c481526e2919"
      },
      "execution_count": null,
      "outputs": [
        {
          "output_type": "execute_result",
          "data": {
            "text/plain": [
              "(TensorShape([50]), TensorShape([50]))"
            ]
          },
          "metadata": {},
          "execution_count": 18
        }
      ]
    },
    {
      "cell_type": "code",
      "source": [
        "# Define an input_shape\n",
        "\n",
        "tf.random.set_seed(42)\n",
        "\n",
        "model = tf.keras.Sequential()\n",
        "model.add(tf.keras.layers.Dense(10, activation=None, name='Hidden_layer_1'))\n",
        "model.add(tf.keras.layers.Dense(50, activation=None, name='Hidden_layer_2'))\n",
        "model.add(tf.keras.layers.Dense(1, activation=None, name='output_layer'))\n",
        "\n",
        "model.compile(loss=tf.keras.losses.mae,\n",
        "              optimizer=tf.keras.optimizers.Adam(learning_rate=0.01),\n",
        "              metrics=['mae'])"
      ],
      "metadata": {
        "id": "v5LB-XOnyG2-"
      },
      "execution_count": null,
      "outputs": []
    },
    {
      "cell_type": "code",
      "source": [
        "# Fitting the model\n",
        "\n",
        "model.fit(tf.expand_dims(X_train, axis=-1), y_train, epochs=100, verbose=0)"
      ],
      "metadata": {
        "colab": {
          "base_uri": "https://localhost:8080/"
        },
        "id": "xDgBoH8B0PpA",
        "outputId": "d940b002-8b5a-4429-f9c3-5542f400b16f"
      },
      "execution_count": null,
      "outputs": [
        {
          "output_type": "execute_result",
          "data": {
            "text/plain": [
              "<keras.callbacks.History at 0x7f5f19ae3e10>"
            ]
          },
          "metadata": {},
          "execution_count": 20
        }
      ]
    },
    {
      "cell_type": "code",
      "source": [
        "model.summary()"
      ],
      "metadata": {
        "colab": {
          "base_uri": "https://localhost:8080/"
        },
        "id": "Ps2BUFpM7iT7",
        "outputId": "ff2d8e2a-585d-47cf-a87c-30a6b0ab974d"
      },
      "execution_count": null,
      "outputs": [
        {
          "output_type": "stream",
          "name": "stdout",
          "text": [
            "Model: \"sequential_3\"\n",
            "_________________________________________________________________\n",
            " Layer (type)                Output Shape              Param #   \n",
            "=================================================================\n",
            " Hidden_layer_1 (Dense)      (None, 10)                20        \n",
            "                                                                 \n",
            " Hidden_layer_2 (Dense)      (None, 50)                550       \n",
            "                                                                 \n",
            " output_layer (Dense)        (None, 1)                 51        \n",
            "                                                                 \n",
            "=================================================================\n",
            "Total params: 621\n",
            "Trainable params: 621\n",
            "Non-trainable params: 0\n",
            "_________________________________________________________________\n"
          ]
        }
      ]
    },
    {
      "cell_type": "markdown",
      "source": [
        "* Total params - total number of parameters\n",
        "* Trainable parameters - These are the learned parameters\n",
        "* Non-Trainable parameters - Aren't updated during learning, because of transfer learning"
      ],
      "metadata": {
        "id": "JdLiQDsy19gn"
      }
    },
    {
      "cell_type": "code",
      "source": [
        "from tensorflow.keras.utils import plot_model\n",
        "\n",
        "plot_model(model=model, show_shapes=True)"
      ],
      "metadata": {
        "colab": {
          "base_uri": "https://localhost:8080/",
          "height": 422
        },
        "id": "SL8zV6ZBg6-R",
        "outputId": "d98fd2c4-2637-433a-bac1-db6c4a4bd101"
      },
      "execution_count": null,
      "outputs": [
        {
          "output_type": "execute_result",
          "data": {
            "image/png": "[encoded data removed]",
            "text/plain": [
              "<IPython.core.display.Image object>"
            ]
          },
          "metadata": {},
          "execution_count": 22
        }
      ]
    },
    {
      "cell_type": "markdown",
      "source": [
        "### Visualize Predictions"
      ],
      "metadata": {
        "id": "s_B391BDhMiJ"
      }
    },
    {
      "cell_type": "code",
      "source": [
        "y_pred = model.predict(X_test)\n",
        "y_pred"
      ],
      "metadata": {
        "colab": {
          "base_uri": "https://localhost:8080/"
        },
        "id": "EiSqRXpIlBd2",
        "outputId": "ce86aa9c-c52a-4584-c83b-929145ef8179"
      },
      "execution_count": null,
      "outputs": [
        {
          "output_type": "execute_result",
          "data": {
            "text/plain": [
              "array([[ 69.34253 ],\n",
              "       [ 73.29599 ],\n",
              "       [ 77.24945 ],\n",
              "       [ 81.202896],\n",
              "       [ 85.15635 ],\n",
              "       [ 89.1098  ],\n",
              "       [ 93.06327 ],\n",
              "       [ 97.01672 ],\n",
              "       [100.97018 ],\n",
              "       [104.92363 ]], dtype=float32)"
            ]
          },
          "metadata": {},
          "execution_count": 23
        }
      ]
    },
    {
      "cell_type": "code",
      "source": [
        "# Plotting function\n",
        "def plot_pred(train_data=X_train,\n",
        "              train_labels=y_train,\n",
        "              test_data=X_test,\n",
        "              test_labels=y_test,\n",
        "              predictions=y_pred):\n",
        "    plt.figure(figsize=(10,7))\n",
        "    plt.scatter(train_data,train_labels, c='b', label='Training Data')\n",
        "    plt.scatter(test_data,test_labels, c='g', label='Testing Data')\n",
        "    plt.scatter(test_data, predictions, c='r', label='Predictions')\n",
        "    plt.legend()\n",
        "\n",
        "    plt.show()"
      ],
      "metadata": {
        "id": "4-0xZqyIlbCj"
      },
      "execution_count": null,
      "outputs": []
    },
    {
      "cell_type": "code",
      "source": [
        "plot_pred()"
      ],
      "metadata": {
        "colab": {
          "base_uri": "https://localhost:8080/",
          "height": 428
        },
        "id": "4ESMoQO_mya3",
        "outputId": "6d3be6b3-fabf-48bf-d614-20154fb88f02"
      },
      "execution_count": null,
      "outputs": [
        {
          "output_type": "display_data",
          "data": {
            "text/plain": [
              "<Figure size 720x504 with 1 Axes>"
            ],
            "image/png": "[encoded data removed]"
          },
          "metadata": {
            "needs_background": "light"
          }
        }
      ]
    },
    {
      "cell_type": "markdown",
      "source": [
        "### Evaluation of the Model with regression metrics\n",
        "\n",
        "* Mean Absolute Error\n",
        "* Mean Squared Error"
      ],
      "metadata": {
        "id": "2nmfZMPPm1Zh"
      }
    },
    {
      "cell_type": "code",
      "source": [
        "model.evaluate(X_test, y_test)"
      ],
      "metadata": {
        "colab": {
          "base_uri": "https://localhost:8080/"
        },
        "id": "q1s3aFmaoAdL",
        "outputId": "ac42ceff-bc5e-42ac-cdbe-a5c1ed0e1fe8"
      },
      "execution_count": null,
      "outputs": [
        {
          "output_type": "stream",
          "name": "stdout",
          "text": [
            "1/1 [==============================] - 0s 235ms/step - loss: 0.8669 - mae: 0.8669\n"
          ]
        },
        {
          "output_type": "execute_result",
          "data": {
            "text/plain": [
              "[0.8669158816337585, 0.8669158816337585]"
            ]
          },
          "metadata": {},
          "execution_count": 26
        }
      ]
    },
    {
      "cell_type": "code",
      "source": [
        "y_pred = tf.constant(tf.squeeze(y_pred))"
      ],
      "metadata": {
        "id": "naTTmpc_-RWT"
      },
      "execution_count": null,
      "outputs": []
    },
    {
      "cell_type": "code",
      "source": [
        "mae = tf.metrics.mean_absolute_error(y_test, y_pred)\n",
        "mae"
      ],
      "metadata": {
        "colab": {
          "base_uri": "https://localhost:8080/"
        },
        "id": "oHStaiWQ57uc",
        "outputId": "0ca39072-069e-460d-e6ae-d7fb11e1962d"
      },
      "execution_count": null,
      "outputs": [
        {
          "output_type": "execute_result",
          "data": {
            "text/plain": [
              "<tf.Tensor: shape=(), dtype=float32, numpy=0.8669182>"
            ]
          },
          "metadata": {},
          "execution_count": 28
        }
      ]
    },
    {
      "cell_type": "code",
      "source": [
        "mae1 = tf.keras.losses.MAE(y_test, tf.squeeze(y_pred))\n",
        "mae1"
      ],
      "metadata": {
        "colab": {
          "base_uri": "https://localhost:8080/"
        },
        "id": "lr34AfT5rzYZ",
        "outputId": "dd261d47-bdaa-48e4-ea03-0a2744c3a34e"
      },
      "execution_count": null,
      "outputs": [
        {
          "output_type": "execute_result",
          "data": {
            "text/plain": [
              "<tf.Tensor: shape=(), dtype=float32, numpy=0.8669182>"
            ]
          },
          "metadata": {},
          "execution_count": 29
        }
      ]
    },
    {
      "cell_type": "code",
      "source": [
        "y_test.shape, y_pred.shape"
      ],
      "metadata": {
        "colab": {
          "base_uri": "https://localhost:8080/"
        },
        "id": "AWWvdLFv61R0",
        "outputId": "b1e32eca-8793-4dfc-af64-e34be8f41d9c"
      },
      "execution_count": null,
      "outputs": [
        {
          "output_type": "execute_result",
          "data": {
            "text/plain": [
              "(TensorShape([10]), TensorShape([10]))"
            ]
          },
          "metadata": {},
          "execution_count": 30
        }
      ]
    },
    {
      "cell_type": "code",
      "source": [
        "mse = tf.metrics.mean_squared_error(y_test, y_pred)\n",
        "mse"
      ],
      "metadata": {
        "id": "dnrVLd-D8RXL",
        "colab": {
          "base_uri": "https://localhost:8080/"
        },
        "outputId": "ae95a40c-963a-484d-d0d7-e8a0fd7cdfc9"
      },
      "execution_count": null,
      "outputs": [
        {
          "output_type": "execute_result",
          "data": {
            "text/plain": [
              "<tf.Tensor: shape=(), dtype=float32, numpy=0.7694199>"
            ]
          },
          "metadata": {},
          "execution_count": 31
        }
      ]
    },
    {
      "cell_type": "code",
      "source": [
        "mse1 = tf.keras.losses.MSE(y_test, tf.squeeze(y_pred))\n",
        "mse1"
      ],
      "metadata": {
        "colab": {
          "base_uri": "https://localhost:8080/"
        },
        "id": "fa4qSFFkr7qD",
        "outputId": "3630d384-dae8-4fa3-b2aa-318a37d500f3"
      },
      "execution_count": null,
      "outputs": [
        {
          "output_type": "execute_result",
          "data": {
            "text/plain": [
              "<tf.Tensor: shape=(), dtype=float32, numpy=0.7694199>"
            ]
          },
          "metadata": {},
          "execution_count": 32
        }
      ]
    },
    {
      "cell_type": "code",
      "source": [
        "def mae(y_true, y_pred):\n",
        "    return tf.keras.losses.MAE(y_true=y_true, y_pred=tf.squeeze(y_pred))\n",
        "\n",
        "def mse(y_true, y_pred):\n",
        "    return tf.keras.losses.MSE(y_true=y_true, y_pred=tf.squeeze(y_pred))"
      ],
      "metadata": {
        "id": "fOJkzn3nsLj7"
      },
      "execution_count": null,
      "outputs": []
    },
    {
      "cell_type": "markdown",
      "source": [
        "### Running experiments to improve model\n",
        "* Get more data - more samples\n",
        "* Make your model larger\n",
        "* Train for longer"
      ],
      "metadata": {
        "id": "g86VNzW8tkM2"
      }
    },
    {
      "cell_type": "code",
      "source": [
        "X_train, y_train"
      ],
      "metadata": {
        "colab": {
          "base_uri": "https://localhost:8080/"
        },
        "id": "XJwuba1VtQcx",
        "outputId": "f9b420ec-8699-4e29-fffa-c4e789335884"
      },
      "execution_count": null,
      "outputs": [
        {
          "output_type": "execute_result",
          "data": {
            "text/plain": [
              "(<tf.Tensor: shape=(40,), dtype=int32, numpy=\n",
              " array([-100,  -96,  -92,  -88,  -84,  -80,  -76,  -72,  -68,  -64,  -60,\n",
              "         -56,  -52,  -48,  -44,  -40,  -36,  -32,  -28,  -24,  -20,  -16,\n",
              "         -12,   -8,   -4,    0,    4,    8,   12,   16,   20,   24,   28,\n",
              "          32,   36,   40,   44,   48,   52,   56], dtype=int32)>,\n",
              " <tf.Tensor: shape=(40,), dtype=int32, numpy=\n",
              " array([-90, -86, -82, -78, -74, -70, -66, -62, -58, -54, -50, -46, -42,\n",
              "        -38, -34, -30, -26, -22, -18, -14, -10,  -6,  -2,   2,   6,  10,\n",
              "         14,  18,  22,  26,  30,  34,  38,  42,  46,  50,  54,  58,  62,\n",
              "         66], dtype=int32)>)"
            ]
          },
          "metadata": {},
          "execution_count": 34
        }
      ]
    },
    {
      "cell_type": "markdown",
      "source": [
        "Experiments-\n",
        "1. `model_1` 1 layer 100 epochs\n",
        "2. `model_2` 2 layer 100 epochs (3,1) nodes\n",
        "3. `model_3` 2 layer 500 epochs (3,1)"
      ],
      "metadata": {
        "id": "HcnawLWEt_04"
      }
    },
    {
      "cell_type": "markdown",
      "source": [
        "#### Model 1"
      ],
      "metadata": {
        "id": "aAOpFPXuuRBH"
      }
    },
    {
      "cell_type": "code",
      "source": [
        "tf.random.set_seed(1)\n",
        "\n",
        "model_1 = tf.keras.Sequential([\n",
        "    tf.keras.layers.Dense(1)\n",
        "])\n",
        "\n",
        "model_1.compile(loss=tf.keras.losses.mae,\n",
        "                optimizer=tf.keras.optimizers.SGD(),\n",
        "                metrics=['mae'])\n",
        "\n",
        "model_1.fit(tf.expand_dims(X_train, axis=-1), y_train, epochs=100)"
      ],
      "metadata": {
        "colab": {
          "base_uri": "https://localhost:8080/"
        },
        "id": "p979Fzsfthtu",
        "outputId": "a412b8fa-a18c-4bdf-c06b-0bd9be0eca12"
      },
      "execution_count": null,
      "outputs": [
        {
          "output_type": "stream",
          "name": "stdout",
          "text": [
            "Epoch 1/100\n",
            "2/2 [==============================] - 1s 11ms/step - loss: 87.2448 - mae: 87.2448\n",
            "Epoch 2/100\n",
            "2/2 [==============================] - 0s 9ms/step - loss: 52.9342 - mae: 52.9342\n",
            "Epoch 3/100\n",
            "2/2 [==============================] - 0s 9ms/step - loss: 18.8508 - mae: 18.8508\n",
            "Epoch 4/100\n",
            "2/2 [==============================] - 0s 9ms/step - loss: 15.8687 - mae: 15.8687\n",
            "Epoch 5/100\n",
            "2/2 [==============================] - 0s 7ms/step - loss: 12.5717 - mae: 12.5717\n",
            "Epoch 6/100\n",
            "2/2 [==============================] - 0s 7ms/step - loss: 20.1515 - mae: 20.1515\n",
            "Epoch 7/100\n",
            "2/2 [==============================] - 0s 7ms/step - loss: 12.3337 - mae: 12.3337\n",
            "Epoch 8/100\n",
            "2/2 [==============================] - 0s 7ms/step - loss: 10.6092 - mae: 10.6092\n",
            "Epoch 9/100\n",
            "2/2 [==============================] - 0s 9ms/step - loss: 10.2316 - mae: 10.2316\n",
            "Epoch 10/100\n",
            "2/2 [==============================] - 0s 16ms/step - loss: 8.8841 - mae: 8.8841\n",
            "Epoch 11/100\n",
            "2/2 [==============================] - 0s 4ms/step - loss: 8.8065 - mae: 8.8065\n",
            "Epoch 12/100\n",
            "2/2 [==============================] - 0s 9ms/step - loss: 8.0436 - mae: 8.0436\n",
            "Epoch 13/100\n",
            "2/2 [==============================] - 0s 5ms/step - loss: 8.9070 - mae: 8.9070\n",
            "Epoch 14/100\n",
            "2/2 [==============================] - 0s 8ms/step - loss: 9.7874 - mae: 9.7874\n",
            "Epoch 15/100\n",
            "2/2 [==============================] - 0s 6ms/step - loss: 10.3370 - mae: 10.3370\n",
            "Epoch 16/100\n",
            "2/2 [==============================] - 0s 8ms/step - loss: 9.4269 - mae: 9.4269\n",
            "Epoch 17/100\n",
            "2/2 [==============================] - 0s 11ms/step - loss: 16.8119 - mae: 16.8119\n",
            "Epoch 18/100\n",
            "2/2 [==============================] - 0s 5ms/step - loss: 10.8552 - mae: 10.8552\n",
            "Epoch 19/100\n",
            "2/2 [==============================] - 0s 4ms/step - loss: 9.1626 - mae: 9.1626\n",
            "Epoch 20/100\n",
            "2/2 [==============================] - 0s 4ms/step - loss: 10.1594 - mae: 10.1594\n",
            "Epoch 21/100\n",
            "2/2 [==============================] - 0s 3ms/step - loss: 16.0601 - mae: 16.0601\n",
            "Epoch 22/100\n",
            "2/2 [==============================] - 0s 3ms/step - loss: 10.4512 - mae: 10.4512\n",
            "Epoch 23/100\n",
            "2/2 [==============================] - 0s 3ms/step - loss: 9.0772 - mae: 9.0772\n",
            "Epoch 24/100\n",
            "2/2 [==============================] - 0s 5ms/step - loss: 15.3829 - mae: 15.3829\n",
            "Epoch 25/100\n",
            "2/2 [==============================] - 0s 13ms/step - loss: 12.1735 - mae: 12.1735\n",
            "Epoch 26/100\n",
            "2/2 [==============================] - 0s 4ms/step - loss: 9.8523 - mae: 9.8523\n",
            "Epoch 27/100\n",
            "2/2 [==============================] - 0s 5ms/step - loss: 9.4254 - mae: 9.4254\n",
            "Epoch 28/100\n",
            "2/2 [==============================] - 0s 6ms/step - loss: 10.3290 - mae: 10.3290\n",
            "Epoch 29/100\n",
            "2/2 [==============================] - 0s 5ms/step - loss: 9.5061 - mae: 9.5061\n",
            "Epoch 30/100\n",
            "2/2 [==============================] - 0s 15ms/step - loss: 11.1408 - mae: 11.1408\n",
            "Epoch 31/100\n",
            "2/2 [==============================] - 0s 4ms/step - loss: 12.4761 - mae: 12.4761\n",
            "Epoch 32/100\n",
            "2/2 [==============================] - 0s 27ms/step - loss: 8.8699 - mae: 8.8699\n",
            "Epoch 33/100\n",
            "2/2 [==============================] - 0s 20ms/step - loss: 19.9243 - mae: 19.9243\n",
            "Epoch 34/100\n",
            "2/2 [==============================] - 0s 4ms/step - loss: 11.0666 - mae: 11.0666\n",
            "Epoch 35/100\n",
            "2/2 [==============================] - 0s 12ms/step - loss: 8.2905 - mae: 8.2905\n",
            "Epoch 36/100\n",
            "2/2 [==============================] - 0s 20ms/step - loss: 9.3439 - mae: 9.3439\n",
            "Epoch 37/100\n",
            "2/2 [==============================] - 0s 6ms/step - loss: 7.8341 - mae: 7.8341\n",
            "Epoch 38/100\n",
            "2/2 [==============================] - 0s 4ms/step - loss: 9.9123 - mae: 9.9123\n",
            "Epoch 39/100\n",
            "2/2 [==============================] - 0s 6ms/step - loss: 9.7806 - mae: 9.7806\n",
            "Epoch 40/100\n",
            "2/2 [==============================] - 0s 6ms/step - loss: 7.6813 - mae: 7.6813\n",
            "Epoch 41/100\n",
            "2/2 [==============================] - 0s 6ms/step - loss: 11.7645 - mae: 11.7645\n",
            "Epoch 42/100\n",
            "2/2 [==============================] - 0s 4ms/step - loss: 13.0928 - mae: 13.0928\n",
            "Epoch 43/100\n",
            "2/2 [==============================] - 0s 4ms/step - loss: 7.8593 - mae: 7.8593\n",
            "Epoch 44/100\n",
            "2/2 [==============================] - 0s 4ms/step - loss: 10.7396 - mae: 10.7396\n",
            "Epoch 45/100\n",
            "2/2 [==============================] - 0s 4ms/step - loss: 7.2068 - mae: 7.2068\n",
            "Epoch 46/100\n",
            "2/2 [==============================] - 0s 5ms/step - loss: 11.8058 - mae: 11.8058\n",
            "Epoch 47/100\n",
            "2/2 [==============================] - 0s 5ms/step - loss: 14.1865 - mae: 14.1865\n",
            "Epoch 48/100\n",
            "2/2 [==============================] - 0s 6ms/step - loss: 10.9498 - mae: 10.9498\n",
            "Epoch 49/100\n",
            "2/2 [==============================] - 0s 4ms/step - loss: 13.1444 - mae: 13.1444\n",
            "Epoch 50/100\n",
            "2/2 [==============================] - 0s 6ms/step - loss: 8.8278 - mae: 8.8278\n",
            "Epoch 51/100\n",
            "2/2 [==============================] - 0s 10ms/step - loss: 8.5909 - mae: 8.5909\n",
            "Epoch 52/100\n",
            "2/2 [==============================] - 0s 8ms/step - loss: 10.1109 - mae: 10.1109\n",
            "Epoch 53/100\n",
            "2/2 [==============================] - 0s 6ms/step - loss: 9.0705 - mae: 9.0705\n",
            "Epoch 54/100\n",
            "2/2 [==============================] - 0s 8ms/step - loss: 8.5923 - mae: 8.5923\n",
            "Epoch 55/100\n",
            "2/2 [==============================] - 0s 6ms/step - loss: 8.6069 - mae: 8.6069\n",
            "Epoch 56/100\n",
            "2/2 [==============================] - 0s 6ms/step - loss: 10.9814 - mae: 10.9814\n",
            "Epoch 57/100\n",
            "2/2 [==============================] - 0s 3ms/step - loss: 13.9873 - mae: 13.9873\n",
            "Epoch 58/100\n",
            "2/2 [==============================] - 0s 7ms/step - loss: 10.8955 - mae: 10.8955\n",
            "Epoch 59/100\n",
            "2/2 [==============================] - 0s 7ms/step - loss: 13.3564 - mae: 13.3564\n",
            "Epoch 60/100\n",
            "2/2 [==============================] - 0s 7ms/step - loss: 11.8302 - mae: 11.8302\n",
            "Epoch 61/100\n",
            "2/2 [==============================] - 0s 4ms/step - loss: 8.6844 - mae: 8.6844\n",
            "Epoch 62/100\n",
            "2/2 [==============================] - 0s 4ms/step - loss: 14.3449 - mae: 14.3449\n",
            "Epoch 63/100\n",
            "2/2 [==============================] - 0s 4ms/step - loss: 17.2231 - mae: 17.2231\n",
            "Epoch 64/100\n",
            "2/2 [==============================] - 0s 4ms/step - loss: 12.0096 - mae: 12.0096\n",
            "Epoch 65/100\n",
            "2/2 [==============================] - 0s 4ms/step - loss: 10.4712 - mae: 10.4712\n",
            "Epoch 66/100\n",
            "2/2 [==============================] - 0s 4ms/step - loss: 14.9270 - mae: 14.9270\n",
            "Epoch 67/100\n",
            "2/2 [==============================] - 0s 4ms/step - loss: 10.4244 - mae: 10.4244\n",
            "Epoch 68/100\n",
            "2/2 [==============================] - 0s 7ms/step - loss: 11.8753 - mae: 11.8753\n",
            "Epoch 69/100\n",
            "2/2 [==============================] - 0s 5ms/step - loss: 13.3746 - mae: 13.3746\n",
            "Epoch 70/100\n",
            "2/2 [==============================] - 0s 6ms/step - loss: 12.1266 - mae: 12.1266\n",
            "Epoch 71/100\n",
            "2/2 [==============================] - 0s 4ms/step - loss: 9.7409 - mae: 9.7409\n",
            "Epoch 72/100\n",
            "2/2 [==============================] - 0s 4ms/step - loss: 10.3200 - mae: 10.3200\n",
            "Epoch 73/100\n",
            "2/2 [==============================] - 0s 4ms/step - loss: 12.9639 - mae: 12.9639\n",
            "Epoch 74/100\n",
            "2/2 [==============================] - 0s 6ms/step - loss: 16.6208 - mae: 16.6208\n",
            "Epoch 75/100\n",
            "2/2 [==============================] - 0s 6ms/step - loss: 14.4262 - mae: 14.4262\n",
            "Epoch 76/100\n",
            "2/2 [==============================] - 0s 14ms/step - loss: 12.0775 - mae: 12.0775\n",
            "Epoch 77/100\n",
            "2/2 [==============================] - 0s 6ms/step - loss: 10.4685 - mae: 10.4685\n",
            "Epoch 78/100\n",
            "2/2 [==============================] - 0s 6ms/step - loss: 9.6873 - mae: 9.6873\n",
            "Epoch 79/100\n",
            "2/2 [==============================] - 0s 4ms/step - loss: 8.5700 - mae: 8.5700\n",
            "Epoch 80/100\n",
            "2/2 [==============================] - 0s 6ms/step - loss: 16.5125 - mae: 16.5125\n",
            "Epoch 81/100\n",
            "2/2 [==============================] - 0s 6ms/step - loss: 8.6029 - mae: 8.6029\n",
            "Epoch 82/100\n",
            "2/2 [==============================] - 0s 6ms/step - loss: 9.3129 - mae: 9.3129\n",
            "Epoch 83/100\n",
            "2/2 [==============================] - 0s 6ms/step - loss: 12.5620 - mae: 12.5620\n",
            "Epoch 84/100\n",
            "2/2 [==============================] - 0s 5ms/step - loss: 14.2410 - mae: 14.2410\n",
            "Epoch 85/100\n",
            "2/2 [==============================] - 0s 19ms/step - loss: 8.5180 - mae: 8.5180\n",
            "Epoch 86/100\n",
            "2/2 [==============================] - 0s 16ms/step - loss: 8.1716 - mae: 8.1716\n",
            "Epoch 87/100\n",
            "2/2 [==============================] - 0s 15ms/step - loss: 10.1374 - mae: 10.1374\n",
            "Epoch 88/100\n",
            "2/2 [==============================] - 0s 12ms/step - loss: 8.5841 - mae: 8.5841\n",
            "Epoch 89/100\n",
            "2/2 [==============================] - 0s 4ms/step - loss: 9.5222 - mae: 9.5222\n",
            "Epoch 90/100\n",
            "2/2 [==============================] - 0s 5ms/step - loss: 10.9282 - mae: 10.9282\n",
            "Epoch 91/100\n",
            "2/2 [==============================] - 0s 15ms/step - loss: 7.8725 - mae: 7.8725\n",
            "Epoch 92/100\n",
            "2/2 [==============================] - 0s 5ms/step - loss: 20.6683 - mae: 20.6683\n",
            "Epoch 93/100\n",
            "2/2 [==============================] - 0s 5ms/step - loss: 8.2360 - mae: 8.2360\n",
            "Epoch 94/100\n",
            "2/2 [==============================] - 0s 10ms/step - loss: 9.0188 - mae: 9.0188\n",
            "Epoch 95/100\n",
            "2/2 [==============================] - 0s 15ms/step - loss: 11.4313 - mae: 11.4313\n",
            "Epoch 96/100\n",
            "2/2 [==============================] - 0s 5ms/step - loss: 8.8602 - mae: 8.8602\n",
            "Epoch 97/100\n",
            "2/2 [==============================] - 0s 7ms/step - loss: 9.0223 - mae: 9.0223\n",
            "Epoch 98/100\n",
            "2/2 [==============================] - 0s 7ms/step - loss: 8.3670 - mae: 8.3670\n",
            "Epoch 99/100\n",
            "2/2 [==============================] - 0s 7ms/step - loss: 8.0699 - mae: 8.0699\n",
            "Epoch 100/100\n",
            "2/2 [==============================] - 0s 5ms/step - loss: 9.9062 - mae: 9.9062\n"
          ]
        },
        {
          "output_type": "execute_result",
          "data": {
            "text/plain": [
              "<keras.callbacks.History at 0x7f5f19b43310>"
            ]
          },
          "metadata": {},
          "execution_count": 35
        }
      ]
    },
    {
      "cell_type": "code",
      "source": [
        "# Predict and Plot\n",
        "y_pred1 = model_1.predict(y_test)\n",
        "plot_pred(predictions=y_pred1)"
      ],
      "metadata": {
        "id": "-0YwL_O2utNK",
        "colab": {
          "base_uri": "https://localhost:8080/",
          "height": 428
        },
        "outputId": "32bf5602-9d1d-4490-cee5-0018a6d7690c"
      },
      "execution_count": null,
      "outputs": [
        {
          "output_type": "display_data",
          "data": {
            "text/plain": [
              "<Figure size 720x504 with 1 Axes>"
            ],
            "image/png": "[encoded data removed]"
          },
          "metadata": {
            "needs_background": "light"
          }
        }
      ]
    },
    {
      "cell_type": "code",
      "source": [
        "y_pred1"
      ],
      "metadata": {
        "colab": {
          "base_uri": "https://localhost:8080/"
        },
        "id": "JE43F9FSv-c-",
        "outputId": "fc2b6644-3616-492f-b530-270ae3818807"
      },
      "execution_count": null,
      "outputs": [
        {
          "output_type": "execute_result",
          "data": {
            "text/plain": [
              "array([[ 71.186646],\n",
              "       [ 75.18156 ],\n",
              "       [ 79.176476],\n",
              "       [ 83.17139 ],\n",
              "       [ 87.166306],\n",
              "       [ 91.16122 ],\n",
              "       [ 95.156136],\n",
              "       [ 99.151054],\n",
              "       [103.145966],\n",
              "       [107.140884]], dtype=float32)"
            ]
          },
          "metadata": {},
          "execution_count": 37
        }
      ]
    },
    {
      "cell_type": "code",
      "source": [
        "mae1 = mae(y_test, y_pred1)\n",
        "mse1 = mse(y_test, y_pred1)\n",
        "mae1, mse1"
      ],
      "metadata": {
        "colab": {
          "base_uri": "https://localhost:8080/"
        },
        "id": "GVZ-bdMUwqdw",
        "outputId": "c4b6787b-0cab-4e5f-aab9-aed95614993a"
      },
      "execution_count": null,
      "outputs": [
        {
          "output_type": "execute_result",
          "data": {
            "text/plain": [
              "(<tf.Tensor: shape=(), dtype=float32, numpy=1.1637627>,\n",
              " <tf.Tensor: shape=(), dtype=float32, numpy=1.3545568>)"
            ]
          },
          "metadata": {},
          "execution_count": 38
        }
      ]
    },
    {
      "cell_type": "markdown",
      "source": [
        "#### Model 2"
      ],
      "metadata": {
        "id": "9o_rNqJkydmk"
      }
    },
    {
      "cell_type": "code",
      "source": [
        "tf.random.set_seed(1)\n",
        "\n",
        "model_2 = tf.keras.Sequential([\n",
        "    tf.keras.layers.Dense(3),\n",
        "    tf.keras.layers.Dense(1)\n",
        "])\n",
        "\n",
        "model_2.compile(loss=tf.keras.losses.mae,\n",
        "                optimizer=tf.keras.optimizers.SGD(),\n",
        "                metrics=['mae'])\n",
        "\n",
        "model_2.fit(tf.expand_dims(X_train, axis=-1), y_train, epochs=100)"
      ],
      "metadata": {
        "colab": {
          "base_uri": "https://localhost:8080/"
        },
        "id": "Srp4BQDxwcIn",
        "outputId": "1d59e052-802a-4f8d-97ad-7090498bbef6"
      },
      "execution_count": null,
      "outputs": [
        {
          "output_type": "stream",
          "name": "stdout",
          "text": [
            "Epoch 1/100\n",
            "2/2 [==============================] - 1s 7ms/step - loss: 45.3979 - mae: 45.3979\n",
            "Epoch 2/100\n",
            "2/2 [==============================] - 0s 5ms/step - loss: 17.0609 - mae: 17.0609\n",
            "Epoch 3/100\n",
            "2/2 [==============================] - 0s 3ms/step - loss: 7.9714 - mae: 7.9714\n",
            "Epoch 4/100\n",
            "2/2 [==============================] - 0s 4ms/step - loss: 39.0158 - mae: 39.0158\n",
            "Epoch 5/100\n",
            "2/2 [==============================] - 0s 5ms/step - loss: 22.7413 - mae: 22.7413\n",
            "Epoch 6/100\n",
            "2/2 [==============================] - 0s 5ms/step - loss: 26.5404 - mae: 26.5404\n",
            "Epoch 7/100\n",
            "2/2 [==============================] - 0s 4ms/step - loss: 13.7465 - mae: 13.7465\n",
            "Epoch 8/100\n",
            "2/2 [==============================] - 0s 5ms/step - loss: 11.1205 - mae: 11.1205\n",
            "Epoch 9/100\n",
            "2/2 [==============================] - 0s 5ms/step - loss: 9.3578 - mae: 9.3578\n",
            "Epoch 10/100\n",
            "2/2 [==============================] - 0s 4ms/step - loss: 9.6660 - mae: 9.6660\n",
            "Epoch 11/100\n",
            "2/2 [==============================] - 0s 4ms/step - loss: 11.5666 - mae: 11.5666\n",
            "Epoch 12/100\n",
            "2/2 [==============================] - 0s 12ms/step - loss: 11.4597 - mae: 11.4597\n",
            "Epoch 13/100\n",
            "2/2 [==============================] - 0s 18ms/step - loss: 12.3212 - mae: 12.3212\n",
            "Epoch 14/100\n",
            "2/2 [==============================] - 0s 5ms/step - loss: 18.2769 - mae: 18.2769\n",
            "Epoch 15/100\n",
            "2/2 [==============================] - 0s 5ms/step - loss: 10.8234 - mae: 10.8234\n",
            "Epoch 16/100\n",
            "2/2 [==============================] - 0s 6ms/step - loss: 17.7755 - mae: 17.7755\n",
            "Epoch 17/100\n",
            "2/2 [==============================] - 0s 7ms/step - loss: 24.3233 - mae: 24.3233\n",
            "Epoch 18/100\n",
            "2/2 [==============================] - 0s 13ms/step - loss: 11.5832 - mae: 11.5832\n",
            "Epoch 19/100\n",
            "2/2 [==============================] - 0s 5ms/step - loss: 10.6099 - mae: 10.6099\n",
            "Epoch 20/100\n",
            "2/2 [==============================] - 0s 8ms/step - loss: 11.4154 - mae: 11.4154\n",
            "Epoch 21/100\n",
            "2/2 [==============================] - 0s 15ms/step - loss: 25.6755 - mae: 25.6755\n",
            "Epoch 22/100\n",
            "2/2 [==============================] - 0s 4ms/step - loss: 20.1145 - mae: 20.1145\n",
            "Epoch 23/100\n",
            "2/2 [==============================] - 0s 5ms/step - loss: 10.7250 - mae: 10.7250\n",
            "Epoch 24/100\n",
            "2/2 [==============================] - 0s 4ms/step - loss: 25.8874 - mae: 25.8874\n",
            "Epoch 25/100\n",
            "2/2 [==============================] - 0s 6ms/step - loss: 12.5248 - mae: 12.5248\n",
            "Epoch 26/100\n",
            "2/2 [==============================] - 0s 3ms/step - loss: 13.9853 - mae: 13.9853\n",
            "Epoch 27/100\n",
            "2/2 [==============================] - 0s 4ms/step - loss: 10.2483 - mae: 10.2483\n",
            "Epoch 28/100\n",
            "2/2 [==============================] - 0s 6ms/step - loss: 7.3931 - mae: 7.3931\n",
            "Epoch 29/100\n",
            "2/2 [==============================] - 0s 5ms/step - loss: 11.2379 - mae: 11.2379\n",
            "Epoch 30/100\n",
            "2/2 [==============================] - 0s 4ms/step - loss: 20.3001 - mae: 20.3001\n",
            "Epoch 31/100\n",
            "2/2 [==============================] - 0s 3ms/step - loss: 13.9369 - mae: 13.9369\n",
            "Epoch 32/100\n",
            "2/2 [==============================] - 0s 10ms/step - loss: 10.7184 - mae: 10.7184\n",
            "Epoch 33/100\n",
            "2/2 [==============================] - 0s 10ms/step - loss: 31.5411 - mae: 31.5411\n",
            "Epoch 34/100\n",
            "2/2 [==============================] - 0s 4ms/step - loss: 10.0641 - mae: 10.0641\n",
            "Epoch 35/100\n",
            "2/2 [==============================] - 0s 5ms/step - loss: 14.9088 - mae: 14.9088\n",
            "Epoch 36/100\n",
            "2/2 [==============================] - 0s 4ms/step - loss: 20.3578 - mae: 20.3578\n",
            "Epoch 37/100\n",
            "2/2 [==============================] - 0s 7ms/step - loss: 14.4567 - mae: 14.4567\n",
            "Epoch 38/100\n",
            "2/2 [==============================] - 0s 4ms/step - loss: 9.7286 - mae: 9.7286\n",
            "Epoch 39/100\n",
            "2/2 [==============================] - 0s 3ms/step - loss: 9.6673 - mae: 9.6673\n",
            "Epoch 40/100\n",
            "2/2 [==============================] - 0s 4ms/step - loss: 7.5092 - mae: 7.5092\n",
            "Epoch 41/100\n",
            "2/2 [==============================] - 0s 4ms/step - loss: 22.8087 - mae: 22.8087\n",
            "Epoch 42/100\n",
            "2/2 [==============================] - 0s 4ms/step - loss: 25.1617 - mae: 25.1617\n",
            "Epoch 43/100\n",
            "2/2 [==============================] - 0s 4ms/step - loss: 12.2558 - mae: 12.2558\n",
            "Epoch 44/100\n",
            "2/2 [==============================] - 0s 4ms/step - loss: 19.4648 - mae: 19.4648\n",
            "Epoch 45/100\n",
            "2/2 [==============================] - 0s 4ms/step - loss: 23.3657 - mae: 23.3657\n",
            "Epoch 46/100\n",
            "2/2 [==============================] - 0s 4ms/step - loss: 15.3870 - mae: 15.3870\n",
            "Epoch 47/100\n",
            "2/2 [==============================] - 0s 7ms/step - loss: 12.1614 - mae: 12.1614\n",
            "Epoch 48/100\n",
            "2/2 [==============================] - 0s 5ms/step - loss: 15.6806 - mae: 15.6806\n",
            "Epoch 49/100\n",
            "2/2 [==============================] - 0s 4ms/step - loss: 11.4262 - mae: 11.4262\n",
            "Epoch 50/100\n",
            "2/2 [==============================] - 0s 4ms/step - loss: 16.4644 - mae: 16.4644\n",
            "Epoch 51/100\n",
            "2/2 [==============================] - 0s 8ms/step - loss: 13.9958 - mae: 13.9958\n",
            "Epoch 52/100\n",
            "2/2 [==============================] - 0s 6ms/step - loss: 23.8483 - mae: 23.8483\n",
            "Epoch 53/100\n",
            "2/2 [==============================] - 0s 6ms/step - loss: 11.4839 - mae: 11.4839\n",
            "Epoch 54/100\n",
            "2/2 [==============================] - 0s 7ms/step - loss: 12.2946 - mae: 12.2946\n",
            "Epoch 55/100\n",
            "2/2 [==============================] - 0s 4ms/step - loss: 10.8014 - mae: 10.8014\n",
            "Epoch 56/100\n",
            "2/2 [==============================] - 0s 4ms/step - loss: 20.0269 - mae: 20.0269\n",
            "Epoch 57/100\n",
            "2/2 [==============================] - 0s 8ms/step - loss: 11.6903 - mae: 11.6903\n",
            "Epoch 58/100\n",
            "2/2 [==============================] - 0s 4ms/step - loss: 8.3400 - mae: 8.3400\n",
            "Epoch 59/100\n",
            "2/2 [==============================] - 0s 4ms/step - loss: 15.9175 - mae: 15.9175\n",
            "Epoch 60/100\n",
            "2/2 [==============================] - 0s 4ms/step - loss: 17.2153 - mae: 17.2153\n",
            "Epoch 61/100\n",
            "2/2 [==============================] - 0s 4ms/step - loss: 10.8181 - mae: 10.8181\n",
            "Epoch 62/100\n",
            "2/2 [==============================] - 0s 4ms/step - loss: 25.5158 - mae: 25.5158\n",
            "Epoch 63/100\n",
            "2/2 [==============================] - 0s 4ms/step - loss: 15.5527 - mae: 15.5527\n",
            "Epoch 64/100\n",
            "2/2 [==============================] - 0s 4ms/step - loss: 10.6890 - mae: 10.6890\n",
            "Epoch 65/100\n",
            "2/2 [==============================] - 0s 4ms/step - loss: 8.7146 - mae: 8.7146\n",
            "Epoch 66/100\n",
            "2/2 [==============================] - 0s 4ms/step - loss: 17.0389 - mae: 17.0389\n",
            "Epoch 67/100\n",
            "2/2 [==============================] - 0s 4ms/step - loss: 14.9022 - mae: 14.9022\n",
            "Epoch 68/100\n",
            "2/2 [==============================] - 0s 4ms/step - loss: 19.8996 - mae: 19.8996\n",
            "Epoch 69/100\n",
            "2/2 [==============================] - 0s 9ms/step - loss: 36.3103 - mae: 36.3103\n",
            "Epoch 70/100\n",
            "2/2 [==============================] - 0s 4ms/step - loss: 8.0076 - mae: 8.0076\n",
            "Epoch 71/100\n",
            "2/2 [==============================] - 0s 4ms/step - loss: 7.7412 - mae: 7.7412\n",
            "Epoch 72/100\n",
            "2/2 [==============================] - 0s 4ms/step - loss: 13.8450 - mae: 13.8450\n",
            "Epoch 73/100\n",
            "2/2 [==============================] - 0s 4ms/step - loss: 16.8754 - mae: 16.8754\n",
            "Epoch 74/100\n",
            "2/2 [==============================] - 0s 4ms/step - loss: 20.4452 - mae: 20.4452\n",
            "Epoch 75/100\n",
            "2/2 [==============================] - 0s 4ms/step - loss: 19.5220 - mae: 19.5220\n",
            "Epoch 76/100\n",
            "2/2 [==============================] - 0s 3ms/step - loss: 9.0274 - mae: 9.0274\n",
            "Epoch 77/100\n",
            "2/2 [==============================] - 0s 4ms/step - loss: 20.3366 - mae: 20.3366\n",
            "Epoch 78/100\n",
            "2/2 [==============================] - 0s 4ms/step - loss: 10.4952 - mae: 10.4952\n",
            "Epoch 79/100\n",
            "2/2 [==============================] - 0s 4ms/step - loss: 10.3399 - mae: 10.3399\n",
            "Epoch 80/100\n",
            "2/2 [==============================] - 0s 4ms/step - loss: 27.4010 - mae: 27.4010\n",
            "Epoch 81/100\n",
            "2/2 [==============================] - 0s 8ms/step - loss: 9.9558 - mae: 9.9558\n",
            "Epoch 82/100\n",
            "2/2 [==============================] - 0s 6ms/step - loss: 11.4710 - mae: 11.4710\n",
            "Epoch 83/100\n",
            "2/2 [==============================] - 0s 7ms/step - loss: 18.1318 - mae: 18.1318\n",
            "Epoch 84/100\n",
            "2/2 [==============================] - 0s 4ms/step - loss: 7.5596 - mae: 7.5596\n",
            "Epoch 85/100\n",
            "2/2 [==============================] - 0s 4ms/step - loss: 18.6807 - mae: 18.6807\n",
            "Epoch 86/100\n",
            "2/2 [==============================] - 0s 4ms/step - loss: 9.1214 - mae: 9.1214\n",
            "Epoch 87/100\n",
            "2/2 [==============================] - 0s 4ms/step - loss: 14.7264 - mae: 14.7264\n",
            "Epoch 88/100\n",
            "2/2 [==============================] - 0s 4ms/step - loss: 19.5913 - mae: 19.5913\n",
            "Epoch 89/100\n",
            "2/2 [==============================] - 0s 4ms/step - loss: 6.8738 - mae: 6.8738\n",
            "Epoch 90/100\n",
            "2/2 [==============================] - 0s 4ms/step - loss: 9.2138 - mae: 9.2138\n",
            "Epoch 91/100\n",
            "2/2 [==============================] - 0s 5ms/step - loss: 15.1880 - mae: 15.1880\n",
            "Epoch 92/100\n",
            "2/2 [==============================] - 0s 6ms/step - loss: 32.1272 - mae: 32.1272\n",
            "Epoch 93/100\n",
            "2/2 [==============================] - 0s 6ms/step - loss: 11.5145 - mae: 11.5145\n",
            "Epoch 94/100\n",
            "2/2 [==============================] - 0s 4ms/step - loss: 18.4663 - mae: 18.4663\n",
            "Epoch 95/100\n",
            "2/2 [==============================] - 0s 4ms/step - loss: 17.4891 - mae: 17.4891\n",
            "Epoch 96/100\n",
            "2/2 [==============================] - 0s 5ms/step - loss: 12.5958 - mae: 12.5958\n",
            "Epoch 97/100\n",
            "2/2 [==============================] - 0s 4ms/step - loss: 19.0921 - mae: 19.0921\n",
            "Epoch 98/100\n",
            "2/2 [==============================] - 0s 11ms/step - loss: 24.8840 - mae: 24.8840\n",
            "Epoch 99/100\n",
            "2/2 [==============================] - 0s 3ms/step - loss: 12.8947 - mae: 12.8947\n",
            "Epoch 100/100\n",
            "2/2 [==============================] - 0s 4ms/step - loss: 11.6186 - mae: 11.6186\n"
          ]
        },
        {
          "output_type": "execute_result",
          "data": {
            "text/plain": [
              "<keras.callbacks.History at 0x7f5f1973efd0>"
            ]
          },
          "metadata": {},
          "execution_count": 39
        }
      ]
    },
    {
      "cell_type": "code",
      "source": [
        "y_pred2 = model_2.predict(X_test)\n",
        "plot_pred(predictions=y_pred2)"
      ],
      "metadata": {
        "colab": {
          "base_uri": "https://localhost:8080/",
          "height": 466
        },
        "id": "37hRIZMw09KT",
        "outputId": "e7c0318d-1b7f-46b8-a88b-7bb4d4c4c2ba"
      },
      "execution_count": null,
      "outputs": [
        {
          "output_type": "stream",
          "name": "stderr",
          "text": [
            "WARNING:tensorflow:5 out of the last 5 calls to <function Model.make_predict_function.<locals>.predict_function at 0x7f5f1970d200> triggered tf.function retracing. Tracing is expensive and the excessive number of tracings could be due to (1) creating @tf.function repeatedly in a loop, (2) passing tensors with different shapes, (3) passing Python objects instead of tensors. For (1), please define your @tf.function outside of the loop. For (2), @tf.function has experimental_relax_shapes=True option that relaxes argument shapes that can avoid unnecessary retracing. For (3), please refer to https://www.tensorflow.org/guide/function#controlling_retracing and https://www.tensorflow.org/api_docs/python/tf/function for  more details.\n"
          ]
        },
        {
          "output_type": "display_data",
          "data": {
            "text/plain": [
              "<Figure size 720x504 with 1 Axes>"
            ],
            "image/png": "[encoded data removed]"
          },
          "metadata": {
            "needs_background": "light"
          }
        }
      ]
    },
    {
      "cell_type": "code",
      "source": [
        "mae2 = mae(y_test, y_pred2)\n",
        "mse2 = mse(y_test, y_pred2)\n",
        "mae2, mse2"
      ],
      "metadata": {
        "colab": {
          "base_uri": "https://localhost:8080/"
        },
        "id": "hDRFoNKs6Bvo",
        "outputId": "7dfd9dbd-d141-4131-d169-97a63d8230b9"
      },
      "execution_count": null,
      "outputs": [
        {
          "output_type": "execute_result",
          "data": {
            "text/plain": [
              "(<tf.Tensor: shape=(), dtype=float32, numpy=10.970955>,\n",
              " <tf.Tensor: shape=(), dtype=float32, numpy=120.50609>)"
            ]
          },
          "metadata": {},
          "execution_count": 41
        }
      ]
    },
    {
      "cell_type": "markdown",
      "source": [
        "#### Model 3"
      ],
      "metadata": {
        "id": "pbcFUcp987zJ"
      }
    },
    {
      "cell_type": "code",
      "source": [
        "model_3 = tf.keras.Sequential([\n",
        "    tf.keras.layers.Dense(3),\n",
        "    tf.keras.layers.Dense(1)\n",
        "])\n",
        "\n",
        "model_3.compile(loss=tf.keras.losses.mae,\n",
        "                optimizer=tf.keras.optimizers.SGD(),\n",
        "                metrics=['mae'])\n",
        "\n",
        "model_3.fit(tf.expand_dims(X_train, axis=-1), y_train, epochs=500)"
      ],
      "metadata": {
        "colab": {
          "base_uri": "https://localhost:8080/"
        },
        "id": "6U9Q-MOq1uu-",
        "outputId": "6664c2a5-ba0f-4528-c5b8-9f2376075f87"
      },
      "execution_count": null,
      "outputs": [
        {
          "output_type": "stream",
          "name": "stdout",
          "text": [
            "Epoch 1/500\n",
            "2/2 [==============================] - 1s 6ms/step - loss: 68.0677 - mae: 68.0677\n",
            "Epoch 2/500\n",
            "2/2 [==============================] - 0s 21ms/step - loss: 38.9598 - mae: 38.9598\n",
            "Epoch 3/500\n",
            "2/2 [==============================] - 0s 7ms/step - loss: 20.0227 - mae: 20.0227\n",
            "Epoch 4/500\n",
            "2/2 [==============================] - 0s 7ms/step - loss: 32.0857 - mae: 32.0857\n",
            "Epoch 5/500\n",
            "2/2 [==============================] - 0s 6ms/step - loss: 18.8065 - mae: 18.8065\n",
            "Epoch 6/500\n",
            "2/2 [==============================] - 0s 4ms/step - loss: 23.6768 - mae: 23.6768\n",
            "Epoch 7/500\n",
            "2/2 [==============================] - 0s 6ms/step - loss: 13.0611 - mae: 13.0611\n",
            "Epoch 8/500\n",
            "2/2 [==============================] - 0s 6ms/step - loss: 12.4449 - mae: 12.4449\n",
            "Epoch 9/500\n",
            "2/2 [==============================] - 0s 6ms/step - loss: 10.4081 - mae: 10.4081\n",
            "Epoch 10/500\n",
            "2/2 [==============================] - 0s 10ms/step - loss: 9.4260 - mae: 9.4260\n",
            "Epoch 11/500\n",
            "2/2 [==============================] - 0s 18ms/step - loss: 11.2188 - mae: 11.2188\n",
            "Epoch 12/500\n",
            "2/2 [==============================] - 0s 6ms/step - loss: 11.1210 - mae: 11.1210\n",
            "Epoch 13/500\n",
            "2/2 [==============================] - 0s 10ms/step - loss: 12.0110 - mae: 12.0110\n",
            "Epoch 14/500\n",
            "2/2 [==============================] - 0s 13ms/step - loss: 17.2059 - mae: 17.2059\n",
            "Epoch 15/500\n",
            "2/2 [==============================] - 0s 9ms/step - loss: 10.5255 - mae: 10.5255\n",
            "Epoch 16/500\n",
            "2/2 [==============================] - 0s 3ms/step - loss: 16.5102 - mae: 16.5102\n",
            "Epoch 17/500\n",
            "2/2 [==============================] - 0s 8ms/step - loss: 25.7003 - mae: 25.7003\n",
            "Epoch 18/500\n",
            "2/2 [==============================] - 0s 6ms/step - loss: 11.1151 - mae: 11.1151\n",
            "Epoch 19/500\n",
            "2/2 [==============================] - 0s 6ms/step - loss: 10.9504 - mae: 10.9504\n",
            "Epoch 20/500\n",
            "2/2 [==============================] - 0s 5ms/step - loss: 11.6829 - mae: 11.6829\n",
            "Epoch 21/500\n",
            "2/2 [==============================] - 0s 5ms/step - loss: 20.8247 - mae: 20.8247\n",
            "Epoch 22/500\n",
            "2/2 [==============================] - 0s 4ms/step - loss: 20.1012 - mae: 20.1012\n",
            "Epoch 23/500\n",
            "2/2 [==============================] - 0s 4ms/step - loss: 10.7312 - mae: 10.7312\n",
            "Epoch 24/500\n",
            "2/2 [==============================] - 0s 11ms/step - loss: 25.8684 - mae: 25.8684\n",
            "Epoch 25/500\n",
            "2/2 [==============================] - 0s 10ms/step - loss: 12.5276 - mae: 12.5276\n",
            "Epoch 26/500\n",
            "2/2 [==============================] - 0s 5ms/step - loss: 13.9760 - mae: 13.9760\n",
            "Epoch 27/500\n",
            "2/2 [==============================] - 0s 4ms/step - loss: 10.2487 - mae: 10.2487\n",
            "Epoch 28/500\n",
            "2/2 [==============================] - 0s 6ms/step - loss: 7.4030 - mae: 7.4030\n",
            "Epoch 29/500\n",
            "2/2 [==============================] - 0s 5ms/step - loss: 11.2481 - mae: 11.2481\n",
            "Epoch 30/500\n",
            "2/2 [==============================] - 0s 4ms/step - loss: 20.3141 - mae: 20.3141\n",
            "Epoch 31/500\n",
            "2/2 [==============================] - 0s 7ms/step - loss: 13.9321 - mae: 13.9321\n",
            "Epoch 32/500\n",
            "2/2 [==============================] - 0s 5ms/step - loss: 10.3061 - mae: 10.3061\n",
            "Epoch 33/500\n",
            "2/2 [==============================] - 0s 6ms/step - loss: 11.5915 - mae: 11.5915\n",
            "Epoch 34/500\n",
            "2/2 [==============================] - 0s 4ms/step - loss: 10.9138 - mae: 10.9138\n",
            "Epoch 35/500\n",
            "2/2 [==============================] - 0s 4ms/step - loss: 17.6706 - mae: 17.6706\n",
            "Epoch 36/500\n",
            "2/2 [==============================] - 0s 4ms/step - loss: 17.4358 - mae: 17.4358\n",
            "Epoch 37/500\n",
            "2/2 [==============================] - 0s 5ms/step - loss: 15.9431 - mae: 15.9431\n",
            "Epoch 38/500\n",
            "2/2 [==============================] - 0s 5ms/step - loss: 9.1761 - mae: 9.1761\n",
            "Epoch 39/500\n",
            "2/2 [==============================] - 0s 5ms/step - loss: 9.0518 - mae: 9.0518\n",
            "Epoch 40/500\n",
            "2/2 [==============================] - 0s 7ms/step - loss: 8.4783 - mae: 8.4783\n",
            "Epoch 41/500\n",
            "2/2 [==============================] - 0s 6ms/step - loss: 14.7339 - mae: 14.7339\n",
            "Epoch 42/500\n",
            "2/2 [==============================] - 0s 5ms/step - loss: 19.8942 - mae: 19.8942\n",
            "Epoch 43/500\n",
            "2/2 [==============================] - 0s 5ms/step - loss: 14.7762 - mae: 14.7762\n",
            "Epoch 44/500\n",
            "2/2 [==============================] - 0s 5ms/step - loss: 16.3525 - mae: 16.3525\n",
            "Epoch 45/500\n",
            "2/2 [==============================] - 0s 4ms/step - loss: 16.8651 - mae: 16.8651\n",
            "Epoch 46/500\n",
            "2/2 [==============================] - 0s 5ms/step - loss: 20.0364 - mae: 20.0364\n",
            "Epoch 47/500\n",
            "2/2 [==============================] - 0s 8ms/step - loss: 23.3189 - mae: 23.3189\n",
            "Epoch 48/500\n",
            "2/2 [==============================] - 0s 7ms/step - loss: 9.0041 - mae: 9.0041\n",
            "Epoch 49/500\n",
            "2/2 [==============================] - 0s 7ms/step - loss: 16.4647 - mae: 16.4647\n",
            "Epoch 50/500\n",
            "2/2 [==============================] - 0s 10ms/step - loss: 10.7357 - mae: 10.7357\n",
            "Epoch 51/500\n",
            "2/2 [==============================] - 0s 14ms/step - loss: 8.6671 - mae: 8.6671\n",
            "Epoch 52/500\n",
            "2/2 [==============================] - 0s 7ms/step - loss: 25.4596 - mae: 25.4596\n",
            "Epoch 53/500\n",
            "2/2 [==============================] - 0s 5ms/step - loss: 9.9984 - mae: 9.9984\n",
            "Epoch 54/500\n",
            "2/2 [==============================] - 0s 5ms/step - loss: 10.5328 - mae: 10.5328\n",
            "Epoch 55/500\n",
            "2/2 [==============================] - 0s 4ms/step - loss: 9.6673 - mae: 9.6673\n",
            "Epoch 56/500\n",
            "2/2 [==============================] - 0s 5ms/step - loss: 15.6969 - mae: 15.6969\n",
            "Epoch 57/500\n",
            "2/2 [==============================] - 0s 4ms/step - loss: 13.1114 - mae: 13.1114\n",
            "Epoch 58/500\n",
            "2/2 [==============================] - 0s 5ms/step - loss: 8.8480 - mae: 8.8480\n",
            "Epoch 59/500\n",
            "2/2 [==============================] - 0s 8ms/step - loss: 11.7784 - mae: 11.7784\n",
            "Epoch 60/500\n",
            "2/2 [==============================] - 0s 7ms/step - loss: 24.6355 - mae: 24.6355\n",
            "Epoch 61/500\n",
            "2/2 [==============================] - 0s 6ms/step - loss: 12.0116 - mae: 12.0116\n",
            "Epoch 62/500\n",
            "2/2 [==============================] - 0s 4ms/step - loss: 21.4331 - mae: 21.4331\n",
            "Epoch 63/500\n",
            "2/2 [==============================] - 0s 4ms/step - loss: 10.6765 - mae: 10.6765\n",
            "Epoch 64/500\n",
            "2/2 [==============================] - 0s 4ms/step - loss: 20.0538 - mae: 20.0538\n",
            "Epoch 65/500\n",
            "2/2 [==============================] - 0s 6ms/step - loss: 13.6762 - mae: 13.6762\n",
            "Epoch 66/500\n",
            "2/2 [==============================] - 0s 5ms/step - loss: 21.8685 - mae: 21.8685\n",
            "Epoch 67/500\n",
            "2/2 [==============================] - 0s 10ms/step - loss: 15.3392 - mae: 15.3392\n",
            "Epoch 68/500\n",
            "2/2 [==============================] - 0s 12ms/step - loss: 21.2231 - mae: 21.2231\n",
            "Epoch 69/500\n",
            "2/2 [==============================] - 0s 7ms/step - loss: 27.3191 - mae: 27.3191\n",
            "Epoch 70/500\n",
            "2/2 [==============================] - 0s 4ms/step - loss: 10.2831 - mae: 10.2831\n",
            "Epoch 71/500\n",
            "2/2 [==============================] - 0s 3ms/step - loss: 8.1877 - mae: 8.1877\n",
            "Epoch 72/500\n",
            "2/2 [==============================] - 0s 6ms/step - loss: 16.4637 - mae: 16.4637\n",
            "Epoch 73/500\n",
            "2/2 [==============================] - 0s 5ms/step - loss: 14.4461 - mae: 14.4461\n",
            "Epoch 74/500\n",
            "2/2 [==============================] - 0s 5ms/step - loss: 17.9897 - mae: 17.9897\n",
            "Epoch 75/500\n",
            "2/2 [==============================] - 0s 6ms/step - loss: 19.0546 - mae: 19.0546\n",
            "Epoch 76/500\n",
            "2/2 [==============================] - 0s 11ms/step - loss: 19.4544 - mae: 19.4544\n",
            "Epoch 77/500\n",
            "2/2 [==============================] - 0s 6ms/step - loss: 25.4819 - mae: 25.4819\n",
            "Epoch 78/500\n",
            "2/2 [==============================] - 0s 6ms/step - loss: 8.3194 - mae: 8.3194\n",
            "Epoch 79/500\n",
            "2/2 [==============================] - 0s 9ms/step - loss: 13.0404 - mae: 13.0404\n",
            "Epoch 80/500\n",
            "2/2 [==============================] - 0s 6ms/step - loss: 27.6413 - mae: 27.6413\n",
            "Epoch 81/500\n",
            "2/2 [==============================] - 0s 9ms/step - loss: 9.6641 - mae: 9.6641\n",
            "Epoch 82/500\n",
            "2/2 [==============================] - 0s 12ms/step - loss: 11.1918 - mae: 11.1918\n",
            "Epoch 83/500\n",
            "2/2 [==============================] - 0s 3ms/step - loss: 17.4500 - mae: 17.4500\n",
            "Epoch 84/500\n",
            "2/2 [==============================] - 0s 4ms/step - loss: 6.6220 - mae: 6.6220\n",
            "Epoch 85/500\n",
            "2/2 [==============================] - 0s 12ms/step - loss: 15.1638 - mae: 15.1638\n",
            "Epoch 86/500\n",
            "2/2 [==============================] - 0s 7ms/step - loss: 13.9719 - mae: 13.9719\n",
            "Epoch 87/500\n",
            "2/2 [==============================] - 0s 5ms/step - loss: 18.9570 - mae: 18.9570\n",
            "Epoch 88/500\n",
            "2/2 [==============================] - 0s 6ms/step - loss: 20.4675 - mae: 20.4675\n",
            "Epoch 89/500\n",
            "2/2 [==============================] - 0s 10ms/step - loss: 7.9352 - mae: 7.9352\n",
            "Epoch 90/500\n",
            "2/2 [==============================] - 0s 7ms/step - loss: 11.9114 - mae: 11.9114\n",
            "Epoch 91/500\n",
            "2/2 [==============================] - 0s 6ms/step - loss: 15.1260 - mae: 15.1260\n",
            "Epoch 92/500\n",
            "2/2 [==============================] - 0s 6ms/step - loss: 32.0166 - mae: 32.0166\n",
            "Epoch 93/500\n",
            "2/2 [==============================] - 0s 21ms/step - loss: 11.3819 - mae: 11.3819\n",
            "Epoch 94/500\n",
            "2/2 [==============================] - 0s 11ms/step - loss: 18.3277 - mae: 18.3277\n",
            "Epoch 95/500\n",
            "2/2 [==============================] - 0s 10ms/step - loss: 17.3057 - mae: 17.3057\n",
            "Epoch 96/500\n",
            "2/2 [==============================] - 0s 4ms/step - loss: 12.4471 - mae: 12.4471\n",
            "Epoch 97/500\n",
            "2/2 [==============================] - 0s 14ms/step - loss: 18.9703 - mae: 18.9703\n",
            "Epoch 98/500\n",
            "2/2 [==============================] - 0s 7ms/step - loss: 24.6655 - mae: 24.6655\n",
            "Epoch 99/500\n",
            "2/2 [==============================] - 0s 4ms/step - loss: 13.1601 - mae: 13.1601\n",
            "Epoch 100/500\n",
            "2/2 [==============================] - 0s 12ms/step - loss: 11.8503 - mae: 11.8503\n",
            "Epoch 101/500\n",
            "2/2 [==============================] - 0s 6ms/step - loss: 9.6738 - mae: 9.6738\n",
            "Epoch 102/500\n",
            "2/2 [==============================] - 0s 6ms/step - loss: 9.2577 - mae: 9.2577\n",
            "Epoch 103/500\n",
            "2/2 [==============================] - 0s 8ms/step - loss: 23.0207 - mae: 23.0207\n",
            "Epoch 104/500\n",
            "2/2 [==============================] - 0s 9ms/step - loss: 12.9098 - mae: 12.9098\n",
            "Epoch 105/500\n",
            "2/2 [==============================] - 0s 6ms/step - loss: 24.9208 - mae: 24.9208\n",
            "Epoch 106/500\n",
            "2/2 [==============================] - 0s 6ms/step - loss: 16.1305 - mae: 16.1305\n",
            "Epoch 107/500\n",
            "2/2 [==============================] - 0s 7ms/step - loss: 9.4263 - mae: 9.4263\n",
            "Epoch 108/500\n",
            "2/2 [==============================] - 0s 5ms/step - loss: 11.9721 - mae: 11.9721\n",
            "Epoch 109/500\n",
            "2/2 [==============================] - 0s 4ms/step - loss: 14.2424 - mae: 14.2424\n",
            "Epoch 110/500\n",
            "2/2 [==============================] - 0s 16ms/step - loss: 16.5772 - mae: 16.5772\n",
            "Epoch 111/500\n",
            "2/2 [==============================] - 0s 4ms/step - loss: 48.6679 - mae: 48.6679\n",
            "Epoch 112/500\n",
            "2/2 [==============================] - 0s 5ms/step - loss: 8.2006 - mae: 8.2006\n",
            "Epoch 113/500\n",
            "2/2 [==============================] - 0s 31ms/step - loss: 16.6020 - mae: 16.6020\n",
            "Epoch 114/500\n",
            "2/2 [==============================] - 0s 11ms/step - loss: 17.8837 - mae: 17.8837\n",
            "Epoch 115/500\n",
            "2/2 [==============================] - 0s 9ms/step - loss: 14.2865 - mae: 14.2865\n",
            "Epoch 116/500\n",
            "2/2 [==============================] - 0s 5ms/step - loss: 18.7954 - mae: 18.7954\n",
            "Epoch 117/500\n",
            "2/2 [==============================] - 0s 15ms/step - loss: 12.2700 - mae: 12.2700\n",
            "Epoch 118/500\n",
            "2/2 [==============================] - 0s 5ms/step - loss: 25.5755 - mae: 25.5755\n",
            "Epoch 119/500\n",
            "2/2 [==============================] - 0s 6ms/step - loss: 12.8971 - mae: 12.8971\n",
            "Epoch 120/500\n",
            "2/2 [==============================] - 0s 7ms/step - loss: 10.0749 - mae: 10.0749\n",
            "Epoch 121/500\n",
            "2/2 [==============================] - 0s 13ms/step - loss: 8.6261 - mae: 8.6261\n",
            "Epoch 122/500\n",
            "2/2 [==============================] - 0s 6ms/step - loss: 21.2452 - mae: 21.2452\n",
            "Epoch 123/500\n",
            "2/2 [==============================] - 0s 7ms/step - loss: 9.7208 - mae: 9.7208\n",
            "Epoch 124/500\n",
            "2/2 [==============================] - 0s 5ms/step - loss: 15.5099 - mae: 15.5099\n",
            "Epoch 125/500\n",
            "2/2 [==============================] - 0s 6ms/step - loss: 13.0904 - mae: 13.0904\n",
            "Epoch 126/500\n",
            "2/2 [==============================] - 0s 6ms/step - loss: 18.6889 - mae: 18.6889\n",
            "Epoch 127/500\n",
            "2/2 [==============================] - 0s 7ms/step - loss: 24.3605 - mae: 24.3605\n",
            "Epoch 128/500\n",
            "2/2 [==============================] - 0s 5ms/step - loss: 10.4678 - mae: 10.4678\n",
            "Epoch 129/500\n",
            "2/2 [==============================] - 0s 7ms/step - loss: 8.7266 - mae: 8.7266\n",
            "Epoch 130/500\n",
            "2/2 [==============================] - 0s 8ms/step - loss: 17.1804 - mae: 17.1804\n",
            "Epoch 131/500\n",
            "2/2 [==============================] - 0s 4ms/step - loss: 22.7485 - mae: 22.7485\n",
            "Epoch 132/500\n",
            "2/2 [==============================] - 0s 4ms/step - loss: 18.6882 - mae: 18.6882\n",
            "Epoch 133/500\n",
            "2/2 [==============================] - 0s 10ms/step - loss: 9.7351 - mae: 9.7351\n",
            "Epoch 134/500\n",
            "2/2 [==============================] - 0s 4ms/step - loss: 14.8749 - mae: 14.8749\n",
            "Epoch 135/500\n",
            "2/2 [==============================] - 0s 8ms/step - loss: 12.3029 - mae: 12.3029\n",
            "Epoch 136/500\n",
            "2/2 [==============================] - 0s 14ms/step - loss: 19.8885 - mae: 19.8885\n",
            "Epoch 137/500\n",
            "2/2 [==============================] - 0s 13ms/step - loss: 24.4403 - mae: 24.4403\n",
            "Epoch 138/500\n",
            "2/2 [==============================] - 0s 14ms/step - loss: 10.2955 - mae: 10.2955\n",
            "Epoch 139/500\n",
            "2/2 [==============================] - 0s 16ms/step - loss: 8.6885 - mae: 8.6885\n",
            "Epoch 140/500\n",
            "2/2 [==============================] - 0s 5ms/step - loss: 19.0037 - mae: 19.0037\n",
            "Epoch 141/500\n",
            "2/2 [==============================] - 0s 3ms/step - loss: 7.7433 - mae: 7.7433\n",
            "Epoch 142/500\n",
            "2/2 [==============================] - 0s 4ms/step - loss: 32.8420 - mae: 32.8420\n",
            "Epoch 143/500\n",
            "2/2 [==============================] - 0s 6ms/step - loss: 17.2430 - mae: 17.2430\n",
            "Epoch 144/500\n",
            "2/2 [==============================] - 0s 4ms/step - loss: 9.2331 - mae: 9.2331\n",
            "Epoch 145/500\n",
            "2/2 [==============================] - 0s 5ms/step - loss: 16.2233 - mae: 16.2233\n",
            "Epoch 146/500\n",
            "2/2 [==============================] - 0s 4ms/step - loss: 15.0154 - mae: 15.0154\n",
            "Epoch 147/500\n",
            "2/2 [==============================] - 0s 8ms/step - loss: 9.8649 - mae: 9.8649\n",
            "Epoch 148/500\n",
            "2/2 [==============================] - 0s 6ms/step - loss: 8.1300 - mae: 8.1300\n",
            "Epoch 149/500\n",
            "2/2 [==============================] - 0s 10ms/step - loss: 14.3010 - mae: 14.3010\n",
            "Epoch 150/500\n",
            "2/2 [==============================] - 0s 12ms/step - loss: 18.0556 - mae: 18.0556\n",
            "Epoch 151/500\n",
            "2/2 [==============================] - 0s 9ms/step - loss: 9.6115 - mae: 9.6115\n",
            "Epoch 152/500\n",
            "2/2 [==============================] - 0s 8ms/step - loss: 16.1878 - mae: 16.1878\n",
            "Epoch 153/500\n",
            "2/2 [==============================] - 0s 7ms/step - loss: 24.0492 - mae: 24.0492\n",
            "Epoch 154/500\n",
            "2/2 [==============================] - 0s 7ms/step - loss: 15.7545 - mae: 15.7545\n",
            "Epoch 155/500\n",
            "2/2 [==============================] - 0s 4ms/step - loss: 5.5102 - mae: 5.5102\n",
            "Epoch 156/500\n",
            "2/2 [==============================] - 0s 4ms/step - loss: 16.2621 - mae: 16.2621\n",
            "Epoch 157/500\n",
            "2/2 [==============================] - 0s 4ms/step - loss: 8.0977 - mae: 8.0977\n",
            "Epoch 158/500\n",
            "2/2 [==============================] - 0s 7ms/step - loss: 13.9837 - mae: 13.9837\n",
            "Epoch 159/500\n",
            "2/2 [==============================] - 0s 10ms/step - loss: 12.3126 - mae: 12.3126\n",
            "Epoch 160/500\n",
            "2/2 [==============================] - 0s 9ms/step - loss: 11.5063 - mae: 11.5063\n",
            "Epoch 161/500\n",
            "2/2 [==============================] - 0s 4ms/step - loss: 13.4069 - mae: 13.4069\n",
            "Epoch 162/500\n",
            "2/2 [==============================] - 0s 5ms/step - loss: 12.4643 - mae: 12.4643\n",
            "Epoch 163/500\n",
            "2/2 [==============================] - 0s 7ms/step - loss: 25.9757 - mae: 25.9757\n",
            "Epoch 164/500\n",
            "2/2 [==============================] - 0s 10ms/step - loss: 13.2789 - mae: 13.2789\n",
            "Epoch 165/500\n",
            "2/2 [==============================] - 0s 5ms/step - loss: 11.1654 - mae: 11.1654\n",
            "Epoch 166/500\n",
            "2/2 [==============================] - 0s 3ms/step - loss: 15.3483 - mae: 15.3483\n",
            "Epoch 167/500\n",
            "2/2 [==============================] - 0s 4ms/step - loss: 10.0047 - mae: 10.0047\n",
            "Epoch 168/500\n",
            "2/2 [==============================] - 0s 8ms/step - loss: 20.9489 - mae: 20.9489\n",
            "Epoch 169/500\n",
            "2/2 [==============================] - 0s 10ms/step - loss: 14.1381 - mae: 14.1381\n",
            "Epoch 170/500\n",
            "2/2 [==============================] - 0s 4ms/step - loss: 17.7541 - mae: 17.7541\n",
            "Epoch 171/500\n",
            "2/2 [==============================] - 0s 3ms/step - loss: 10.9919 - mae: 10.9919\n",
            "Epoch 172/500\n",
            "2/2 [==============================] - 0s 7ms/step - loss: 18.6821 - mae: 18.6821\n",
            "Epoch 173/500\n",
            "2/2 [==============================] - 0s 6ms/step - loss: 23.5384 - mae: 23.5384\n",
            "Epoch 174/500\n",
            "2/2 [==============================] - 0s 5ms/step - loss: 14.6626 - mae: 14.6626\n",
            "Epoch 175/500\n",
            "2/2 [==============================] - 0s 8ms/step - loss: 10.0464 - mae: 10.0464\n",
            "Epoch 176/500\n",
            "2/2 [==============================] - 0s 6ms/step - loss: 10.9330 - mae: 10.9330\n",
            "Epoch 177/500\n",
            "2/2 [==============================] - 0s 6ms/step - loss: 16.9559 - mae: 16.9559\n",
            "Epoch 178/500\n",
            "2/2 [==============================] - 0s 6ms/step - loss: 10.3213 - mae: 10.3213\n",
            "Epoch 179/500\n",
            "2/2 [==============================] - 0s 3ms/step - loss: 16.1605 - mae: 16.1605\n",
            "Epoch 180/500\n",
            "2/2 [==============================] - 0s 9ms/step - loss: 7.9774 - mae: 7.9774\n",
            "Epoch 181/500\n",
            "2/2 [==============================] - 0s 9ms/step - loss: 13.2101 - mae: 13.2101\n",
            "Epoch 182/500\n",
            "2/2 [==============================] - 0s 10ms/step - loss: 15.2509 - mae: 15.2509\n",
            "Epoch 183/500\n",
            "2/2 [==============================] - 0s 6ms/step - loss: 18.6799 - mae: 18.6799\n",
            "Epoch 184/500\n",
            "2/2 [==============================] - 0s 5ms/step - loss: 7.6977 - mae: 7.6977\n",
            "Epoch 185/500\n",
            "2/2 [==============================] - 0s 3ms/step - loss: 22.4483 - mae: 22.4483\n",
            "Epoch 186/500\n",
            "2/2 [==============================] - 0s 3ms/step - loss: 15.9396 - mae: 15.9396\n",
            "Epoch 187/500\n",
            "2/2 [==============================] - 0s 4ms/step - loss: 10.8726 - mae: 10.8726\n",
            "Epoch 188/500\n",
            "2/2 [==============================] - 0s 4ms/step - loss: 16.6738 - mae: 16.6738\n",
            "Epoch 189/500\n",
            "2/2 [==============================] - 0s 3ms/step - loss: 10.3303 - mae: 10.3303\n",
            "Epoch 190/500\n",
            "2/2 [==============================] - 0s 7ms/step - loss: 24.6168 - mae: 24.6168\n",
            "Epoch 191/500\n",
            "2/2 [==============================] - 0s 4ms/step - loss: 11.4537 - mae: 11.4537\n",
            "Epoch 192/500\n",
            "2/2 [==============================] - 0s 6ms/step - loss: 8.8005 - mae: 8.8005\n",
            "Epoch 193/500\n",
            "2/2 [==============================] - 0s 12ms/step - loss: 14.4352 - mae: 14.4352\n",
            "Epoch 194/500\n",
            "2/2 [==============================] - 0s 7ms/step - loss: 15.1567 - mae: 15.1567\n",
            "Epoch 195/500\n",
            "2/2 [==============================] - 0s 3ms/step - loss: 27.0069 - mae: 27.0069\n",
            "Epoch 196/500\n",
            "2/2 [==============================] - 0s 5ms/step - loss: 9.7717 - mae: 9.7717\n",
            "Epoch 197/500\n",
            "2/2 [==============================] - 0s 3ms/step - loss: 10.2638 - mae: 10.2638\n",
            "Epoch 198/500\n",
            "2/2 [==============================] - 0s 8ms/step - loss: 16.9893 - mae: 16.9893\n",
            "Epoch 199/500\n",
            "2/2 [==============================] - 0s 6ms/step - loss: 8.3385 - mae: 8.3385\n",
            "Epoch 200/500\n",
            "2/2 [==============================] - 0s 6ms/step - loss: 8.8088 - mae: 8.8088\n",
            "Epoch 201/500\n",
            "2/2 [==============================] - 0s 5ms/step - loss: 20.2657 - mae: 20.2657\n",
            "Epoch 202/500\n",
            "2/2 [==============================] - 0s 13ms/step - loss: 9.3286 - mae: 9.3286\n",
            "Epoch 203/500\n",
            "2/2 [==============================] - 0s 6ms/step - loss: 9.3488 - mae: 9.3488\n",
            "Epoch 204/500\n",
            "2/2 [==============================] - 0s 6ms/step - loss: 5.5607 - mae: 5.5607\n",
            "Epoch 205/500\n",
            "2/2 [==============================] - 0s 7ms/step - loss: 42.8318 - mae: 42.8318\n",
            "Epoch 206/500\n",
            "2/2 [==============================] - 0s 7ms/step - loss: 7.5796 - mae: 7.5796\n",
            "Epoch 207/500\n",
            "2/2 [==============================] - 0s 9ms/step - loss: 22.3648 - mae: 22.3648\n",
            "Epoch 208/500\n",
            "2/2 [==============================] - 0s 16ms/step - loss: 28.0091 - mae: 28.0091\n",
            "Epoch 209/500\n",
            "2/2 [==============================] - 0s 5ms/step - loss: 10.9393 - mae: 10.9393\n",
            "Epoch 210/500\n",
            "2/2 [==============================] - 0s 7ms/step - loss: 13.2321 - mae: 13.2321\n",
            "Epoch 211/500\n",
            "2/2 [==============================] - 0s 6ms/step - loss: 20.5683 - mae: 20.5683\n",
            "Epoch 212/500\n",
            "2/2 [==============================] - 0s 8ms/step - loss: 16.7591 - mae: 16.7591\n",
            "Epoch 213/500\n",
            "2/2 [==============================] - 0s 7ms/step - loss: 13.4568 - mae: 13.4568\n",
            "Epoch 214/500\n",
            "2/2 [==============================] - 0s 6ms/step - loss: 15.2322 - mae: 15.2322\n",
            "Epoch 215/500\n",
            "2/2 [==============================] - 0s 6ms/step - loss: 6.0297 - mae: 6.0297\n",
            "Epoch 216/500\n",
            "2/2 [==============================] - 0s 11ms/step - loss: 12.6279 - mae: 12.6279\n",
            "Epoch 217/500\n",
            "2/2 [==============================] - 0s 317ms/step - loss: 19.8128 - mae: 19.8128\n",
            "Epoch 218/500\n",
            "2/2 [==============================] - 0s 18ms/step - loss: 33.3166 - mae: 33.3166\n",
            "Epoch 219/500\n",
            "2/2 [==============================] - 0s 7ms/step - loss: 7.1517 - mae: 7.1517\n",
            "Epoch 220/500\n",
            "2/2 [==============================] - 0s 9ms/step - loss: 17.0763 - mae: 17.0763\n",
            "Epoch 221/500\n",
            "2/2 [==============================] - 0s 19ms/step - loss: 11.1377 - mae: 11.1377\n",
            "Epoch 222/500\n",
            "2/2 [==============================] - 0s 5ms/step - loss: 17.1826 - mae: 17.1826\n",
            "Epoch 223/500\n",
            "2/2 [==============================] - 0s 10ms/step - loss: 12.5018 - mae: 12.5018\n",
            "Epoch 224/500\n",
            "2/2 [==============================] - 0s 11ms/step - loss: 17.1426 - mae: 17.1426\n",
            "Epoch 225/500\n",
            "2/2 [==============================] - 0s 8ms/step - loss: 11.2164 - mae: 11.2164\n",
            "Epoch 226/500\n",
            "2/2 [==============================] - 0s 7ms/step - loss: 16.5695 - mae: 16.5695\n",
            "Epoch 227/500\n",
            "2/2 [==============================] - 0s 10ms/step - loss: 12.4787 - mae: 12.4787\n",
            "Epoch 228/500\n",
            "2/2 [==============================] - 0s 4ms/step - loss: 29.6281 - mae: 29.6281\n",
            "Epoch 229/500\n",
            "2/2 [==============================] - 0s 5ms/step - loss: 9.8862 - mae: 9.8862\n",
            "Epoch 230/500\n",
            "2/2 [==============================] - 0s 9ms/step - loss: 15.7036 - mae: 15.7036\n",
            "Epoch 231/500\n",
            "2/2 [==============================] - 0s 6ms/step - loss: 25.3236 - mae: 25.3236\n",
            "Epoch 232/500\n",
            "2/2 [==============================] - 0s 6ms/step - loss: 7.7317 - mae: 7.7317\n",
            "Epoch 233/500\n",
            "2/2 [==============================] - 0s 21ms/step - loss: 8.8026 - mae: 8.8026\n",
            "Epoch 234/500\n",
            "2/2 [==============================] - 0s 15ms/step - loss: 19.1051 - mae: 19.1051\n",
            "Epoch 235/500\n",
            "2/2 [==============================] - 0s 5ms/step - loss: 7.2096 - mae: 7.2096\n",
            "Epoch 236/500\n",
            "2/2 [==============================] - 0s 8ms/step - loss: 8.2036 - mae: 8.2036\n",
            "Epoch 237/500\n",
            "2/2 [==============================] - 0s 14ms/step - loss: 7.5269 - mae: 7.5269\n",
            "Epoch 238/500\n",
            "2/2 [==============================] - 0s 8ms/step - loss: 9.2484 - mae: 9.2484\n",
            "Epoch 239/500\n",
            "2/2 [==============================] - 0s 7ms/step - loss: 8.9555 - mae: 8.9555\n",
            "Epoch 240/500\n",
            "2/2 [==============================] - 0s 15ms/step - loss: 11.1900 - mae: 11.1900\n",
            "Epoch 241/500\n",
            "2/2 [==============================] - 0s 8ms/step - loss: 15.7611 - mae: 15.7611\n",
            "Epoch 242/500\n",
            "2/2 [==============================] - 0s 7ms/step - loss: 7.0026 - mae: 7.0026\n",
            "Epoch 243/500\n",
            "2/2 [==============================] - 0s 6ms/step - loss: 13.6723 - mae: 13.6723\n",
            "Epoch 244/500\n",
            "2/2 [==============================] - 0s 7ms/step - loss: 9.6669 - mae: 9.6669\n",
            "Epoch 245/500\n",
            "2/2 [==============================] - 0s 5ms/step - loss: 19.6898 - mae: 19.6898\n",
            "Epoch 246/500\n",
            "2/2 [==============================] - 0s 6ms/step - loss: 21.0180 - mae: 21.0180\n",
            "Epoch 247/500\n",
            "2/2 [==============================] - 0s 10ms/step - loss: 10.6205 - mae: 10.6205\n",
            "Epoch 248/500\n",
            "2/2 [==============================] - 0s 6ms/step - loss: 16.5421 - mae: 16.5421\n",
            "Epoch 249/500\n",
            "2/2 [==============================] - 0s 6ms/step - loss: 20.1676 - mae: 20.1676\n",
            "Epoch 250/500\n",
            "2/2 [==============================] - 0s 7ms/step - loss: 10.3552 - mae: 10.3552\n",
            "Epoch 251/500\n",
            "2/2 [==============================] - 0s 5ms/step - loss: 23.7096 - mae: 23.7096\n",
            "Epoch 252/500\n",
            "2/2 [==============================] - 0s 5ms/step - loss: 23.1021 - mae: 23.1021\n",
            "Epoch 253/500\n",
            "2/2 [==============================] - 0s 9ms/step - loss: 6.5584 - mae: 6.5584\n",
            "Epoch 254/500\n",
            "2/2 [==============================] - 0s 5ms/step - loss: 18.0359 - mae: 18.0359\n",
            "Epoch 255/500\n",
            "2/2 [==============================] - 0s 11ms/step - loss: 16.2321 - mae: 16.2321\n",
            "Epoch 256/500\n",
            "2/2 [==============================] - 0s 15ms/step - loss: 11.1435 - mae: 11.1435\n",
            "Epoch 257/500\n",
            "2/2 [==============================] - 0s 8ms/step - loss: 21.5899 - mae: 21.5899\n",
            "Epoch 258/500\n",
            "2/2 [==============================] - 0s 6ms/step - loss: 21.4289 - mae: 21.4289\n",
            "Epoch 259/500\n",
            "2/2 [==============================] - 0s 8ms/step - loss: 8.8351 - mae: 8.8351\n",
            "Epoch 260/500\n",
            "2/2 [==============================] - 0s 4ms/step - loss: 24.6456 - mae: 24.6456\n",
            "Epoch 261/500\n",
            "2/2 [==============================] - 0s 8ms/step - loss: 14.7975 - mae: 14.7975\n",
            "Epoch 262/500\n",
            "2/2 [==============================] - 0s 9ms/step - loss: 16.8584 - mae: 16.8584\n",
            "Epoch 263/500\n",
            "2/2 [==============================] - 0s 6ms/step - loss: 11.3336 - mae: 11.3336\n",
            "Epoch 264/500\n",
            "2/2 [==============================] - 0s 7ms/step - loss: 22.9502 - mae: 22.9502\n",
            "Epoch 265/500\n",
            "2/2 [==============================] - 0s 12ms/step - loss: 21.4881 - mae: 21.4881\n",
            "Epoch 266/500\n",
            "2/2 [==============================] - 0s 8ms/step - loss: 8.3652 - mae: 8.3652\n",
            "Epoch 267/500\n",
            "2/2 [==============================] - 0s 4ms/step - loss: 12.4340 - mae: 12.4340\n",
            "Epoch 268/500\n",
            "2/2 [==============================] - 0s 4ms/step - loss: 15.1308 - mae: 15.1308\n",
            "Epoch 269/500\n",
            "2/2 [==============================] - 0s 10ms/step - loss: 21.3581 - mae: 21.3581\n",
            "Epoch 270/500\n",
            "2/2 [==============================] - 0s 4ms/step - loss: 21.9240 - mae: 21.9240\n",
            "Epoch 271/500\n",
            "2/2 [==============================] - 0s 12ms/step - loss: 9.5724 - mae: 9.5724\n",
            "Epoch 272/500\n",
            "2/2 [==============================] - 0s 5ms/step - loss: 14.5397 - mae: 14.5397\n",
            "Epoch 273/500\n",
            "2/2 [==============================] - 0s 6ms/step - loss: 17.2660 - mae: 17.2660\n",
            "Epoch 274/500\n",
            "2/2 [==============================] - 0s 10ms/step - loss: 12.7404 - mae: 12.7404\n",
            "Epoch 275/500\n",
            "2/2 [==============================] - 0s 12ms/step - loss: 15.3692 - mae: 15.3692\n",
            "Epoch 276/500\n",
            "2/2 [==============================] - 0s 17ms/step - loss: 12.8810 - mae: 12.8810\n",
            "Epoch 277/500\n",
            "2/2 [==============================] - 0s 4ms/step - loss: 18.3795 - mae: 18.3795\n",
            "Epoch 278/500\n",
            "2/2 [==============================] - 0s 10ms/step - loss: 13.8180 - mae: 13.8180\n",
            "Epoch 279/500\n",
            "2/2 [==============================] - 0s 32ms/step - loss: 14.7130 - mae: 14.7130\n",
            "Epoch 280/500\n",
            "2/2 [==============================] - 0s 4ms/step - loss: 16.4913 - mae: 16.4913\n",
            "Epoch 281/500\n",
            "2/2 [==============================] - 0s 3ms/step - loss: 14.3954 - mae: 14.3954\n",
            "Epoch 282/500\n",
            "2/2 [==============================] - 0s 3ms/step - loss: 12.7121 - mae: 12.7121\n",
            "Epoch 283/500\n",
            "2/2 [==============================] - 0s 4ms/step - loss: 16.2952 - mae: 16.2952\n",
            "Epoch 284/500\n",
            "2/2 [==============================] - 0s 5ms/step - loss: 13.9482 - mae: 13.9482\n",
            "Epoch 285/500\n",
            "2/2 [==============================] - 0s 5ms/step - loss: 27.1605 - mae: 27.1605\n",
            "Epoch 286/500\n",
            "2/2 [==============================] - 0s 4ms/step - loss: 12.0801 - mae: 12.0801\n",
            "Epoch 287/500\n",
            "2/2 [==============================] - 0s 6ms/step - loss: 10.3744 - mae: 10.3744\n",
            "Epoch 288/500\n",
            "2/2 [==============================] - 0s 4ms/step - loss: 28.4618 - mae: 28.4618\n",
            "Epoch 289/500\n",
            "2/2 [==============================] - 0s 8ms/step - loss: 6.2360 - mae: 6.2360\n",
            "Epoch 290/500\n",
            "2/2 [==============================] - 0s 6ms/step - loss: 16.7983 - mae: 16.7983\n",
            "Epoch 291/500\n",
            "2/2 [==============================] - 0s 6ms/step - loss: 13.0432 - mae: 13.0432\n",
            "Epoch 292/500\n",
            "2/2 [==============================] - 0s 6ms/step - loss: 20.3557 - mae: 20.3557\n",
            "Epoch 293/500\n",
            "2/2 [==============================] - 0s 6ms/step - loss: 29.2687 - mae: 29.2687\n",
            "Epoch 294/500\n",
            "2/2 [==============================] - 0s 6ms/step - loss: 7.0590 - mae: 7.0590\n",
            "Epoch 295/500\n",
            "2/2 [==============================] - 0s 4ms/step - loss: 17.3693 - mae: 17.3693\n",
            "Epoch 296/500\n",
            "2/2 [==============================] - 0s 6ms/step - loss: 13.8803 - mae: 13.8803\n",
            "Epoch 297/500\n",
            "2/2 [==============================] - 0s 6ms/step - loss: 14.4365 - mae: 14.4365\n",
            "Epoch 298/500\n",
            "2/2 [==============================] - 0s 10ms/step - loss: 19.3990 - mae: 19.3990\n",
            "Epoch 299/500\n",
            "2/2 [==============================] - 0s 6ms/step - loss: 12.3905 - mae: 12.3905\n",
            "Epoch 300/500\n",
            "2/2 [==============================] - 0s 243ms/step - loss: 16.5585 - mae: 16.5585\n",
            "Epoch 301/500\n",
            "2/2 [==============================] - 0s 5ms/step - loss: 14.1421 - mae: 14.1421\n",
            "Epoch 302/500\n",
            "2/2 [==============================] - 0s 4ms/step - loss: 11.6878 - mae: 11.6878\n",
            "Epoch 303/500\n",
            "2/2 [==============================] - 0s 4ms/step - loss: 20.4802 - mae: 20.4802\n",
            "Epoch 304/500\n",
            "2/2 [==============================] - 0s 6ms/step - loss: 23.4059 - mae: 23.4059\n",
            "Epoch 305/500\n",
            "2/2 [==============================] - 0s 6ms/step - loss: 8.5166 - mae: 8.5166\n",
            "Epoch 306/500\n",
            "2/2 [==============================] - 0s 4ms/step - loss: 18.5509 - mae: 18.5509\n",
            "Epoch 307/500\n",
            "2/2 [==============================] - 0s 5ms/step - loss: 15.2729 - mae: 15.2729\n",
            "Epoch 308/500\n",
            "2/2 [==============================] - 0s 6ms/step - loss: 13.3959 - mae: 13.3959\n",
            "Epoch 309/500\n",
            "2/2 [==============================] - 0s 4ms/step - loss: 27.8887 - mae: 27.8887\n",
            "Epoch 310/500\n",
            "2/2 [==============================] - 0s 5ms/step - loss: 7.7694 - mae: 7.7694\n",
            "Epoch 311/500\n",
            "2/2 [==============================] - 0s 4ms/step - loss: 11.3382 - mae: 11.3382\n",
            "Epoch 312/500\n",
            "2/2 [==============================] - 0s 4ms/step - loss: 9.8052 - mae: 9.8052\n",
            "Epoch 313/500\n",
            "2/2 [==============================] - 0s 4ms/step - loss: 29.0266 - mae: 29.0266\n",
            "Epoch 314/500\n",
            "2/2 [==============================] - 0s 4ms/step - loss: 9.8972 - mae: 9.8972\n",
            "Epoch 315/500\n",
            "2/2 [==============================] - 0s 8ms/step - loss: 4.4036 - mae: 4.4036\n",
            "Epoch 316/500\n",
            "2/2 [==============================] - 0s 4ms/step - loss: 14.8502 - mae: 14.8502\n",
            "Epoch 317/500\n",
            "2/2 [==============================] - 0s 8ms/step - loss: 21.7764 - mae: 21.7764\n",
            "Epoch 318/500\n",
            "2/2 [==============================] - 0s 7ms/step - loss: 14.6937 - mae: 14.6937\n",
            "Epoch 319/500\n",
            "2/2 [==============================] - 0s 6ms/step - loss: 11.9423 - mae: 11.9423\n",
            "Epoch 320/500\n",
            "2/2 [==============================] - 0s 9ms/step - loss: 4.4380 - mae: 4.4380\n",
            "Epoch 321/500\n",
            "2/2 [==============================] - 0s 4ms/step - loss: 15.7204 - mae: 15.7204\n",
            "Epoch 322/500\n",
            "2/2 [==============================] - 0s 12ms/step - loss: 14.7691 - mae: 14.7691\n",
            "Epoch 323/500\n",
            "2/2 [==============================] - 0s 4ms/step - loss: 12.0173 - mae: 12.0173\n",
            "Epoch 324/500\n",
            "2/2 [==============================] - 0s 42ms/step - loss: 15.0524 - mae: 15.0524\n",
            "Epoch 325/500\n",
            "2/2 [==============================] - 0s 16ms/step - loss: 15.6261 - mae: 15.6261\n",
            "Epoch 326/500\n",
            "2/2 [==============================] - 0s 6ms/step - loss: 13.0817 - mae: 13.0817\n",
            "Epoch 327/500\n",
            "2/2 [==============================] - 0s 7ms/step - loss: 19.2774 - mae: 19.2774\n",
            "Epoch 328/500\n",
            "2/2 [==============================] - 0s 9ms/step - loss: 12.4425 - mae: 12.4425\n",
            "Epoch 329/500\n",
            "2/2 [==============================] - 0s 10ms/step - loss: 13.3446 - mae: 13.3446\n",
            "Epoch 330/500\n",
            "2/2 [==============================] - 0s 5ms/step - loss: 17.5775 - mae: 17.5775\n",
            "Epoch 331/500\n",
            "2/2 [==============================] - 0s 4ms/step - loss: 14.3790 - mae: 14.3790\n",
            "Epoch 332/500\n",
            "2/2 [==============================] - 0s 4ms/step - loss: 26.2289 - mae: 26.2289\n",
            "Epoch 333/500\n",
            "2/2 [==============================] - 0s 3ms/step - loss: 16.3432 - mae: 16.3432\n",
            "Epoch 334/500\n",
            "2/2 [==============================] - 0s 9ms/step - loss: 13.8941 - mae: 13.8941\n",
            "Epoch 335/500\n",
            "2/2 [==============================] - 0s 4ms/step - loss: 22.9809 - mae: 22.9809\n",
            "Epoch 336/500\n",
            "2/2 [==============================] - 0s 5ms/step - loss: 15.0653 - mae: 15.0653\n",
            "Epoch 337/500\n",
            "2/2 [==============================] - 0s 4ms/step - loss: 11.0189 - mae: 11.0189\n",
            "Epoch 338/500\n",
            "2/2 [==============================] - 0s 3ms/step - loss: 19.9452 - mae: 19.9452\n",
            "Epoch 339/500\n",
            "2/2 [==============================] - 0s 7ms/step - loss: 10.6726 - mae: 10.6726\n",
            "Epoch 340/500\n",
            "2/2 [==============================] - 0s 9ms/step - loss: 4.0447 - mae: 4.0447\n",
            "Epoch 341/500\n",
            "2/2 [==============================] - 0s 7ms/step - loss: 11.3935 - mae: 11.3935\n",
            "Epoch 342/500\n",
            "2/2 [==============================] - 0s 7ms/step - loss: 6.9709 - mae: 6.9709\n",
            "Epoch 343/500\n",
            "2/2 [==============================] - 0s 10ms/step - loss: 17.2212 - mae: 17.2212\n",
            "Epoch 344/500\n",
            "2/2 [==============================] - 0s 12ms/step - loss: 23.3918 - mae: 23.3918\n",
            "Epoch 345/500\n",
            "2/2 [==============================] - 0s 13ms/step - loss: 19.1558 - mae: 19.1558\n",
            "Epoch 346/500\n",
            "2/2 [==============================] - 0s 7ms/step - loss: 10.7661 - mae: 10.7661\n",
            "Epoch 347/500\n",
            "2/2 [==============================] - 0s 11ms/step - loss: 17.4265 - mae: 17.4265\n",
            "Epoch 348/500\n",
            "2/2 [==============================] - 0s 13ms/step - loss: 7.4898 - mae: 7.4898\n",
            "Epoch 349/500\n",
            "2/2 [==============================] - 0s 10ms/step - loss: 8.1851 - mae: 8.1851\n",
            "Epoch 350/500\n",
            "2/2 [==============================] - 0s 4ms/step - loss: 27.3727 - mae: 27.3727\n",
            "Epoch 351/500\n",
            "2/2 [==============================] - 0s 6ms/step - loss: 10.2628 - mae: 10.2628\n",
            "Epoch 352/500\n",
            "2/2 [==============================] - 0s 4ms/step - loss: 8.3647 - mae: 8.3647\n",
            "Epoch 353/500\n",
            "2/2 [==============================] - 0s 5ms/step - loss: 13.1348 - mae: 13.1348\n",
            "Epoch 354/500\n",
            "2/2 [==============================] - 0s 5ms/step - loss: 12.8174 - mae: 12.8174\n",
            "Epoch 355/500\n",
            "2/2 [==============================] - 0s 3ms/step - loss: 6.7718 - mae: 6.7718\n",
            "Epoch 356/500\n",
            "2/2 [==============================] - 0s 6ms/step - loss: 5.8198 - mae: 5.8198\n",
            "Epoch 357/500\n",
            "2/2 [==============================] - 0s 9ms/step - loss: 20.5495 - mae: 20.5495\n",
            "Epoch 358/500\n",
            "2/2 [==============================] - 0s 6ms/step - loss: 25.2896 - mae: 25.2896\n",
            "Epoch 359/500\n",
            "2/2 [==============================] - 0s 8ms/step - loss: 14.7613 - mae: 14.7613\n",
            "Epoch 360/500\n",
            "2/2 [==============================] - 0s 10ms/step - loss: 12.0794 - mae: 12.0794\n",
            "Epoch 361/500\n",
            "2/2 [==============================] - 0s 6ms/step - loss: 20.3964 - mae: 20.3964\n",
            "Epoch 362/500\n",
            "2/2 [==============================] - 0s 7ms/step - loss: 23.3505 - mae: 23.3505\n",
            "Epoch 363/500\n",
            "2/2 [==============================] - 0s 7ms/step - loss: 5.3727 - mae: 5.3727\n",
            "Epoch 364/500\n",
            "2/2 [==============================] - 0s 10ms/step - loss: 16.4679 - mae: 16.4679\n",
            "Epoch 365/500\n",
            "2/2 [==============================] - 0s 9ms/step - loss: 15.5830 - mae: 15.5830\n",
            "Epoch 366/500\n",
            "2/2 [==============================] - 0s 8ms/step - loss: 19.2172 - mae: 19.2172\n",
            "Epoch 367/500\n",
            "2/2 [==============================] - 0s 6ms/step - loss: 14.5977 - mae: 14.5977\n",
            "Epoch 368/500\n",
            "2/2 [==============================] - 0s 8ms/step - loss: 28.8698 - mae: 28.8698\n",
            "Epoch 369/500\n",
            "2/2 [==============================] - 0s 6ms/step - loss: 9.2415 - mae: 9.2415\n",
            "Epoch 370/500\n",
            "2/2 [==============================] - 0s 5ms/step - loss: 13.2678 - mae: 13.2678\n",
            "Epoch 371/500\n",
            "2/2 [==============================] - 0s 8ms/step - loss: 28.9277 - mae: 28.9277\n",
            "Epoch 372/500\n",
            "2/2 [==============================] - 0s 9ms/step - loss: 4.6397 - mae: 4.6397\n",
            "Epoch 373/500\n",
            "2/2 [==============================] - 0s 14ms/step - loss: 14.7913 - mae: 14.7913\n",
            "Epoch 374/500\n",
            "2/2 [==============================] - 0s 11ms/step - loss: 28.8068 - mae: 28.8068\n",
            "Epoch 375/500\n",
            "2/2 [==============================] - 0s 28ms/step - loss: 6.4889 - mae: 6.4889\n",
            "Epoch 376/500\n",
            "2/2 [==============================] - 0s 46ms/step - loss: 11.5667 - mae: 11.5667\n",
            "Epoch 377/500\n",
            "2/2 [==============================] - 0s 5ms/step - loss: 6.1201 - mae: 6.1201\n",
            "Epoch 378/500\n",
            "2/2 [==============================] - 0s 12ms/step - loss: 19.7346 - mae: 19.7346\n",
            "Epoch 379/500\n",
            "2/2 [==============================] - 0s 9ms/step - loss: 7.1225 - mae: 7.1225\n",
            "Epoch 380/500\n",
            "2/2 [==============================] - 0s 5ms/step - loss: 7.1691 - mae: 7.1691\n",
            "Epoch 381/500\n",
            "2/2 [==============================] - 0s 4ms/step - loss: 31.2042 - mae: 31.2042\n",
            "Epoch 382/500\n",
            "2/2 [==============================] - 0s 3ms/step - loss: 15.0875 - mae: 15.0875\n",
            "Epoch 383/500\n",
            "2/2 [==============================] - 0s 169ms/step - loss: 14.2002 - mae: 14.2002\n",
            "Epoch 384/500\n",
            "2/2 [==============================] - 0s 5ms/step - loss: 17.7214 - mae: 17.7214\n",
            "Epoch 385/500\n",
            "2/2 [==============================] - 0s 6ms/step - loss: 11.5596 - mae: 11.5596\n",
            "Epoch 386/500\n",
            "2/2 [==============================] - 0s 3ms/step - loss: 16.7514 - mae: 16.7514\n",
            "Epoch 387/500\n",
            "2/2 [==============================] - 0s 4ms/step - loss: 15.0934 - mae: 15.0934\n",
            "Epoch 388/500\n",
            "2/2 [==============================] - 0s 7ms/step - loss: 17.1529 - mae: 17.1529\n",
            "Epoch 389/500\n",
            "2/2 [==============================] - 0s 6ms/step - loss: 20.1043 - mae: 20.1043\n",
            "Epoch 390/500\n",
            "2/2 [==============================] - 0s 4ms/step - loss: 33.4909 - mae: 33.4909\n",
            "Epoch 391/500\n",
            "2/2 [==============================] - 0s 6ms/step - loss: 9.2132 - mae: 9.2132\n",
            "Epoch 392/500\n",
            "2/2 [==============================] - 0s 6ms/step - loss: 12.3649 - mae: 12.3649\n",
            "Epoch 393/500\n",
            "2/2 [==============================] - 0s 4ms/step - loss: 17.3388 - mae: 17.3388\n",
            "Epoch 394/500\n",
            "2/2 [==============================] - 0s 4ms/step - loss: 16.3676 - mae: 16.3676\n",
            "Epoch 395/500\n",
            "2/2 [==============================] - 0s 4ms/step - loss: 20.8504 - mae: 20.8504\n",
            "Epoch 396/500\n",
            "2/2 [==============================] - 0s 4ms/step - loss: 18.4170 - mae: 18.4170\n",
            "Epoch 397/500\n",
            "2/2 [==============================] - 0s 8ms/step - loss: 6.8369 - mae: 6.8369\n",
            "Epoch 398/500\n",
            "2/2 [==============================] - 0s 10ms/step - loss: 16.6840 - mae: 16.6840\n",
            "Epoch 399/500\n",
            "2/2 [==============================] - 0s 16ms/step - loss: 8.0510 - mae: 8.0510\n",
            "Epoch 400/500\n",
            "2/2 [==============================] - 0s 6ms/step - loss: 21.0312 - mae: 21.0312\n",
            "Epoch 401/500\n",
            "2/2 [==============================] - 0s 5ms/step - loss: 5.5860 - mae: 5.5860\n",
            "Epoch 402/500\n",
            "2/2 [==============================] - 0s 20ms/step - loss: 12.6143 - mae: 12.6143\n",
            "Epoch 403/500\n",
            "2/2 [==============================] - 0s 7ms/step - loss: 18.4587 - mae: 18.4587\n",
            "Epoch 404/500\n",
            "2/2 [==============================] - 0s 13ms/step - loss: 10.4775 - mae: 10.4775\n",
            "Epoch 405/500\n",
            "2/2 [==============================] - 0s 11ms/step - loss: 11.6965 - mae: 11.6965\n",
            "Epoch 406/500\n",
            "2/2 [==============================] - 0s 13ms/step - loss: 13.3706 - mae: 13.3706\n",
            "Epoch 407/500\n",
            "2/2 [==============================] - 0s 8ms/step - loss: 19.7248 - mae: 19.7248\n",
            "Epoch 408/500\n",
            "2/2 [==============================] - 0s 4ms/step - loss: 27.1814 - mae: 27.1814\n",
            "Epoch 409/500\n",
            "2/2 [==============================] - 0s 10ms/step - loss: 26.8554 - mae: 26.8554\n",
            "Epoch 410/500\n",
            "2/2 [==============================] - 0s 7ms/step - loss: 14.5916 - mae: 14.5916\n",
            "Epoch 411/500\n",
            "2/2 [==============================] - 0s 4ms/step - loss: 6.0971 - mae: 6.0971\n",
            "Epoch 412/500\n",
            "2/2 [==============================] - 0s 10ms/step - loss: 22.9354 - mae: 22.9354\n",
            "Epoch 413/500\n",
            "2/2 [==============================] - 0s 4ms/step - loss: 21.1588 - mae: 21.1588\n",
            "Epoch 414/500\n",
            "2/2 [==============================] - 0s 12ms/step - loss: 11.8412 - mae: 11.8412\n",
            "Epoch 415/500\n",
            "2/2 [==============================] - 0s 4ms/step - loss: 9.5951 - mae: 9.5951\n",
            "Epoch 416/500\n",
            "2/2 [==============================] - 0s 4ms/step - loss: 11.6194 - mae: 11.6194\n",
            "Epoch 417/500\n",
            "2/2 [==============================] - 0s 5ms/step - loss: 16.5285 - mae: 16.5285\n",
            "Epoch 418/500\n",
            "2/2 [==============================] - 0s 12ms/step - loss: 13.8401 - mae: 13.8401\n",
            "Epoch 419/500\n",
            "2/2 [==============================] - 0s 6ms/step - loss: 31.3546 - mae: 31.3546\n",
            "Epoch 420/500\n",
            "2/2 [==============================] - 0s 6ms/step - loss: 10.6022 - mae: 10.6022\n",
            "Epoch 421/500\n",
            "2/2 [==============================] - 0s 5ms/step - loss: 14.8239 - mae: 14.8239\n",
            "Epoch 422/500\n",
            "2/2 [==============================] - 0s 7ms/step - loss: 26.1924 - mae: 26.1924\n",
            "Epoch 423/500\n",
            "2/2 [==============================] - 0s 7ms/step - loss: 15.7719 - mae: 15.7719\n",
            "Epoch 424/500\n",
            "2/2 [==============================] - 0s 6ms/step - loss: 11.0221 - mae: 11.0221\n",
            "Epoch 425/500\n",
            "2/2 [==============================] - 0s 6ms/step - loss: 15.8627 - mae: 15.8627\n",
            "Epoch 426/500\n",
            "2/2 [==============================] - 0s 3ms/step - loss: 23.2826 - mae: 23.2826\n",
            "Epoch 427/500\n",
            "2/2 [==============================] - 0s 4ms/step - loss: 25.8773 - mae: 25.8773\n",
            "Epoch 428/500\n",
            "2/2 [==============================] - 0s 11ms/step - loss: 9.4387 - mae: 9.4387\n",
            "Epoch 429/500\n",
            "2/2 [==============================] - 0s 5ms/step - loss: 9.9174 - mae: 9.9174\n",
            "Epoch 430/500\n",
            "2/2 [==============================] - 0s 4ms/step - loss: 20.2461 - mae: 20.2461\n",
            "Epoch 431/500\n",
            "2/2 [==============================] - 0s 5ms/step - loss: 37.9672 - mae: 37.9672\n",
            "Epoch 432/500\n",
            "2/2 [==============================] - 0s 36ms/step - loss: 7.4889 - mae: 7.4889\n",
            "Epoch 433/500\n",
            "2/2 [==============================] - 0s 27ms/step - loss: 6.1936 - mae: 6.1936\n",
            "Epoch 434/500\n",
            "2/2 [==============================] - 0s 36ms/step - loss: 28.9273 - mae: 28.9273\n",
            "Epoch 435/500\n",
            "2/2 [==============================] - 0s 9ms/step - loss: 4.8595 - mae: 4.8595\n",
            "Epoch 436/500\n",
            "2/2 [==============================] - 0s 30ms/step - loss: 12.0943 - mae: 12.0943\n",
            "Epoch 437/500\n",
            "2/2 [==============================] - 0s 4ms/step - loss: 6.9456 - mae: 6.9456\n",
            "Epoch 438/500\n",
            "2/2 [==============================] - 0s 14ms/step - loss: 22.5998 - mae: 22.5998\n",
            "Epoch 439/500\n",
            "2/2 [==============================] - 0s 22ms/step - loss: 20.9408 - mae: 20.9408\n",
            "Epoch 440/500\n",
            "2/2 [==============================] - 0s 16ms/step - loss: 12.6162 - mae: 12.6162\n",
            "Epoch 441/500\n",
            "2/2 [==============================] - 0s 10ms/step - loss: 19.9551 - mae: 19.9551\n",
            "Epoch 442/500\n",
            "2/2 [==============================] - 0s 5ms/step - loss: 20.8010 - mae: 20.8010\n",
            "Epoch 443/500\n",
            "2/2 [==============================] - 0s 7ms/step - loss: 22.4107 - mae: 22.4107\n",
            "Epoch 444/500\n",
            "2/2 [==============================] - 0s 14ms/step - loss: 6.9767 - mae: 6.9767\n",
            "Epoch 445/500\n",
            "2/2 [==============================] - 0s 13ms/step - loss: 20.9072 - mae: 20.9072\n",
            "Epoch 446/500\n",
            "2/2 [==============================] - 0s 15ms/step - loss: 7.0969 - mae: 7.0969\n",
            "Epoch 447/500\n",
            "2/2 [==============================] - 0s 11ms/step - loss: 9.8036 - mae: 9.8036\n",
            "Epoch 448/500\n",
            "2/2 [==============================] - 0s 16ms/step - loss: 6.1861 - mae: 6.1861\n",
            "Epoch 449/500\n",
            "2/2 [==============================] - 0s 16ms/step - loss: 24.3456 - mae: 24.3456\n",
            "Epoch 450/500\n",
            "2/2 [==============================] - 0s 6ms/step - loss: 15.2697 - mae: 15.2697\n",
            "Epoch 451/500\n",
            "2/2 [==============================] - 0s 13ms/step - loss: 12.3463 - mae: 12.3463\n",
            "Epoch 452/500\n",
            "2/2 [==============================] - 0s 16ms/step - loss: 28.2845 - mae: 28.2845\n",
            "Epoch 453/500\n",
            "2/2 [==============================] - 0s 11ms/step - loss: 5.4301 - mae: 5.4301\n",
            "Epoch 454/500\n",
            "2/2 [==============================] - 0s 6ms/step - loss: 26.0545 - mae: 26.0545\n",
            "Epoch 455/500\n",
            "2/2 [==============================] - 0s 11ms/step - loss: 24.0989 - mae: 24.0989\n",
            "Epoch 456/500\n",
            "2/2 [==============================] - 0s 6ms/step - loss: 6.0809 - mae: 6.0809\n",
            "Epoch 457/500\n",
            "2/2 [==============================] - 0s 29ms/step - loss: 13.2624 - mae: 13.2624\n",
            "Epoch 458/500\n",
            "2/2 [==============================] - 0s 27ms/step - loss: 16.8245 - mae: 16.8245\n",
            "Epoch 459/500\n",
            "2/2 [==============================] - 0s 17ms/step - loss: 6.8706 - mae: 6.8706\n",
            "Epoch 460/500\n",
            "2/2 [==============================] - 0s 13ms/step - loss: 17.0950 - mae: 17.0950\n",
            "Epoch 461/500\n",
            "2/2 [==============================] - 0s 7ms/step - loss: 19.9465 - mae: 19.9465\n",
            "Epoch 462/500\n",
            "2/2 [==============================] - 0s 6ms/step - loss: 9.4502 - mae: 9.4502\n",
            "Epoch 463/500\n",
            "2/2 [==============================] - 0s 5ms/step - loss: 8.4810 - mae: 8.4810\n",
            "Epoch 464/500\n",
            "2/2 [==============================] - 0s 21ms/step - loss: 11.0292 - mae: 11.0292\n",
            "Epoch 465/500\n",
            "2/2 [==============================] - 0s 14ms/step - loss: 14.6843 - mae: 14.6843\n",
            "Epoch 466/500\n",
            "2/2 [==============================] - 0s 233ms/step - loss: 10.4146 - mae: 10.4146\n",
            "Epoch 467/500\n",
            "2/2 [==============================] - 0s 6ms/step - loss: 17.2107 - mae: 17.2107\n",
            "Epoch 468/500\n",
            "2/2 [==============================] - 0s 6ms/step - loss: 8.4478 - mae: 8.4478\n",
            "Epoch 469/500\n",
            "2/2 [==============================] - 0s 7ms/step - loss: 17.0005 - mae: 17.0005\n",
            "Epoch 470/500\n",
            "2/2 [==============================] - 0s 6ms/step - loss: 11.3251 - mae: 11.3251\n",
            "Epoch 471/500\n",
            "2/2 [==============================] - 0s 6ms/step - loss: 24.1495 - mae: 24.1495\n",
            "Epoch 472/500\n",
            "2/2 [==============================] - 0s 7ms/step - loss: 17.0269 - mae: 17.0269\n",
            "Epoch 473/500\n",
            "2/2 [==============================] - 0s 3ms/step - loss: 5.5747 - mae: 5.5747\n",
            "Epoch 474/500\n",
            "2/2 [==============================] - 0s 6ms/step - loss: 15.9064 - mae: 15.9064\n",
            "Epoch 475/500\n",
            "2/2 [==============================] - 0s 7ms/step - loss: 7.3744 - mae: 7.3744\n",
            "Epoch 476/500\n",
            "2/2 [==============================] - 0s 6ms/step - loss: 11.7439 - mae: 11.7439\n",
            "Epoch 477/500\n",
            "2/2 [==============================] - 0s 8ms/step - loss: 21.2090 - mae: 21.2090\n",
            "Epoch 478/500\n",
            "2/2 [==============================] - 0s 7ms/step - loss: 21.4903 - mae: 21.4903\n",
            "Epoch 479/500\n",
            "2/2 [==============================] - 0s 4ms/step - loss: 11.2386 - mae: 11.2386\n",
            "Epoch 480/500\n",
            "2/2 [==============================] - 0s 4ms/step - loss: 6.0284 - mae: 6.0284\n",
            "Epoch 481/500\n",
            "2/2 [==============================] - 0s 8ms/step - loss: 22.7569 - mae: 22.7569\n",
            "Epoch 482/500\n",
            "2/2 [==============================] - 0s 4ms/step - loss: 10.5444 - mae: 10.5444\n",
            "Epoch 483/500\n",
            "2/2 [==============================] - 0s 3ms/step - loss: 17.0298 - mae: 17.0298\n",
            "Epoch 484/500\n",
            "2/2 [==============================] - 0s 4ms/step - loss: 22.6091 - mae: 22.6091\n",
            "Epoch 485/500\n",
            "2/2 [==============================] - 0s 5ms/step - loss: 10.2762 - mae: 10.2762\n",
            "Epoch 486/500\n",
            "2/2 [==============================] - 0s 4ms/step - loss: 5.8257 - mae: 5.8257\n",
            "Epoch 487/500\n",
            "2/2 [==============================] - 0s 4ms/step - loss: 9.7019 - mae: 9.7019\n",
            "Epoch 488/500\n",
            "2/2 [==============================] - 0s 3ms/step - loss: 14.5024 - mae: 14.5024\n",
            "Epoch 489/500\n",
            "2/2 [==============================] - 0s 5ms/step - loss: 17.5307 - mae: 17.5307\n",
            "Epoch 490/500\n",
            "2/2 [==============================] - 0s 4ms/step - loss: 7.7345 - mae: 7.7345\n",
            "Epoch 491/500\n",
            "2/2 [==============================] - 0s 12ms/step - loss: 17.7355 - mae: 17.7355\n",
            "Epoch 492/500\n",
            "2/2 [==============================] - 0s 10ms/step - loss: 22.5776 - mae: 22.5776\n",
            "Epoch 493/500\n",
            "2/2 [==============================] - 0s 18ms/step - loss: 19.0046 - mae: 19.0046\n",
            "Epoch 494/500\n",
            "2/2 [==============================] - 0s 6ms/step - loss: 11.0220 - mae: 11.0220\n",
            "Epoch 495/500\n",
            "2/2 [==============================] - 0s 3ms/step - loss: 18.3392 - mae: 18.3392\n",
            "Epoch 496/500\n",
            "2/2 [==============================] - 0s 4ms/step - loss: 8.7829 - mae: 8.7829\n",
            "Epoch 497/500\n",
            "2/2 [==============================] - 0s 7ms/step - loss: 10.9458 - mae: 10.9458\n",
            "Epoch 498/500\n",
            "2/2 [==============================] - 0s 8ms/step - loss: 18.1577 - mae: 18.1577\n",
            "Epoch 499/500\n",
            "2/2 [==============================] - 0s 6ms/step - loss: 12.9007 - mae: 12.9007\n",
            "Epoch 500/500\n",
            "2/2 [==============================] - 0s 12ms/step - loss: 19.1447 - mae: 19.1447\n"
          ]
        },
        {
          "output_type": "execute_result",
          "data": {
            "text/plain": [
              "<keras.callbacks.History at 0x7f5f1a1e7c10>"
            ]
          },
          "metadata": {},
          "execution_count": 42
        }
      ]
    },
    {
      "cell_type": "code",
      "source": [
        "y_pred3 = model_3.predict(X_test)\n",
        "plot_pred(predictions=y_pred)"
      ],
      "metadata": {
        "colab": {
          "base_uri": "https://localhost:8080/",
          "height": 466
        },
        "id": "ILHBKIG-BDVl",
        "outputId": "78b6b57c-0e94-4f17-970f-2f55a68dfa7c"
      },
      "execution_count": null,
      "outputs": [
        {
          "output_type": "stream",
          "name": "stderr",
          "text": [
            "WARNING:tensorflow:6 out of the last 6 calls to <function Model.make_predict_function.<locals>.predict_function at 0x7f5f18e297a0> triggered tf.function retracing. Tracing is expensive and the excessive number of tracings could be due to (1) creating @tf.function repeatedly in a loop, (2) passing tensors with different shapes, (3) passing Python objects instead of tensors. For (1), please define your @tf.function outside of the loop. For (2), @tf.function has experimental_relax_shapes=True option that relaxes argument shapes that can avoid unnecessary retracing. For (3), please refer to https://www.tensorflow.org/guide/function#controlling_retracing and https://www.tensorflow.org/api_docs/python/tf/function for  more details.\n"
          ]
        },
        {
          "output_type": "display_data",
          "data": {
            "text/plain": [
              "<Figure size 720x504 with 1 Axes>"
            ],
            "image/png": "[encoded data removed]"
          },
          "metadata": {
            "needs_background": "light"
          }
        }
      ]
    },
    {
      "cell_type": "code",
      "source": [
        "mae3 = mae(y_test, y_pred3)\n",
        "mse3 = mse(y_test, y_pred3)\n",
        "mae3, mse3"
      ],
      "metadata": {
        "colab": {
          "base_uri": "https://localhost:8080/"
        },
        "id": "Q-e1STm1EoGW",
        "outputId": "1c7e5125-9ca2-4caa-c98f-cbbaa1b9acd5"
      },
      "execution_count": null,
      "outputs": [
        {
          "output_type": "execute_result",
          "data": {
            "text/plain": [
              "(<tf.Tensor: shape=(), dtype=float32, numpy=15.396741>,\n",
              " <tf.Tensor: shape=(), dtype=float32, numpy=239.88412>)"
            ]
          },
          "metadata": {},
          "execution_count": 44
        }
      ]
    },
    {
      "cell_type": "markdown",
      "source": [
        "### Compare the results"
      ],
      "metadata": {
        "id": "l4WH9mVsPQF9"
      }
    },
    {
      "cell_type": "code",
      "source": [
        "# Pandas Dataframe\n",
        "\n",
        "import pandas as pd\n",
        "model_results = [['model 1', mae1.numpy(), mse1.numpy()],\n",
        "                 ['model 2', mae2.numpy(), mse2.numpy()],\n",
        "                 ['model_3', mae3.numpy(), mse3.numpy()]]\n",
        "results = pd.DataFrame(model_results, columns=['model', 'mae', 'mse'])\n",
        "results"
      ],
      "metadata": {
        "id": "cZOEy3KtE2Pi",
        "colab": {
          "base_uri": "https://localhost:8080/",
          "height": 143
        },
        "outputId": "006abdfb-ccd1-4308-9fec-d3ff95076975"
      },
      "execution_count": null,
      "outputs": [
        {
          "output_type": "execute_result",
          "data": {
            "text/plain": [
              "     model        mae         mse\n",
              "0  model 1   1.163763    1.354557\n",
              "1  model 2  10.970955  120.506088\n",
              "2  model_3  15.396741  239.884125"
            ],
            "text/html": [
              "\n",
              "  <div id=\"df-125cb0e2-bdd6-40d3-8a57-c7b47dfdd0cf\">\n",
              "    <div class=\"colab-df-container\">\n",
              "      <div>\n",
              "<style scoped>\n",
              "    .dataframe tbody tr th:only-of-type {\n",
              "        vertical-align: middle;\n",
              "    }\n",
              "\n",
              "    .dataframe tbody tr th {\n",
              "        vertical-align: top;\n",
              "    }\n",
              "\n",
              "    .dataframe thead th {\n",
              "        text-align: right;\n",
              "    }\n",
              "</style>\n",
              "<table border=\"1\" class=\"dataframe\">\n",
              "  <thead>\n",
              "    <tr style=\"text-align: right;\">\n",
              "      <th></th>\n",
              "      <th>model</th>\n",
              "      <th>mae</th>\n",
              "      <th>mse</th>\n",
              "    </tr>\n",
              "  </thead>\n",
              "  <tbody>\n",
              "    <tr>\n",
              "      <th>0</th>\n",
              "      <td>model 1</td>\n",
              "      <td>1.163763</td>\n",
              "      <td>1.354557</td>\n",
              "    </tr>\n",
              "    <tr>\n",
              "      <th>1</th>\n",
              "      <td>model 2</td>\n",
              "      <td>10.970955</td>\n",
              "      <td>120.506088</td>\n",
              "    </tr>\n",
              "    <tr>\n",
              "      <th>2</th>\n",
              "      <td>model_3</td>\n",
              "      <td>15.396741</td>\n",
              "      <td>239.884125</td>\n",
              "    </tr>\n",
              "  </tbody>\n",
              "</table>\n",
              "</div>\n",
              "      <button class=\"colab-df-convert\" onclick=\"convertToInteractive('df-125cb0e2-bdd6-40d3-8a57-c7b47dfdd0cf')\"\n",
              "              title=\"Convert this dataframe to an interactive table.\"\n",
              "              style=\"display:none;\">\n",
              "        \n",
              "  <svg xmlns=\"http://www.w3.org/2000/svg\" height=\"24px\"viewBox=\"0 0 24 24\"\n",
              "       width=\"24px\">\n",
              "    <path d=\"M0 0h24v24H0V0z\" fill=\"none\"/>\n",
              "    <path d=\"M18.56 5.44l.94 2.06.94-2.06 2.06-.94-2.06-.94-.94-2.06-.94 2.06-2.06.94zm-11 1L8.5 8.5l.94-2.06 2.06-.94-2.06-.94L8.5 2.5l-.94 2.06-2.06.94zm10 10l.94 2.06.94-2.06 2.06-.94-2.06-.94-.94-2.06-.94 2.06-2.06.94z\"/><path d=\"M17.41 7.96l-1.37-1.37c-.4-.4-.92-.59-1.43-.59-.52 0-1.04.2-1.43.59L10.3 9.45l-7.72 7.72c-.78.78-.78 2.05 0 2.83L4 21.41c.39.39.9.59 1.41.59.51 0 1.02-.2 1.41-.59l7.78-7.78 2.81-2.81c.8-.78.8-2.07 0-2.86zM5.41 20L4 18.59l7.72-7.72 1.47 1.35L5.41 20z\"/>\n",
              "  </svg>\n",
              "      </button>\n",
              "      \n",
              "  <style>\n",
              "    .colab-df-container {\n",
              "      display:flex;\n",
              "      flex-wrap:wrap;\n",
              "      gap: 12px;\n",
              "    }\n",
              "\n",
              "    .colab-df-convert {\n",
              "      background-color: #E8F0FE;\n",
              "      border: none;\n",
              "      border-radius: 50%;\n",
              "      cursor: pointer;\n",
              "      display: none;\n",
              "      fill: #1967D2;\n",
              "      height: 32px;\n",
              "      padding: 0 0 0 0;\n",
              "      width: 32px;\n",
              "    }\n",
              "\n",
              "    .colab-df-convert:hover {\n",
              "      background-color: #E2EBFA;\n",
              "      box-shadow: 0px 1px 2px rgba(60, 64, 67, 0.3), 0px 1px 3px 1px rgba(60, 64, 67, 0.15);\n",
              "      fill: #174EA6;\n",
              "    }\n",
              "\n",
              "    [theme=dark] .colab-df-convert {\n",
              "      background-color: #3B4455;\n",
              "      fill: #D2E3FC;\n",
              "    }\n",
              "\n",
              "    [theme=dark] .colab-df-convert:hover {\n",
              "      background-color: #434B5C;\n",
              "      box-shadow: 0px 1px 3px 1px rgba(0, 0, 0, 0.15);\n",
              "      filter: drop-shadow(0px 1px 2px rgba(0, 0, 0, 0.3));\n",
              "      fill: #FFFFFF;\n",
              "    }\n",
              "  </style>\n",
              "\n",
              "      <script>\n",
              "        const buttonEl =\n",
              "          document.querySelector('#df-125cb0e2-bdd6-40d3-8a57-c7b47dfdd0cf button.colab-df-convert');\n",
              "        buttonEl.style.display =\n",
              "          google.colab.kernel.accessAllowed ? 'block' : 'none';\n",
              "\n",
              "        async function convertToInteractive(key) {\n",
              "          const element = document.querySelector('#df-125cb0e2-bdd6-40d3-8a57-c7b47dfdd0cf');\n",
              "          const dataTable =\n",
              "            await google.colab.kernel.invokeFunction('convertToInteractive',\n",
              "                                                     [key], {});\n",
              "          if (!dataTable) return;\n",
              "\n",
              "          const docLinkHtml = 'Like what you see? Visit the ' +\n",
              "            '<a target=\"_blank\" href=https://colab.research.google.com/notebooks/data_table.ipynb>data table notebook</a>'\n",
              "            + ' to learn more about interactive tables.';\n",
              "          element.innerHTML = '';\n",
              "          dataTable['output_type'] = 'display_data';\n",
              "          await google.colab.output.renderOutput(dataTable, element);\n",
              "          const docLink = document.createElement('div');\n",
              "          docLink.innerHTML = docLinkHtml;\n",
              "          element.appendChild(docLink);\n",
              "        }\n",
              "      </script>\n",
              "    </div>\n",
              "  </div>\n",
              "  "
            ]
          },
          "metadata": {},
          "execution_count": 45
        }
      ]
    },
    {
      "cell_type": "markdown",
      "source": [
        "### Tracking your experiments\n",
        "\n",
        "**Resources**:\n",
        "1. Tensorboard\n",
        "2. Weights & Biases - A tool to track experiments"
      ],
      "metadata": {
        "id": "UunQpV4_R3s7"
      }
    },
    {
      "cell_type": "markdown",
      "source": [
        "## Saving A Deep Learning Model\n",
        "\n",
        "Two ways to save a model:\n",
        "* SavedModel format\n",
        "* HDF5 format"
      ],
      "metadata": {
        "id": "qNvDQQyxSPTp"
      }
    },
    {
      "cell_type": "code",
      "source": [
        "model_1.save('best_model')"
      ],
      "metadata": {
        "id": "kRUT5M0pRK6e"
      },
      "execution_count": null,
      "outputs": []
    },
    {
      "cell_type": "code",
      "source": [
        "model_1.save('best_model.h5')"
      ],
      "metadata": {
        "id": "ZZKP7idsS3pA"
      },
      "execution_count": null,
      "outputs": []
    },
    {
      "cell_type": "markdown",
      "source": [
        "## Loading a Deep Learning Model"
      ],
      "metadata": {
        "id": "Vn-GhPK5TMRi"
      }
    },
    {
      "cell_type": "code",
      "source": [
        "# SavedModel\n",
        "\n",
        "load_model = tf.keras.models.load_model('/content/best_model')\n",
        "load_model.summary()"
      ],
      "metadata": {
        "colab": {
          "base_uri": "https://localhost:8080/"
        },
        "id": "xXBgtxY_TE9w",
        "outputId": "259cc095-377a-4e9f-f132-59b6c9a6e2fd"
      },
      "execution_count": null,
      "outputs": [
        {
          "output_type": "stream",
          "name": "stdout",
          "text": [
            "Model: \"sequential_4\"\n",
            "_________________________________________________________________\n",
            " Layer (type)                Output Shape              Param #   \n",
            "=================================================================\n",
            " dense_4 (Dense)             (None, 1)                 2         \n",
            "                                                                 \n",
            "=================================================================\n",
            "Total params: 2\n",
            "Trainable params: 2\n",
            "Non-trainable params: 0\n",
            "_________________________________________________________________\n"
          ]
        }
      ]
    },
    {
      "cell_type": "code",
      "source": [
        "model_1.summary()"
      ],
      "metadata": {
        "colab": {
          "base_uri": "https://localhost:8080/"
        },
        "id": "pa85JUpcYMvo",
        "outputId": "a0c5d94f-3c76-4b75-85be-bf450bcdfcb1"
      },
      "execution_count": null,
      "outputs": [
        {
          "output_type": "stream",
          "name": "stdout",
          "text": [
            "Model: \"sequential_4\"\n",
            "_________________________________________________________________\n",
            " Layer (type)                Output Shape              Param #   \n",
            "=================================================================\n",
            " dense_4 (Dense)             (None, 1)                 2         \n",
            "                                                                 \n",
            "=================================================================\n",
            "Total params: 2\n",
            "Trainable params: 2\n",
            "Non-trainable params: 0\n",
            "_________________________________________________________________\n"
          ]
        }
      ]
    },
    {
      "cell_type": "code",
      "source": [
        "y_pred11 = model_1.predict(X_test)\n",
        "load_model_preds = load_model.predict(X_test)"
      ],
      "metadata": {
        "id": "Vr_oeuu3U7ze"
      },
      "execution_count": null,
      "outputs": []
    },
    {
      "cell_type": "code",
      "source": [
        "load_model_preds == y_pred11"
      ],
      "metadata": {
        "colab": {
          "base_uri": "https://localhost:8080/"
        },
        "id": "-E0q4hn0W4wM",
        "outputId": "1a5fbc8c-2251-4043-9d1d-74026859a10e"
      },
      "execution_count": null,
      "outputs": [
        {
          "output_type": "execute_result",
          "data": {
            "text/plain": [
              "array([[ True],\n",
              "       [ True],\n",
              "       [ True],\n",
              "       [ True],\n",
              "       [ True],\n",
              "       [ True],\n",
              "       [ True],\n",
              "       [ True],\n",
              "       [ True],\n",
              "       [ True]])"
            ]
          },
          "metadata": {},
          "execution_count": 86
        }
      ]
    },
    {
      "cell_type": "code",
      "source": [
        "load_model_preds.shape == y_pred11.shape"
      ],
      "metadata": {
        "colab": {
          "base_uri": "https://localhost:8080/"
        },
        "id": "uFboRRIrWNs1",
        "outputId": "3f0c46e9-9381-4a1e-d0ed-004ddf11be9b"
      },
      "execution_count": null,
      "outputs": [
        {
          "output_type": "execute_result",
          "data": {
            "text/plain": [
              "True"
            ]
          },
          "metadata": {},
          "execution_count": 87
        }
      ]
    },
    {
      "cell_type": "code",
      "source": [
        "load_model_preds.squeeze() == y_pred11.squeeze()"
      ],
      "metadata": {
        "colab": {
          "base_uri": "https://localhost:8080/"
        },
        "id": "C9Kln_H-WUuY",
        "outputId": "14b63a34-457a-481f-b0d8-9c2f307b1407"
      },
      "execution_count": null,
      "outputs": [
        {
          "output_type": "execute_result",
          "data": {
            "text/plain": [
              "array([ True,  True,  True,  True,  True,  True,  True,  True,  True,\n",
              "        True])"
            ]
          },
          "metadata": {},
          "execution_count": 88
        }
      ]
    },
    {
      "cell_type": "code",
      "source": [
        "y_pred11.squeeze().shape, y_pred11.shape, y_pred11.flatten().shape # flatten here is numpy function"
      ],
      "metadata": {
        "colab": {
          "base_uri": "https://localhost:8080/"
        },
        "id": "iNLc29NFWcYV",
        "outputId": "e6997fc5-114e-44b4-c27f-51cdc6a6c8c9"
      },
      "execution_count": null,
      "outputs": [
        {
          "output_type": "execute_result",
          "data": {
            "text/plain": [
              "((10,), (10, 1), (10,))"
            ]
          },
          "metadata": {},
          "execution_count": 89
        }
      ]
    },
    {
      "cell_type": "code",
      "source": [
        "load_model_preds.squeeze(), y_pred11.squeeze()"
      ],
      "metadata": {
        "colab": {
          "base_uri": "https://localhost:8080/"
        },
        "id": "P6CN1YPbW9zo",
        "outputId": "3e060087-4fd9-43b7-8936-98acae46dc17"
      },
      "execution_count": null,
      "outputs": [
        {
          "output_type": "execute_result",
          "data": {
            "text/plain": [
              "(array([61.199352, 65.19427 , 69.189186, 73.184105, 77.179016, 81.173935,\n",
              "        85.168846, 89.163765, 93.158676, 97.153595], dtype=float32),\n",
              " array([61.199352, 65.19427 , 69.189186, 73.184105, 77.179016, 81.173935,\n",
              "        85.168846, 89.163765, 93.158676, 97.153595], dtype=float32))"
            ]
          },
          "metadata": {},
          "execution_count": 90
        }
      ]
    },
    {
      "cell_type": "code",
      "source": [
        "mae4 = mae(y_test, load_model_preds)\n",
        "mse4 = mse(y_test, load_model_preds)"
      ],
      "metadata": {
        "id": "avgz2crJG-zN"
      },
      "execution_count": null,
      "outputs": []
    },
    {
      "cell_type": "code",
      "source": [
        "# HDF5 model\n",
        "\n",
        "loadh5 = tf.keras.models.load_model('/content/best_model.h5')\n",
        "loadh5.summary()"
      ],
      "metadata": {
        "id": "wmZvm3DAX6yA",
        "colab": {
          "base_uri": "https://localhost:8080/"
        },
        "outputId": "2dd4a628-cf19-4e81-a3c8-7fb10a3a2568"
      },
      "execution_count": null,
      "outputs": [
        {
          "output_type": "stream",
          "name": "stdout",
          "text": [
            "Model: \"sequential_4\"\n",
            "_________________________________________________________________\n",
            " Layer (type)                Output Shape              Param #   \n",
            "=================================================================\n",
            " dense_4 (Dense)             (None, 1)                 2         \n",
            "                                                                 \n",
            "=================================================================\n",
            "Total params: 2\n",
            "Trainable params: 2\n",
            "Non-trainable params: 0\n",
            "_________________________________________________________________\n"
          ]
        }
      ]
    },
    {
      "cell_type": "code",
      "source": [
        "model_1.summary()"
      ],
      "metadata": {
        "colab": {
          "base_uri": "https://localhost:8080/"
        },
        "id": "Ok5UPk0SFIdE",
        "outputId": "bd81f66f-2952-4172-e9f5-2c1e1c56584e"
      },
      "execution_count": null,
      "outputs": [
        {
          "output_type": "stream",
          "name": "stdout",
          "text": [
            "Model: \"sequential_4\"\n",
            "_________________________________________________________________\n",
            " Layer (type)                Output Shape              Param #   \n",
            "=================================================================\n",
            " dense_4 (Dense)             (None, 1)                 2         \n",
            "                                                                 \n",
            "=================================================================\n",
            "Total params: 2\n",
            "Trainable params: 2\n",
            "Non-trainable params: 0\n",
            "_________________________________________________________________\n"
          ]
        }
      ]
    },
    {
      "cell_type": "code",
      "source": [
        "y_pred12 = model_1.predict(X_test)\n",
        "loadh5_preds = loadh5.predict(X_test)"
      ],
      "metadata": {
        "id": "EdvRtrgmFfIV"
      },
      "execution_count": null,
      "outputs": []
    },
    {
      "cell_type": "code",
      "source": [
        "loadh5_preds == y_pred12"
      ],
      "metadata": {
        "colab": {
          "base_uri": "https://localhost:8080/"
        },
        "id": "UXjM-m5LF5VE",
        "outputId": "836bca0f-4a52-454e-de89-bf944e0fa7a6"
      },
      "execution_count": null,
      "outputs": [
        {
          "output_type": "execute_result",
          "data": {
            "text/plain": [
              "array([[ True],\n",
              "       [ True],\n",
              "       [ True],\n",
              "       [ True],\n",
              "       [ True],\n",
              "       [ True],\n",
              "       [ True],\n",
              "       [ True],\n",
              "       [ True],\n",
              "       [ True]])"
            ]
          },
          "metadata": {},
          "execution_count": 96
        }
      ]
    },
    {
      "cell_type": "code",
      "source": [
        "loadh5_preds.shape == y_pred12.shape"
      ],
      "metadata": {
        "colab": {
          "base_uri": "https://localhost:8080/"
        },
        "id": "udWYT4hBF8BP",
        "outputId": "18a72c24-5f29-431f-d1cd-065a7607590b"
      },
      "execution_count": null,
      "outputs": [
        {
          "output_type": "execute_result",
          "data": {
            "text/plain": [
              "True"
            ]
          },
          "metadata": {},
          "execution_count": 97
        }
      ]
    },
    {
      "cell_type": "code",
      "source": [
        "loadh5_preds.squeeze(), y_pred12.squeeze()"
      ],
      "metadata": {
        "colab": {
          "base_uri": "https://localhost:8080/"
        },
        "id": "C7YDOta1GD31",
        "outputId": "0c2b7e1f-00f0-48d3-cc4c-38337066a74c"
      },
      "execution_count": null,
      "outputs": [
        {
          "output_type": "execute_result",
          "data": {
            "text/plain": [
              "(array([61.199352, 65.19427 , 69.189186, 73.184105, 77.179016, 81.173935,\n",
              "        85.168846, 89.163765, 93.158676, 97.153595], dtype=float32),\n",
              " array([61.199352, 65.19427 , 69.189186, 73.184105, 77.179016, 81.173935,\n",
              "        85.168846, 89.163765, 93.158676, 97.153595], dtype=float32))"
            ]
          },
          "metadata": {},
          "execution_count": 98
        }
      ]
    },
    {
      "cell_type": "markdown",
      "source": [
        "## Download the Model to local machine\n",
        "\n",
        "* `files` -> `right click on file` -> `download`\n",
        "* Code\n",
        "* Save it to Google Drive"
      ],
      "metadata": {
        "id": "_yZvrXXFGP3u"
      }
    },
    {
      "cell_type": "code",
      "source": [
        "from google.colab import files\n",
        "files.download(\"/content/best_model.h5\")"
      ],
      "metadata": {
        "colab": {
          "base_uri": "https://localhost:8080/",
          "height": 17
        },
        "id": "Ensr_xZUIBPQ",
        "outputId": "a7711e39-dfe3-49ae-d8c7-e8d8592f301b"
      },
      "execution_count": null,
      "outputs": [
        {
          "output_type": "display_data",
          "data": {
            "text/plain": [
              "<IPython.core.display.Javascript object>"
            ],
            "application/javascript": [
              "\n",
              "    async function download(id, filename, size) {\n",
              "      if (!google.colab.kernel.accessAllowed) {\n",
              "        return;\n",
              "      }\n",
              "      const div = document.createElement('div');\n",
              "      const label = document.createElement('label');\n",
              "      label.textContent = `Downloading \"${filename}\": `;\n",
              "      div.appendChild(label);\n",
              "      const progress = document.createElement('progress');\n",
              "      progress.max = size;\n",
              "      div.appendChild(progress);\n",
              "      document.body.appendChild(div);\n",
              "\n",
              "      const buffers = [];\n",
              "      let downloaded = 0;\n",
              "\n",
              "      const channel = await google.colab.kernel.comms.open(id);\n",
              "      // Send a message to notify the kernel that we're ready.\n",
              "      channel.send({})\n",
              "\n",
              "      for await (const message of channel.messages) {\n",
              "        // Send a message to notify the kernel that we're ready.\n",
              "        channel.send({})\n",
              "        if (message.buffers) {\n",
              "          for (const buffer of message.buffers) {\n",
              "            buffers.push(buffer);\n",
              "            downloaded += buffer.byteLength;\n",
              "            progress.value = downloaded;\n",
              "          }\n",
              "        }\n",
              "      }\n",
              "      const blob = new Blob(buffers, {type: 'application/binary'});\n",
              "      const a = document.createElement('a');\n",
              "      a.href = window.URL.createObjectURL(blob);\n",
              "      a.download = filename;\n",
              "      div.appendChild(a);\n",
              "      a.click();\n",
              "      div.remove();\n",
              "    }\n",
              "  "
            ]
          },
          "metadata": {}
        },
        {
          "output_type": "display_data",
          "data": {
            "text/plain": [
              "<IPython.core.display.Javascript object>"
            ],
            "application/javascript": [
              "download(\"download_225d76ff-7f98-4268-a956-69438c77575d\", \"best_model.h5\", 15064)"
            ]
          },
          "metadata": {}
        }
      ]
    },
    {
      "cell_type": "code",
      "source": [
        "# Google Drive\n",
        "!cp /content/best_model.h5 /content/drive/MyDrive/tf_model"
      ],
      "metadata": {
        "id": "ICA21gAmL1Ao"
      },
      "execution_count": null,
      "outputs": []
    },
    {
      "cell_type": "code",
      "source": [
        "!ls /content/drive/MyDrive/tf_model"
      ],
      "metadata": {
        "colab": {
          "base_uri": "https://localhost:8080/"
        },
        "id": "AGkVzdU1Nojx",
        "outputId": "82d50e5b-5991-45f9-bb33-5f7397103560"
      },
      "execution_count": null,
      "outputs": [
        {
          "output_type": "stream",
          "name": "stdout",
          "text": [
            "best_model.h5\n"
          ]
        }
      ]
    },
    {
      "cell_type": "markdown",
      "source": [
        "# Putting together what we've learned"
      ],
      "metadata": {
        "id": "B9PAuW-FN2Gd"
      }
    },
    {
      "cell_type": "code",
      "source": [
        "# Import libraries\n",
        "import tensorflow as tf\n",
        "import pandas as pd\n",
        "import matplotlib.pyplot as plt"
      ],
      "metadata": {
        "id": "0thUXeTYNrNj"
      },
      "execution_count": null,
      "outputs": []
    },
    {
      "cell_type": "code",
      "source": [
        "# Read data with Pandas\n",
        "data = pd.read_csv('https://raw.githubusercontent.com/stedy/Machine-Learning-with-R-datasets/master/insurance.csv')\n",
        "data.head(10)"
      ],
      "metadata": {
        "colab": {
          "base_uri": "https://localhost:8080/",
          "height": 363
        },
        "id": "626yvDWKRCke",
        "outputId": "1182cfd9-dcaf-407c-f3b2-d6a0ff889ab8"
      },
      "execution_count": null,
      "outputs": [
        {
          "output_type": "execute_result",
          "data": {
            "text/plain": [
              "   age     sex     bmi  children smoker     region      charges\n",
              "0   19  female  27.900         0    yes  southwest  16884.92400\n",
              "1   18    male  33.770         1     no  southeast   1725.55230\n",
              "2   28    male  33.000         3     no  southeast   4449.46200\n",
              "3   33    male  22.705         0     no  northwest  21984.47061\n",
              "4   32    male  28.880         0     no  northwest   3866.85520\n",
              "5   31  female  25.740         0     no  southeast   3756.62160\n",
              "6   46  female  33.440         1     no  southeast   8240.58960\n",
              "7   37  female  27.740         3     no  northwest   7281.50560\n",
              "8   37    male  29.830         2     no  northeast   6406.41070\n",
              "9   60  female  25.840         0     no  northwest  28923.13692"
            ],
            "text/html": [
              "\n",
              "  <div id=\"df-0faf04fa-30ed-4844-a409-7e6dc9a67621\">\n",
              "    <div class=\"colab-df-container\">\n",
              "      <div>\n",
              "<style scoped>\n",
              "    .dataframe tbody tr th:only-of-type {\n",
              "        vertical-align: middle;\n",
              "    }\n",
              "\n",
              "    .dataframe tbody tr th {\n",
              "        vertical-align: top;\n",
              "    }\n",
              "\n",
              "    .dataframe thead th {\n",
              "        text-align: right;\n",
              "    }\n",
              "</style>\n",
              "<table border=\"1\" class=\"dataframe\">\n",
              "  <thead>\n",
              "    <tr style=\"text-align: right;\">\n",
              "      <th></th>\n",
              "      <th>age</th>\n",
              "      <th>sex</th>\n",
              "      <th>bmi</th>\n",
              "      <th>children</th>\n",
              "      <th>smoker</th>\n",
              "      <th>region</th>\n",
              "      <th>charges</th>\n",
              "    </tr>\n",
              "  </thead>\n",
              "  <tbody>\n",
              "    <tr>\n",
              "      <th>0</th>\n",
              "      <td>19</td>\n",
              "      <td>female</td>\n",
              "      <td>27.900</td>\n",
              "      <td>0</td>\n",
              "      <td>yes</td>\n",
              "      <td>southwest</td>\n",
              "      <td>16884.92400</td>\n",
              "    </tr>\n",
              "    <tr>\n",
              "      <th>1</th>\n",
              "      <td>18</td>\n",
              "      <td>male</td>\n",
              "      <td>33.770</td>\n",
              "      <td>1</td>\n",
              "      <td>no</td>\n",
              "      <td>southeast</td>\n",
              "      <td>1725.55230</td>\n",
              "    </tr>\n",
              "    <tr>\n",
              "      <th>2</th>\n",
              "      <td>28</td>\n",
              "      <td>male</td>\n",
              "      <td>33.000</td>\n",
              "      <td>3</td>\n",
              "      <td>no</td>\n",
              "      <td>southeast</td>\n",
              "      <td>4449.46200</td>\n",
              "    </tr>\n",
              "    <tr>\n",
              "      <th>3</th>\n",
              "      <td>33</td>\n",
              "      <td>male</td>\n",
              "      <td>22.705</td>\n",
              "      <td>0</td>\n",
              "      <td>no</td>\n",
              "      <td>northwest</td>\n",
              "      <td>21984.47061</td>\n",
              "    </tr>\n",
              "    <tr>\n",
              "      <th>4</th>\n",
              "      <td>32</td>\n",
              "      <td>male</td>\n",
              "      <td>28.880</td>\n",
              "      <td>0</td>\n",
              "      <td>no</td>\n",
              "      <td>northwest</td>\n",
              "      <td>3866.85520</td>\n",
              "    </tr>\n",
              "    <tr>\n",
              "      <th>5</th>\n",
              "      <td>31</td>\n",
              "      <td>female</td>\n",
              "      <td>25.740</td>\n",
              "      <td>0</td>\n",
              "      <td>no</td>\n",
              "      <td>southeast</td>\n",
              "      <td>3756.62160</td>\n",
              "    </tr>\n",
              "    <tr>\n",
              "      <th>6</th>\n",
              "      <td>46</td>\n",
              "      <td>female</td>\n",
              "      <td>33.440</td>\n",
              "      <td>1</td>\n",
              "      <td>no</td>\n",
              "      <td>southeast</td>\n",
              "      <td>8240.58960</td>\n",
              "    </tr>\n",
              "    <tr>\n",
              "      <th>7</th>\n",
              "      <td>37</td>\n",
              "      <td>female</td>\n",
              "      <td>27.740</td>\n",
              "      <td>3</td>\n",
              "      <td>no</td>\n",
              "      <td>northwest</td>\n",
              "      <td>7281.50560</td>\n",
              "    </tr>\n",
              "    <tr>\n",
              "      <th>8</th>\n",
              "      <td>37</td>\n",
              "      <td>male</td>\n",
              "      <td>29.830</td>\n",
              "      <td>2</td>\n",
              "      <td>no</td>\n",
              "      <td>northeast</td>\n",
              "      <td>6406.41070</td>\n",
              "    </tr>\n",
              "    <tr>\n",
              "      <th>9</th>\n",
              "      <td>60</td>\n",
              "      <td>female</td>\n",
              "      <td>25.840</td>\n",
              "      <td>0</td>\n",
              "      <td>no</td>\n",
              "      <td>northwest</td>\n",
              "      <td>28923.13692</td>\n",
              "    </tr>\n",
              "  </tbody>\n",
              "</table>\n",
              "</div>\n",
              "      <button class=\"colab-df-convert\" onclick=\"convertToInteractive('df-0faf04fa-30ed-4844-a409-7e6dc9a67621')\"\n",
              "              title=\"Convert this dataframe to an interactive table.\"\n",
              "              style=\"display:none;\">\n",
              "        \n",
              "  <svg xmlns=\"http://www.w3.org/2000/svg\" height=\"24px\"viewBox=\"0 0 24 24\"\n",
              "       width=\"24px\">\n",
              "    <path d=\"M0 0h24v24H0V0z\" fill=\"none\"/>\n",
              "    <path d=\"M18.56 5.44l.94 2.06.94-2.06 2.06-.94-2.06-.94-.94-2.06-.94 2.06-2.06.94zm-11 1L8.5 8.5l.94-2.06 2.06-.94-2.06-.94L8.5 2.5l-.94 2.06-2.06.94zm10 10l.94 2.06.94-2.06 2.06-.94-2.06-.94-.94-2.06-.94 2.06-2.06.94z\"/><path d=\"M17.41 7.96l-1.37-1.37c-.4-.4-.92-.59-1.43-.59-.52 0-1.04.2-1.43.59L10.3 9.45l-7.72 7.72c-.78.78-.78 2.05 0 2.83L4 21.41c.39.39.9.59 1.41.59.51 0 1.02-.2 1.41-.59l7.78-7.78 2.81-2.81c.8-.78.8-2.07 0-2.86zM5.41 20L4 18.59l7.72-7.72 1.47 1.35L5.41 20z\"/>\n",
              "  </svg>\n",
              "      </button>\n",
              "      \n",
              "  <style>\n",
              "    .colab-df-container {\n",
              "      display:flex;\n",
              "      flex-wrap:wrap;\n",
              "      gap: 12px;\n",
              "    }\n",
              "\n",
              "    .colab-df-convert {\n",
              "      background-color: #E8F0FE;\n",
              "      border: none;\n",
              "      border-radius: 50%;\n",
              "      cursor: pointer;\n",
              "      display: none;\n",
              "      fill: #1967D2;\n",
              "      height: 32px;\n",
              "      padding: 0 0 0 0;\n",
              "      width: 32px;\n",
              "    }\n",
              "\n",
              "    .colab-df-convert:hover {\n",
              "      background-color: #E2EBFA;\n",
              "      box-shadow: 0px 1px 2px rgba(60, 64, 67, 0.3), 0px 1px 3px 1px rgba(60, 64, 67, 0.15);\n",
              "      fill: #174EA6;\n",
              "    }\n",
              "\n",
              "    [theme=dark] .colab-df-convert {\n",
              "      background-color: #3B4455;\n",
              "      fill: #D2E3FC;\n",
              "    }\n",
              "\n",
              "    [theme=dark] .colab-df-convert:hover {\n",
              "      background-color: #434B5C;\n",
              "      box-shadow: 0px 1px 3px 1px rgba(0, 0, 0, 0.15);\n",
              "      filter: drop-shadow(0px 1px 2px rgba(0, 0, 0, 0.3));\n",
              "      fill: #FFFFFF;\n",
              "    }\n",
              "  </style>\n",
              "\n",
              "      <script>\n",
              "        const buttonEl =\n",
              "          document.querySelector('#df-0faf04fa-30ed-4844-a409-7e6dc9a67621 button.colab-df-convert');\n",
              "        buttonEl.style.display =\n",
              "          google.colab.kernel.accessAllowed ? 'block' : 'none';\n",
              "\n",
              "        async function convertToInteractive(key) {\n",
              "          const element = document.querySelector('#df-0faf04fa-30ed-4844-a409-7e6dc9a67621');\n",
              "          const dataTable =\n",
              "            await google.colab.kernel.invokeFunction('convertToInteractive',\n",
              "                                                     [key], {});\n",
              "          if (!dataTable) return;\n",
              "\n",
              "          const docLinkHtml = 'Like what you see? Visit the ' +\n",
              "            '<a target=\"_blank\" href=https://colab.research.google.com/notebooks/data_table.ipynb>data table notebook</a>'\n",
              "            + ' to learn more about interactive tables.';\n",
              "          element.innerHTML = '';\n",
              "          dataTable['output_type'] = 'display_data';\n",
              "          await google.colab.output.renderOutput(dataTable, element);\n",
              "          const docLink = document.createElement('div');\n",
              "          docLink.innerHTML = docLinkHtml;\n",
              "          element.appendChild(docLink);\n",
              "        }\n",
              "      </script>\n",
              "    </div>\n",
              "  </div>\n",
              "  "
            ]
          },
          "metadata": {},
          "execution_count": 103
        }
      ]
    },
    {
      "cell_type": "code",
      "source": [
        "print(f'Number of samples: {data.shape[0]}\\nNumber of Features: {data.shape[1]-1}\\nTarget: {1}')"
      ],
      "metadata": {
        "colab": {
          "base_uri": "https://localhost:8080/"
        },
        "id": "WvDoGqT-RVpD",
        "outputId": "3fbac88b-4626-4f3f-8637-9d4a7092e7ea"
      },
      "execution_count": null,
      "outputs": [
        {
          "output_type": "stream",
          "name": "stdout",
          "text": [
            "Number of samples: 1338\n",
            "Number of Features: 6\n",
            "Target: 1\n"
          ]
        }
      ]
    },
    {
      "cell_type": "code",
      "source": [
        "df_data = pd.get_dummies(data)"
      ],
      "metadata": {
        "id": "qMbovvn5Rl2J"
      },
      "execution_count": null,
      "outputs": []
    },
    {
      "cell_type": "code",
      "source": [
        "df_data.head(10)"
      ],
      "metadata": {
        "colab": {
          "base_uri": "https://localhost:8080/",
          "height": 427
        },
        "id": "wY9DWcyJYZLy",
        "outputId": "5b2a0bf4-8707-4089-9ff3-09bff3717b6f"
      },
      "execution_count": null,
      "outputs": [
        {
          "output_type": "execute_result",
          "data": {
            "text/plain": [
              "   age     bmi  children      charges  sex_female  sex_male  smoker_no  \\\n",
              "0   19  27.900         0  16884.92400           1         0          0   \n",
              "1   18  33.770         1   1725.55230           0         1          1   \n",
              "2   28  33.000         3   4449.46200           0         1          1   \n",
              "3   33  22.705         0  21984.47061           0         1          1   \n",
              "4   32  28.880         0   3866.85520           0         1          1   \n",
              "5   31  25.740         0   3756.62160           1         0          1   \n",
              "6   46  33.440         1   8240.58960           1         0          1   \n",
              "7   37  27.740         3   7281.50560           1         0          1   \n",
              "8   37  29.830         2   6406.41070           0         1          1   \n",
              "9   60  25.840         0  28923.13692           1         0          1   \n",
              "\n",
              "   smoker_yes  region_northeast  region_northwest  region_southeast  \\\n",
              "0           1                 0                 0                 0   \n",
              "1           0                 0                 0                 1   \n",
              "2           0                 0                 0                 1   \n",
              "3           0                 0                 1                 0   \n",
              "4           0                 0                 1                 0   \n",
              "5           0                 0                 0                 1   \n",
              "6           0                 0                 0                 1   \n",
              "7           0                 0                 1                 0   \n",
              "8           0                 1                 0                 0   \n",
              "9           0                 0                 1                 0   \n",
              "\n",
              "   region_southwest  \n",
              "0                 1  \n",
              "1                 0  \n",
              "2                 0  \n",
              "3                 0  \n",
              "4                 0  \n",
              "5                 0  \n",
              "6                 0  \n",
              "7                 0  \n",
              "8                 0  \n",
              "9                 0  "
            ],
            "text/html": [
              "\n",
              "  <div id=\"df-e32fcd62-2875-489d-83fb-06183c5720f6\">\n",
              "    <div class=\"colab-df-container\">\n",
              "      <div>\n",
              "<style scoped>\n",
              "    .dataframe tbody tr th:only-of-type {\n",
              "        vertical-align: middle;\n",
              "    }\n",
              "\n",
              "    .dataframe tbody tr th {\n",
              "        vertical-align: top;\n",
              "    }\n",
              "\n",
              "    .dataframe thead th {\n",
              "        text-align: right;\n",
              "    }\n",
              "</style>\n",
              "<table border=\"1\" class=\"dataframe\">\n",
              "  <thead>\n",
              "    <tr style=\"text-align: right;\">\n",
              "      <th></th>\n",
              "      <th>age</th>\n",
              "      <th>bmi</th>\n",
              "      <th>children</th>\n",
              "      <th>charges</th>\n",
              "      <th>sex_female</th>\n",
              "      <th>sex_male</th>\n",
              "      <th>smoker_no</th>\n",
              "      <th>smoker_yes</th>\n",
              "      <th>region_northeast</th>\n",
              "      <th>region_northwest</th>\n",
              "      <th>region_southeast</th>\n",
              "      <th>region_southwest</th>\n",
              "    </tr>\n",
              "  </thead>\n",
              "  <tbody>\n",
              "    <tr>\n",
              "      <th>0</th>\n",
              "      <td>19</td>\n",
              "      <td>27.900</td>\n",
              "      <td>0</td>\n",
              "      <td>16884.92400</td>\n",
              "      <td>1</td>\n",
              "      <td>0</td>\n",
              "      <td>0</td>\n",
              "      <td>1</td>\n",
              "      <td>0</td>\n",
              "      <td>0</td>\n",
              "      <td>0</td>\n",
              "      <td>1</td>\n",
              "    </tr>\n",
              "    <tr>\n",
              "      <th>1</th>\n",
              "      <td>18</td>\n",
              "      <td>33.770</td>\n",
              "      <td>1</td>\n",
              "      <td>1725.55230</td>\n",
              "      <td>0</td>\n",
              "      <td>1</td>\n",
              "      <td>1</td>\n",
              "      <td>0</td>\n",
              "      <td>0</td>\n",
              "      <td>0</td>\n",
              "      <td>1</td>\n",
              "      <td>0</td>\n",
              "    </tr>\n",
              "    <tr>\n",
              "      <th>2</th>\n",
              "      <td>28</td>\n",
              "      <td>33.000</td>\n",
              "      <td>3</td>\n",
              "      <td>4449.46200</td>\n",
              "      <td>0</td>\n",
              "      <td>1</td>\n",
              "      <td>1</td>\n",
              "      <td>0</td>\n",
              "      <td>0</td>\n",
              "      <td>0</td>\n",
              "      <td>1</td>\n",
              "      <td>0</td>\n",
              "    </tr>\n",
              "    <tr>\n",
              "      <th>3</th>\n",
              "      <td>33</td>\n",
              "      <td>22.705</td>\n",
              "      <td>0</td>\n",
              "      <td>21984.47061</td>\n",
              "      <td>0</td>\n",
              "      <td>1</td>\n",
              "      <td>1</td>\n",
              "      <td>0</td>\n",
              "      <td>0</td>\n",
              "      <td>1</td>\n",
              "      <td>0</td>\n",
              "      <td>0</td>\n",
              "    </tr>\n",
              "    <tr>\n",
              "      <th>4</th>\n",
              "      <td>32</td>\n",
              "      <td>28.880</td>\n",
              "      <td>0</td>\n",
              "      <td>3866.85520</td>\n",
              "      <td>0</td>\n",
              "      <td>1</td>\n",
              "      <td>1</td>\n",
              "      <td>0</td>\n",
              "      <td>0</td>\n",
              "      <td>1</td>\n",
              "      <td>0</td>\n",
              "      <td>0</td>\n",
              "    </tr>\n",
              "    <tr>\n",
              "      <th>5</th>\n",
              "      <td>31</td>\n",
              "      <td>25.740</td>\n",
              "      <td>0</td>\n",
              "      <td>3756.62160</td>\n",
              "      <td>1</td>\n",
              "      <td>0</td>\n",
              "      <td>1</td>\n",
              "      <td>0</td>\n",
              "      <td>0</td>\n",
              "      <td>0</td>\n",
              "      <td>1</td>\n",
              "      <td>0</td>\n",
              "    </tr>\n",
              "    <tr>\n",
              "      <th>6</th>\n",
              "      <td>46</td>\n",
              "      <td>33.440</td>\n",
              "      <td>1</td>\n",
              "      <td>8240.58960</td>\n",
              "      <td>1</td>\n",
              "      <td>0</td>\n",
              "      <td>1</td>\n",
              "      <td>0</td>\n",
              "      <td>0</td>\n",
              "      <td>0</td>\n",
              "      <td>1</td>\n",
              "      <td>0</td>\n",
              "    </tr>\n",
              "    <tr>\n",
              "      <th>7</th>\n",
              "      <td>37</td>\n",
              "      <td>27.740</td>\n",
              "      <td>3</td>\n",
              "      <td>7281.50560</td>\n",
              "      <td>1</td>\n",
              "      <td>0</td>\n",
              "      <td>1</td>\n",
              "      <td>0</td>\n",
              "      <td>0</td>\n",
              "      <td>1</td>\n",
              "      <td>0</td>\n",
              "      <td>0</td>\n",
              "    </tr>\n",
              "    <tr>\n",
              "      <th>8</th>\n",
              "      <td>37</td>\n",
              "      <td>29.830</td>\n",
              "      <td>2</td>\n",
              "      <td>6406.41070</td>\n",
              "      <td>0</td>\n",
              "      <td>1</td>\n",
              "      <td>1</td>\n",
              "      <td>0</td>\n",
              "      <td>1</td>\n",
              "      <td>0</td>\n",
              "      <td>0</td>\n",
              "      <td>0</td>\n",
              "    </tr>\n",
              "    <tr>\n",
              "      <th>9</th>\n",
              "      <td>60</td>\n",
              "      <td>25.840</td>\n",
              "      <td>0</td>\n",
              "      <td>28923.13692</td>\n",
              "      <td>1</td>\n",
              "      <td>0</td>\n",
              "      <td>1</td>\n",
              "      <td>0</td>\n",
              "      <td>0</td>\n",
              "      <td>1</td>\n",
              "      <td>0</td>\n",
              "      <td>0</td>\n",
              "    </tr>\n",
              "  </tbody>\n",
              "</table>\n",
              "</div>\n",
              "      <button class=\"colab-df-convert\" onclick=\"convertToInteractive('df-e32fcd62-2875-489d-83fb-06183c5720f6')\"\n",
              "              title=\"Convert this dataframe to an interactive table.\"\n",
              "              style=\"display:none;\">\n",
              "        \n",
              "  <svg xmlns=\"http://www.w3.org/2000/svg\" height=\"24px\"viewBox=\"0 0 24 24\"\n",
              "       width=\"24px\">\n",
              "    <path d=\"M0 0h24v24H0V0z\" fill=\"none\"/>\n",
              "    <path d=\"M18.56 5.44l.94 2.06.94-2.06 2.06-.94-2.06-.94-.94-2.06-.94 2.06-2.06.94zm-11 1L8.5 8.5l.94-2.06 2.06-.94-2.06-.94L8.5 2.5l-.94 2.06-2.06.94zm10 10l.94 2.06.94-2.06 2.06-.94-2.06-.94-.94-2.06-.94 2.06-2.06.94z\"/><path d=\"M17.41 7.96l-1.37-1.37c-.4-.4-.92-.59-1.43-.59-.52 0-1.04.2-1.43.59L10.3 9.45l-7.72 7.72c-.78.78-.78 2.05 0 2.83L4 21.41c.39.39.9.59 1.41.59.51 0 1.02-.2 1.41-.59l7.78-7.78 2.81-2.81c.8-.78.8-2.07 0-2.86zM5.41 20L4 18.59l7.72-7.72 1.47 1.35L5.41 20z\"/>\n",
              "  </svg>\n",
              "      </button>\n",
              "      \n",
              "  <style>\n",
              "    .colab-df-container {\n",
              "      display:flex;\n",
              "      flex-wrap:wrap;\n",
              "      gap: 12px;\n",
              "    }\n",
              "\n",
              "    .colab-df-convert {\n",
              "      background-color: #E8F0FE;\n",
              "      border: none;\n",
              "      border-radius: 50%;\n",
              "      cursor: pointer;\n",
              "      display: none;\n",
              "      fill: #1967D2;\n",
              "      height: 32px;\n",
              "      padding: 0 0 0 0;\n",
              "      width: 32px;\n",
              "    }\n",
              "\n",
              "    .colab-df-convert:hover {\n",
              "      background-color: #E2EBFA;\n",
              "      box-shadow: 0px 1px 2px rgba(60, 64, 67, 0.3), 0px 1px 3px 1px rgba(60, 64, 67, 0.15);\n",
              "      fill: #174EA6;\n",
              "    }\n",
              "\n",
              "    [theme=dark] .colab-df-convert {\n",
              "      background-color: #3B4455;\n",
              "      fill: #D2E3FC;\n",
              "    }\n",
              "\n",
              "    [theme=dark] .colab-df-convert:hover {\n",
              "      background-color: #434B5C;\n",
              "      box-shadow: 0px 1px 3px 1px rgba(0, 0, 0, 0.15);\n",
              "      filter: drop-shadow(0px 1px 2px rgba(0, 0, 0, 0.3));\n",
              "      fill: #FFFFFF;\n",
              "    }\n",
              "  </style>\n",
              "\n",
              "      <script>\n",
              "        const buttonEl =\n",
              "          document.querySelector('#df-e32fcd62-2875-489d-83fb-06183c5720f6 button.colab-df-convert');\n",
              "        buttonEl.style.display =\n",
              "          google.colab.kernel.accessAllowed ? 'block' : 'none';\n",
              "\n",
              "        async function convertToInteractive(key) {\n",
              "          const element = document.querySelector('#df-e32fcd62-2875-489d-83fb-06183c5720f6');\n",
              "          const dataTable =\n",
              "            await google.colab.kernel.invokeFunction('convertToInteractive',\n",
              "                                                     [key], {});\n",
              "          if (!dataTable) return;\n",
              "\n",
              "          const docLinkHtml = 'Like what you see? Visit the ' +\n",
              "            '<a target=\"_blank\" href=https://colab.research.google.com/notebooks/data_table.ipynb>data table notebook</a>'\n",
              "            + ' to learn more about interactive tables.';\n",
              "          element.innerHTML = '';\n",
              "          dataTable['output_type'] = 'display_data';\n",
              "          await google.colab.output.renderOutput(dataTable, element);\n",
              "          const docLink = document.createElement('div');\n",
              "          docLink.innerHTML = docLinkHtml;\n",
              "          element.appendChild(docLink);\n",
              "        }\n",
              "      </script>\n",
              "    </div>\n",
              "  </div>\n",
              "  "
            ]
          },
          "metadata": {},
          "execution_count": 108
        }
      ]
    },
    {
      "cell_type": "code",
      "source": [
        "# Create Features and labels\n",
        "X = df_data.drop(['charges'], axis=1)\n",
        "y = df_data['charges']"
      ],
      "metadata": {
        "id": "FyWQlNibYf55"
      },
      "execution_count": null,
      "outputs": []
    },
    {
      "cell_type": "code",
      "source": [
        "from sklearn.model_selection import train_test_split\n",
        "\n",
        "X_train, X_test, y_train, y_test = train_test_split(X,y,random_state=1, test_size=0.20)\n",
        "X_train.shape, X_test.shape, y_train.shape, y_test.shape"
      ],
      "metadata": {
        "colab": {
          "base_uri": "https://localhost:8080/"
        },
        "id": "n5Dw_oGLY9Wu",
        "outputId": "089e318a-e652-4271-95ab-555a5273ae79"
      },
      "execution_count": null,
      "outputs": [
        {
          "output_type": "execute_result",
          "data": {
            "text/plain": [
              "((1070, 11), (268, 11), (1070,), (268,))"
            ]
          },
          "metadata": {},
          "execution_count": 111
        }
      ]
    },
    {
      "cell_type": "code",
      "source": [
        "# Build a Neural Network model\n",
        "tf.random.set_seed(1)\n",
        "\n",
        "model = tf.keras.Sequential([\n",
        "    tf.keras.layers.Dense(100),\n",
        "    tf.keras.layers.Dense(10),\n",
        "    tf.keras.layers.Dense(1)\n",
        "])\n",
        "\n",
        "model.compile(loss=tf.keras.losses.mae,\n",
        "              optimizer=tf.keras.optimizers.Adam(),\n",
        "              metrics=['mae'])\n",
        "\n",
        "history = model.fit(X_train, y_train, epochs=200)"
      ],
      "metadata": {
        "colab": {
          "base_uri": "https://localhost:8080/"
        },
        "id": "p5Bw0mh5ZeaP",
        "outputId": "e913fa20-61d4-4bca-f324-5abe3d2fc884"
      },
      "execution_count": null,
      "outputs": [
        {
          "output_type": "stream",
          "name": "stdout",
          "text": [
            "Epoch 1/200\n",
            "34/34 [==============================] - 1s 4ms/step - loss: 13182.9092 - mae: 13182.9092\n",
            "Epoch 2/200\n",
            "34/34 [==============================] - 0s 3ms/step - loss: 13048.0000 - mae: 13048.0000\n",
            "Epoch 3/200\n",
            "34/34 [==============================] - 0s 3ms/step - loss: 12756.7881 - mae: 12756.7881\n",
            "Epoch 4/200\n",
            "34/34 [==============================] - 0s 3ms/step - loss: 12171.5371 - mae: 12171.5371\n",
            "Epoch 5/200\n",
            "34/34 [==============================] - 0s 3ms/step - loss: 11153.4941 - mae: 11153.4941\n",
            "Epoch 6/200\n",
            "34/34 [==============================] - 0s 4ms/step - loss: 9753.7598 - mae: 9753.7598\n",
            "Epoch 7/200\n",
            "34/34 [==============================] - 0s 4ms/step - loss: 8412.9658 - mae: 8412.9658\n",
            "Epoch 8/200\n",
            "34/34 [==============================] - 0s 3ms/step - loss: 7677.1426 - mae: 7677.1426\n",
            "Epoch 9/200\n",
            "34/34 [==============================] - 0s 3ms/step - loss: 7501.1523 - mae: 7501.1523\n",
            "Epoch 10/200\n",
            "34/34 [==============================] - 0s 3ms/step - loss: 7469.9746 - mae: 7469.9746\n",
            "Epoch 11/200\n",
            "34/34 [==============================] - 0s 2ms/step - loss: 7447.9692 - mae: 7447.9692\n",
            "Epoch 12/200\n",
            "34/34 [==============================] - 0s 2ms/step - loss: 7425.3970 - mae: 7425.3970\n",
            "Epoch 13/200\n",
            "34/34 [==============================] - 0s 2ms/step - loss: 7405.1079 - mae: 7405.1079\n",
            "Epoch 14/200\n",
            "34/34 [==============================] - 0s 2ms/step - loss: 7378.3569 - mae: 7378.3569\n",
            "Epoch 15/200\n",
            "34/34 [==============================] - 0s 2ms/step - loss: 7354.9604 - mae: 7354.9604\n",
            "Epoch 16/200\n",
            "34/34 [==============================] - 0s 2ms/step - loss: 7333.6333 - mae: 7333.6333\n",
            "Epoch 17/200\n",
            "34/34 [==============================] - 0s 2ms/step - loss: 7308.4946 - mae: 7308.4946\n",
            "Epoch 18/200\n",
            "34/34 [==============================] - 0s 2ms/step - loss: 7280.0054 - mae: 7280.0054\n",
            "Epoch 19/200\n",
            "34/34 [==============================] - 0s 2ms/step - loss: 7254.1865 - mae: 7254.1865\n",
            "Epoch 20/200\n",
            "34/34 [==============================] - 0s 2ms/step - loss: 7229.0757 - mae: 7229.0757\n",
            "Epoch 21/200\n",
            "34/34 [==============================] - 0s 2ms/step - loss: 7201.8140 - mae: 7201.8140\n",
            "Epoch 22/200\n",
            "34/34 [==============================] - 0s 2ms/step - loss: 7172.9390 - mae: 7172.9390\n",
            "Epoch 23/200\n",
            "34/34 [==============================] - 0s 2ms/step - loss: 7144.1709 - mae: 7144.1709\n",
            "Epoch 24/200\n",
            "34/34 [==============================] - 0s 2ms/step - loss: 7117.7876 - mae: 7117.7876\n",
            "Epoch 25/200\n",
            "34/34 [==============================] - 0s 2ms/step - loss: 7081.1030 - mae: 7081.1030\n",
            "Epoch 26/200\n",
            "34/34 [==============================] - 0s 2ms/step - loss: 7047.5220 - mae: 7047.5220\n",
            "Epoch 27/200\n",
            "34/34 [==============================] - 0s 2ms/step - loss: 7014.3516 - mae: 7014.3516\n",
            "Epoch 28/200\n",
            "34/34 [==============================] - 0s 2ms/step - loss: 6981.3989 - mae: 6981.3989\n",
            "Epoch 29/200\n",
            "34/34 [==============================] - 0s 2ms/step - loss: 6950.2119 - mae: 6950.2119\n",
            "Epoch 30/200\n",
            "34/34 [==============================] - 0s 2ms/step - loss: 6910.0312 - mae: 6910.0312\n",
            "Epoch 31/200\n",
            "34/34 [==============================] - 0s 2ms/step - loss: 6872.0547 - mae: 6872.0547\n",
            "Epoch 32/200\n",
            "34/34 [==============================] - 0s 2ms/step - loss: 6835.6323 - mae: 6835.6323\n",
            "Epoch 33/200\n",
            "34/34 [==============================] - 0s 2ms/step - loss: 6793.5068 - mae: 6793.5068\n",
            "Epoch 34/200\n",
            "34/34 [==============================] - 0s 2ms/step - loss: 6753.8057 - mae: 6753.8057\n",
            "Epoch 35/200\n",
            "34/34 [==============================] - 0s 2ms/step - loss: 6716.5767 - mae: 6716.5767\n",
            "Epoch 36/200\n",
            "34/34 [==============================] - 0s 2ms/step - loss: 6677.7222 - mae: 6677.7222\n",
            "Epoch 37/200\n",
            "34/34 [==============================] - 0s 2ms/step - loss: 6637.9839 - mae: 6637.9839\n",
            "Epoch 38/200\n",
            "34/34 [==============================] - 0s 2ms/step - loss: 6603.3311 - mae: 6603.3311\n",
            "Epoch 39/200\n",
            "34/34 [==============================] - 0s 2ms/step - loss: 6576.6416 - mae: 6576.6416\n",
            "Epoch 40/200\n",
            "34/34 [==============================] - 0s 2ms/step - loss: 6549.3096 - mae: 6549.3096\n",
            "Epoch 41/200\n",
            "34/34 [==============================] - 0s 2ms/step - loss: 6526.6484 - mae: 6526.6484\n",
            "Epoch 42/200\n",
            "34/34 [==============================] - 0s 2ms/step - loss: 6507.1177 - mae: 6507.1177\n",
            "Epoch 43/200\n",
            "34/34 [==============================] - 0s 2ms/step - loss: 6493.2793 - mae: 6493.2793\n",
            "Epoch 44/200\n",
            "34/34 [==============================] - 0s 2ms/step - loss: 6476.1216 - mae: 6476.1216\n",
            "Epoch 45/200\n",
            "34/34 [==============================] - 0s 2ms/step - loss: 6462.6670 - mae: 6462.6670\n",
            "Epoch 46/200\n",
            "34/34 [==============================] - 0s 2ms/step - loss: 6447.7769 - mae: 6447.7769\n",
            "Epoch 47/200\n",
            "34/34 [==============================] - 0s 2ms/step - loss: 6440.7090 - mae: 6440.7090\n",
            "Epoch 48/200\n",
            "34/34 [==============================] - 0s 2ms/step - loss: 6422.5835 - mae: 6422.5835\n",
            "Epoch 49/200\n",
            "34/34 [==============================] - 0s 2ms/step - loss: 6409.3921 - mae: 6409.3921\n",
            "Epoch 50/200\n",
            "34/34 [==============================] - 0s 2ms/step - loss: 6405.1143 - mae: 6405.1143\n",
            "Epoch 51/200\n",
            "34/34 [==============================] - 0s 2ms/step - loss: 6388.0059 - mae: 6388.0059\n",
            "Epoch 52/200\n",
            "34/34 [==============================] - 0s 2ms/step - loss: 6372.2446 - mae: 6372.2446\n",
            "Epoch 53/200\n",
            "34/34 [==============================] - 0s 2ms/step - loss: 6360.5635 - mae: 6360.5635\n",
            "Epoch 54/200\n",
            "34/34 [==============================] - 0s 2ms/step - loss: 6349.1069 - mae: 6349.1069\n",
            "Epoch 55/200\n",
            "34/34 [==============================] - 0s 2ms/step - loss: 6337.2534 - mae: 6337.2534\n",
            "Epoch 56/200\n",
            "34/34 [==============================] - 0s 2ms/step - loss: 6321.5762 - mae: 6321.5762\n",
            "Epoch 57/200\n",
            "34/34 [==============================] - 0s 2ms/step - loss: 6308.7153 - mae: 6308.7153\n",
            "Epoch 58/200\n",
            "34/34 [==============================] - 0s 2ms/step - loss: 6295.4185 - mae: 6295.4185\n",
            "Epoch 59/200\n",
            "34/34 [==============================] - 0s 2ms/step - loss: 6280.3335 - mae: 6280.3335\n",
            "Epoch 60/200\n",
            "34/34 [==============================] - 0s 2ms/step - loss: 6266.9839 - mae: 6266.9839\n",
            "Epoch 61/200\n",
            "34/34 [==============================] - 0s 2ms/step - loss: 6254.1714 - mae: 6254.1714\n",
            "Epoch 62/200\n",
            "34/34 [==============================] - 0s 2ms/step - loss: 6244.0640 - mae: 6244.0640\n",
            "Epoch 63/200\n",
            "34/34 [==============================] - 0s 2ms/step - loss: 6224.8647 - mae: 6224.8647\n",
            "Epoch 64/200\n",
            "34/34 [==============================] - 0s 2ms/step - loss: 6208.2207 - mae: 6208.2207\n",
            "Epoch 65/200\n",
            "34/34 [==============================] - 0s 2ms/step - loss: 6191.2393 - mae: 6191.2393\n",
            "Epoch 66/200\n",
            "34/34 [==============================] - 0s 2ms/step - loss: 6179.3594 - mae: 6179.3594\n",
            "Epoch 67/200\n",
            "34/34 [==============================] - 0s 2ms/step - loss: 6162.8774 - mae: 6162.8774\n",
            "Epoch 68/200\n",
            "34/34 [==============================] - 0s 2ms/step - loss: 6146.9004 - mae: 6146.9004\n",
            "Epoch 69/200\n",
            "34/34 [==============================] - 0s 2ms/step - loss: 6125.8076 - mae: 6125.8076\n",
            "Epoch 70/200\n",
            "34/34 [==============================] - 0s 2ms/step - loss: 6107.8354 - mae: 6107.8354\n",
            "Epoch 71/200\n",
            "34/34 [==============================] - 0s 2ms/step - loss: 6089.0601 - mae: 6089.0601\n",
            "Epoch 72/200\n",
            "34/34 [==============================] - 0s 2ms/step - loss: 6071.5967 - mae: 6071.5967\n",
            "Epoch 73/200\n",
            "34/34 [==============================] - 0s 2ms/step - loss: 6050.5332 - mae: 6050.5332\n",
            "Epoch 74/200\n",
            "34/34 [==============================] - 0s 2ms/step - loss: 6035.3350 - mae: 6035.3350\n",
            "Epoch 75/200\n",
            "34/34 [==============================] - 0s 2ms/step - loss: 6011.9482 - mae: 6011.9482\n",
            "Epoch 76/200\n",
            "34/34 [==============================] - 0s 2ms/step - loss: 5994.7988 - mae: 5994.7988\n",
            "Epoch 77/200\n",
            "34/34 [==============================] - 0s 2ms/step - loss: 5980.5850 - mae: 5980.5850\n",
            "Epoch 78/200\n",
            "34/34 [==============================] - 0s 2ms/step - loss: 5946.3457 - mae: 5946.3457\n",
            "Epoch 79/200\n",
            "34/34 [==============================] - 0s 2ms/step - loss: 5928.3096 - mae: 5928.3096\n",
            "Epoch 80/200\n",
            "34/34 [==============================] - 0s 2ms/step - loss: 5902.6255 - mae: 5902.6255\n",
            "Epoch 81/200\n",
            "34/34 [==============================] - 0s 2ms/step - loss: 5874.7144 - mae: 5874.7144\n",
            "Epoch 82/200\n",
            "34/34 [==============================] - 0s 2ms/step - loss: 5852.9819 - mae: 5852.9819\n",
            "Epoch 83/200\n",
            "34/34 [==============================] - 0s 2ms/step - loss: 5821.9229 - mae: 5821.9229\n",
            "Epoch 84/200\n",
            "34/34 [==============================] - 0s 2ms/step - loss: 5795.2588 - mae: 5795.2588\n",
            "Epoch 85/200\n",
            "34/34 [==============================] - 0s 2ms/step - loss: 5766.4893 - mae: 5766.4893\n",
            "Epoch 86/200\n",
            "34/34 [==============================] - 0s 2ms/step - loss: 5736.8901 - mae: 5736.8901\n",
            "Epoch 87/200\n",
            "34/34 [==============================] - 0s 2ms/step - loss: 5702.6865 - mae: 5702.6865\n",
            "Epoch 88/200\n",
            "34/34 [==============================] - 0s 2ms/step - loss: 5673.7471 - mae: 5673.7471\n",
            "Epoch 89/200\n",
            "34/34 [==============================] - 0s 2ms/step - loss: 5639.5586 - mae: 5639.5586\n",
            "Epoch 90/200\n",
            "34/34 [==============================] - 0s 2ms/step - loss: 5611.4526 - mae: 5611.4526\n",
            "Epoch 91/200\n",
            "34/34 [==============================] - 0s 2ms/step - loss: 5567.5449 - mae: 5567.5449\n",
            "Epoch 92/200\n",
            "34/34 [==============================] - 0s 2ms/step - loss: 5534.9399 - mae: 5534.9399\n",
            "Epoch 93/200\n",
            "34/34 [==============================] - 0s 2ms/step - loss: 5493.0669 - mae: 5493.0669\n",
            "Epoch 94/200\n",
            "34/34 [==============================] - 0s 2ms/step - loss: 5451.9785 - mae: 5451.9785\n",
            "Epoch 95/200\n",
            "34/34 [==============================] - 0s 2ms/step - loss: 5412.2202 - mae: 5412.2202\n",
            "Epoch 96/200\n",
            "34/34 [==============================] - 0s 2ms/step - loss: 5364.7793 - mae: 5364.7793\n",
            "Epoch 97/200\n",
            "34/34 [==============================] - 0s 2ms/step - loss: 5309.7690 - mae: 5309.7690\n",
            "Epoch 98/200\n",
            "34/34 [==============================] - 0s 2ms/step - loss: 5263.9746 - mae: 5263.9746\n",
            "Epoch 99/200\n",
            "34/34 [==============================] - 0s 2ms/step - loss: 5206.3647 - mae: 5206.3647\n",
            "Epoch 100/200\n",
            "34/34 [==============================] - 0s 2ms/step - loss: 5156.0718 - mae: 5156.0718\n",
            "Epoch 101/200\n",
            "34/34 [==============================] - 0s 2ms/step - loss: 5092.6045 - mae: 5092.6045\n",
            "Epoch 102/200\n",
            "34/34 [==============================] - 0s 2ms/step - loss: 5033.8467 - mae: 5033.8467\n",
            "Epoch 103/200\n",
            "34/34 [==============================] - 0s 2ms/step - loss: 4971.8242 - mae: 4971.8242\n",
            "Epoch 104/200\n",
            "34/34 [==============================] - 0s 2ms/step - loss: 4894.5269 - mae: 4894.5269\n",
            "Epoch 105/200\n",
            "34/34 [==============================] - 0s 2ms/step - loss: 4850.0723 - mae: 4850.0723\n",
            "Epoch 106/200\n",
            "34/34 [==============================] - 0s 2ms/step - loss: 4752.9717 - mae: 4752.9717\n",
            "Epoch 107/200\n",
            "34/34 [==============================] - 0s 2ms/step - loss: 4677.9243 - mae: 4677.9243\n",
            "Epoch 108/200\n",
            "34/34 [==============================] - 0s 2ms/step - loss: 4596.9380 - mae: 4596.9380\n",
            "Epoch 109/200\n",
            "34/34 [==============================] - 0s 2ms/step - loss: 4509.4829 - mae: 4509.4829\n",
            "Epoch 110/200\n",
            "34/34 [==============================] - 0s 2ms/step - loss: 4425.3892 - mae: 4425.3892\n",
            "Epoch 111/200\n",
            "34/34 [==============================] - 0s 2ms/step - loss: 4344.2012 - mae: 4344.2012\n",
            "Epoch 112/200\n",
            "34/34 [==============================] - 0s 2ms/step - loss: 4260.1768 - mae: 4260.1768\n",
            "Epoch 113/200\n",
            "34/34 [==============================] - 0s 2ms/step - loss: 4178.1021 - mae: 4178.1021\n",
            "Epoch 114/200\n",
            "34/34 [==============================] - 0s 2ms/step - loss: 4106.7974 - mae: 4106.7974\n",
            "Epoch 115/200\n",
            "34/34 [==============================] - 0s 2ms/step - loss: 4029.8696 - mae: 4029.8696\n",
            "Epoch 116/200\n",
            "34/34 [==============================] - 0s 2ms/step - loss: 3973.2664 - mae: 3973.2664\n",
            "Epoch 117/200\n",
            "34/34 [==============================] - 0s 2ms/step - loss: 3937.3879 - mae: 3937.3879\n",
            "Epoch 118/200\n",
            "34/34 [==============================] - 0s 2ms/step - loss: 3902.5737 - mae: 3902.5737\n",
            "Epoch 119/200\n",
            "34/34 [==============================] - 0s 2ms/step - loss: 3871.6936 - mae: 3871.6936\n",
            "Epoch 120/200\n",
            "34/34 [==============================] - 0s 2ms/step - loss: 3848.9177 - mae: 3848.9177\n",
            "Epoch 121/200\n",
            "34/34 [==============================] - 0s 2ms/step - loss: 3838.1768 - mae: 3838.1768\n",
            "Epoch 122/200\n",
            "34/34 [==============================] - 0s 2ms/step - loss: 3824.5168 - mae: 3824.5168\n",
            "Epoch 123/200\n",
            "34/34 [==============================] - 0s 2ms/step - loss: 3799.6802 - mae: 3799.6802\n",
            "Epoch 124/200\n",
            "34/34 [==============================] - 0s 2ms/step - loss: 3790.0652 - mae: 3790.0652\n",
            "Epoch 125/200\n",
            "34/34 [==============================] - 0s 2ms/step - loss: 3790.9934 - mae: 3790.9934\n",
            "Epoch 126/200\n",
            "34/34 [==============================] - 0s 2ms/step - loss: 3778.2913 - mae: 3778.2913\n",
            "Epoch 127/200\n",
            "34/34 [==============================] - 0s 2ms/step - loss: 3779.9644 - mae: 3779.9644\n",
            "Epoch 128/200\n",
            "34/34 [==============================] - 0s 2ms/step - loss: 3775.5022 - mae: 3775.5022\n",
            "Epoch 129/200\n",
            "34/34 [==============================] - 0s 2ms/step - loss: 3765.4846 - mae: 3765.4846\n",
            "Epoch 130/200\n",
            "34/34 [==============================] - 0s 2ms/step - loss: 3758.9841 - mae: 3758.9841\n",
            "Epoch 131/200\n",
            "34/34 [==============================] - 0s 2ms/step - loss: 3761.9531 - mae: 3761.9531\n",
            "Epoch 132/200\n",
            "34/34 [==============================] - 0s 2ms/step - loss: 3759.5884 - mae: 3759.5884\n",
            "Epoch 133/200\n",
            "34/34 [==============================] - 0s 2ms/step - loss: 3767.6919 - mae: 3767.6919\n",
            "Epoch 134/200\n",
            "34/34 [==============================] - 0s 2ms/step - loss: 3748.1218 - mae: 3748.1218\n",
            "Epoch 135/200\n",
            "34/34 [==============================] - 0s 2ms/step - loss: 3755.3447 - mae: 3755.3447\n",
            "Epoch 136/200\n",
            "34/34 [==============================] - 0s 2ms/step - loss: 3747.1511 - mae: 3747.1511\n",
            "Epoch 137/200\n",
            "34/34 [==============================] - 0s 2ms/step - loss: 3746.2148 - mae: 3746.2148\n",
            "Epoch 138/200\n",
            "34/34 [==============================] - 0s 2ms/step - loss: 3742.1858 - mae: 3742.1858\n",
            "Epoch 139/200\n",
            "34/34 [==============================] - 0s 2ms/step - loss: 3739.5393 - mae: 3739.5393\n",
            "Epoch 140/200\n",
            "34/34 [==============================] - 0s 2ms/step - loss: 3736.7192 - mae: 3736.7192\n",
            "Epoch 141/200\n",
            "34/34 [==============================] - 0s 2ms/step - loss: 3734.5408 - mae: 3734.5408\n",
            "Epoch 142/200\n",
            "34/34 [==============================] - 0s 2ms/step - loss: 3734.0127 - mae: 3734.0127\n",
            "Epoch 143/200\n",
            "34/34 [==============================] - 0s 2ms/step - loss: 3727.6970 - mae: 3727.6970\n",
            "Epoch 144/200\n",
            "34/34 [==============================] - 0s 2ms/step - loss: 3739.0068 - mae: 3739.0068\n",
            "Epoch 145/200\n",
            "34/34 [==============================] - 0s 2ms/step - loss: 3726.8286 - mae: 3726.8286\n",
            "Epoch 146/200\n",
            "34/34 [==============================] - 0s 2ms/step - loss: 3731.8110 - mae: 3731.8110\n",
            "Epoch 147/200\n",
            "34/34 [==============================] - 0s 2ms/step - loss: 3719.5010 - mae: 3719.5010\n",
            "Epoch 148/200\n",
            "34/34 [==============================] - 0s 2ms/step - loss: 3723.6846 - mae: 3723.6846\n",
            "Epoch 149/200\n",
            "34/34 [==============================] - 0s 2ms/step - loss: 3717.5137 - mae: 3717.5137\n",
            "Epoch 150/200\n",
            "34/34 [==============================] - 0s 2ms/step - loss: 3716.0894 - mae: 3716.0894\n",
            "Epoch 151/200\n",
            "34/34 [==============================] - 0s 2ms/step - loss: 3714.0757 - mae: 3714.0757\n",
            "Epoch 152/200\n",
            "34/34 [==============================] - 0s 2ms/step - loss: 3711.3906 - mae: 3711.3906\n",
            "Epoch 153/200\n",
            "34/34 [==============================] - 0s 2ms/step - loss: 3726.2764 - mae: 3726.2764\n",
            "Epoch 154/200\n",
            "34/34 [==============================] - 0s 2ms/step - loss: 3707.7485 - mae: 3707.7485\n",
            "Epoch 155/200\n",
            "34/34 [==============================] - 0s 2ms/step - loss: 3716.4204 - mae: 3716.4204\n",
            "Epoch 156/200\n",
            "34/34 [==============================] - 0s 2ms/step - loss: 3706.7896 - mae: 3706.7896\n",
            "Epoch 157/200\n",
            "34/34 [==============================] - 0s 2ms/step - loss: 3700.7832 - mae: 3700.7832\n",
            "Epoch 158/200\n",
            "34/34 [==============================] - 0s 2ms/step - loss: 3714.2234 - mae: 3714.2234\n",
            "Epoch 159/200\n",
            "34/34 [==============================] - 0s 2ms/step - loss: 3700.2053 - mae: 3700.2053\n",
            "Epoch 160/200\n",
            "34/34 [==============================] - 0s 2ms/step - loss: 3696.9287 - mae: 3696.9287\n",
            "Epoch 161/200\n",
            "34/34 [==============================] - 0s 2ms/step - loss: 3701.9739 - mae: 3701.9739\n",
            "Epoch 162/200\n",
            "34/34 [==============================] - 0s 2ms/step - loss: 3695.4736 - mae: 3695.4736\n",
            "Epoch 163/200\n",
            "34/34 [==============================] - 0s 2ms/step - loss: 3698.4812 - mae: 3698.4812\n",
            "Epoch 164/200\n",
            "34/34 [==============================] - 0s 2ms/step - loss: 3717.3447 - mae: 3717.3447\n",
            "Epoch 165/200\n",
            "34/34 [==============================] - 0s 2ms/step - loss: 3695.9336 - mae: 3695.9336\n",
            "Epoch 166/200\n",
            "34/34 [==============================] - 0s 2ms/step - loss: 3692.7239 - mae: 3692.7239\n",
            "Epoch 167/200\n",
            "34/34 [==============================] - 0s 2ms/step - loss: 3689.2673 - mae: 3689.2673\n",
            "Epoch 168/200\n",
            "34/34 [==============================] - 0s 2ms/step - loss: 3681.3381 - mae: 3681.3381\n",
            "Epoch 169/200\n",
            "34/34 [==============================] - 0s 2ms/step - loss: 3686.8696 - mae: 3686.8696\n",
            "Epoch 170/200\n",
            "34/34 [==============================] - 0s 2ms/step - loss: 3680.1689 - mae: 3680.1689\n",
            "Epoch 171/200\n",
            "34/34 [==============================] - 0s 2ms/step - loss: 3675.0769 - mae: 3675.0769\n",
            "Epoch 172/200\n",
            "34/34 [==============================] - 0s 2ms/step - loss: 3677.9983 - mae: 3677.9983\n",
            "Epoch 173/200\n",
            "34/34 [==============================] - 0s 2ms/step - loss: 3681.1111 - mae: 3681.1111\n",
            "Epoch 174/200\n",
            "34/34 [==============================] - 0s 2ms/step - loss: 3679.8174 - mae: 3679.8174\n",
            "Epoch 175/200\n",
            "34/34 [==============================] - 0s 2ms/step - loss: 3677.8110 - mae: 3677.8110\n",
            "Epoch 176/200\n",
            "34/34 [==============================] - 0s 2ms/step - loss: 3681.2886 - mae: 3681.2886\n",
            "Epoch 177/200\n",
            "34/34 [==============================] - 0s 2ms/step - loss: 3667.8196 - mae: 3667.8196\n",
            "Epoch 178/200\n",
            "34/34 [==============================] - 0s 2ms/step - loss: 3670.7334 - mae: 3670.7334\n",
            "Epoch 179/200\n",
            "34/34 [==============================] - 0s 2ms/step - loss: 3667.9177 - mae: 3667.9177\n",
            "Epoch 180/200\n",
            "34/34 [==============================] - 0s 2ms/step - loss: 3674.3918 - mae: 3674.3918\n",
            "Epoch 181/200\n",
            "34/34 [==============================] - 0s 2ms/step - loss: 3660.3049 - mae: 3660.3049\n",
            "Epoch 182/200\n",
            "34/34 [==============================] - 0s 2ms/step - loss: 3659.2341 - mae: 3659.2341\n",
            "Epoch 183/200\n",
            "34/34 [==============================] - 0s 2ms/step - loss: 3657.3975 - mae: 3657.3975\n",
            "Epoch 184/200\n",
            "34/34 [==============================] - 0s 2ms/step - loss: 3655.2285 - mae: 3655.2285\n",
            "Epoch 185/200\n",
            "34/34 [==============================] - 0s 2ms/step - loss: 3665.1343 - mae: 3665.1343\n",
            "Epoch 186/200\n",
            "34/34 [==============================] - 0s 2ms/step - loss: 3652.5308 - mae: 3652.5308\n",
            "Epoch 187/200\n",
            "34/34 [==============================] - 0s 2ms/step - loss: 3661.7766 - mae: 3661.7766\n",
            "Epoch 188/200\n",
            "34/34 [==============================] - 0s 2ms/step - loss: 3652.2776 - mae: 3652.2776\n",
            "Epoch 189/200\n",
            "34/34 [==============================] - 0s 2ms/step - loss: 3641.4270 - mae: 3641.4270\n",
            "Epoch 190/200\n",
            "34/34 [==============================] - 0s 2ms/step - loss: 3653.8716 - mae: 3653.8716\n",
            "Epoch 191/200\n",
            "34/34 [==============================] - 0s 2ms/step - loss: 3645.7056 - mae: 3645.7056\n",
            "Epoch 192/200\n",
            "34/34 [==============================] - 0s 2ms/step - loss: 3650.7092 - mae: 3650.7092\n",
            "Epoch 193/200\n",
            "34/34 [==============================] - 0s 2ms/step - loss: 3640.0840 - mae: 3640.0840\n",
            "Epoch 194/200\n",
            "34/34 [==============================] - 0s 2ms/step - loss: 3637.9360 - mae: 3637.9360\n",
            "Epoch 195/200\n",
            "34/34 [==============================] - 0s 2ms/step - loss: 3641.1833 - mae: 3641.1833\n",
            "Epoch 196/200\n",
            "34/34 [==============================] - 0s 2ms/step - loss: 3633.8389 - mae: 3633.8389\n",
            "Epoch 197/200\n",
            "34/34 [==============================] - 0s 2ms/step - loss: 3637.4558 - mae: 3637.4558\n",
            "Epoch 198/200\n",
            "34/34 [==============================] - 0s 2ms/step - loss: 3630.5491 - mae: 3630.5491\n",
            "Epoch 199/200\n",
            "34/34 [==============================] - 0s 2ms/step - loss: 3628.2634 - mae: 3628.2634\n",
            "Epoch 200/200\n",
            "34/34 [==============================] - 0s 2ms/step - loss: 3632.9453 - mae: 3632.9453\n"
          ]
        }
      ]
    },
    {
      "cell_type": "code",
      "source": [
        "y_pred = model.predict(X_test)\n",
        "tf.keras.losses.MAE(y_test, tf.squeeze(y_pred)).numpy()"
      ],
      "metadata": {
        "colab": {
          "base_uri": "https://localhost:8080/"
        },
        "id": "yc5bSe3Zbd70",
        "outputId": "82eefec6-3b23-4cfe-f865-c8c5951b004e"
      },
      "execution_count": null,
      "outputs": [
        {
          "output_type": "execute_result",
          "data": {
            "text/plain": [
              "3612.983"
            ]
          },
          "metadata": {},
          "execution_count": 175
        }
      ]
    },
    {
      "cell_type": "code",
      "source": [
        "history_df = pd.DataFrame(history.history)\n",
        "\n",
        "plt.plot(history_df['mae'])\n",
        "plt.show()"
      ],
      "metadata": {
        "colab": {
          "base_uri": "https://localhost:8080/",
          "height": 265
        },
        "id": "Y5yM29JpbyzT",
        "outputId": "1d2de2b0-0a80-4e05-f948-55d09be2a77e"
      },
      "execution_count": null,
      "outputs": [
        {
          "output_type": "display_data",
          "data": {
            "text/plain": [
              "<Figure size 432x288 with 1 Axes>"
            ],
            "image/png": "[encoded data removed]"
          },
          "metadata": {
            "needs_background": "light"
          }
        }
      ]
    },
    {
      "cell_type": "markdown",
      "source": [
        "## Preprocessing - Normalization and Standardization\n",
        "\n",
        "Neural Networks prefer **Normalization**\n",
        "> Normalization: Scale values to a range of 0 to 1. <br>\n",
        "> Standardization: Brings the data to a normal distribution (affects outliers)"
      ],
      "metadata": {
        "id": "0PBxBID2iLOK"
      }
    },
    {
      "cell_type": "code",
      "source": [
        "X['age'].plot(kind='hist')"
      ],
      "metadata": {
        "colab": {
          "base_uri": "https://localhost:8080/",
          "height": 283
        },
        "id": "D052oScIepmb",
        "outputId": "10922811-b19e-4972-a6e3-dafd5346cb14"
      },
      "execution_count": null,
      "outputs": [
        {
          "output_type": "execute_result",
          "data": {
            "text/plain": [
              "<matplotlib.axes._subplots.AxesSubplot at 0x7f5f195ec0d0>"
            ]
          },
          "metadata": {},
          "execution_count": 179
        },
        {
          "output_type": "display_data",
          "data": {
            "text/plain": [
              "<Figure size 432x288 with 1 Axes>"
            ],
            "image/png": "[encoded data removed]"
          },
          "metadata": {
            "needs_background": "light"
          }
        }
      ]
    },
    {
      "cell_type": "code",
      "source": [
        "X['bmi'].plot(kind='hist')"
      ],
      "metadata": {
        "colab": {
          "base_uri": "https://localhost:8080/",
          "height": 283
        },
        "id": "dLRqfQJN1BCd",
        "outputId": "31b39a15-56f5-44af-9a03-e1b7359c9eba"
      },
      "execution_count": null,
      "outputs": [
        {
          "output_type": "execute_result",
          "data": {
            "text/plain": [
              "<matplotlib.axes._subplots.AxesSubplot at 0x7f5f1918e750>"
            ]
          },
          "metadata": {},
          "execution_count": 180
        },
        {
          "output_type": "display_data",
          "data": {
            "text/plain": [
              "<Figure size 432x288 with 1 Axes>"
            ],
            "image/png": "[encoded data removed]"
          },
          "metadata": {
            "needs_background": "light"
          }
        }
      ]
    },
    {
      "cell_type": "code",
      "source": [
        "import pandas as pd\n",
        "import matplotlib.pyplot as plt\n",
        "import tensorflow as tf\n",
        "from sklearn.model_selection import train_test_split\n",
        "from sklearn.compose import make_column_transformer\n",
        "from sklearn.preprocessing import MinMaxScaler, OneHotEncoder"
      ],
      "metadata": {
        "id": "FQ4mwapy1Ngb"
      },
      "execution_count": null,
      "outputs": []
    },
    {
      "cell_type": "code",
      "source": [
        "data = pd.read_csv('https://raw.githubusercontent.com/stedy/Machine-Learning-with-R-datasets/master/insurance.csv')\n",
        "data"
      ],
      "metadata": {
        "colab": {
          "base_uri": "https://localhost:8080/",
          "height": 423
        },
        "id": "DkPRwu0p45Ol",
        "outputId": "8d33ca5f-a72e-400c-ce89-46c4043cbbd9"
      },
      "execution_count": null,
      "outputs": [
        {
          "output_type": "execute_result",
          "data": {
            "text/plain": [
              "      age     sex     bmi  children smoker     region      charges\n",
              "0      19  female  27.900         0    yes  southwest  16884.92400\n",
              "1      18    male  33.770         1     no  southeast   1725.55230\n",
              "2      28    male  33.000         3     no  southeast   4449.46200\n",
              "3      33    male  22.705         0     no  northwest  21984.47061\n",
              "4      32    male  28.880         0     no  northwest   3866.85520\n",
              "...   ...     ...     ...       ...    ...        ...          ...\n",
              "1333   50    male  30.970         3     no  northwest  10600.54830\n",
              "1334   18  female  31.920         0     no  northeast   2205.98080\n",
              "1335   18  female  36.850         0     no  southeast   1629.83350\n",
              "1336   21  female  25.800         0     no  southwest   2007.94500\n",
              "1337   61  female  29.070         0    yes  northwest  29141.36030\n",
              "\n",
              "[1338 rows x 7 columns]"
            ],
            "text/html": [
              "\n",
              "  <div id=\"df-fb29f1bb-06ee-436e-a02e-4cccf6a4de90\">\n",
              "    <div class=\"colab-df-container\">\n",
              "      <div>\n",
              "<style scoped>\n",
              "    .dataframe tbody tr th:only-of-type {\n",
              "        vertical-align: middle;\n",
              "    }\n",
              "\n",
              "    .dataframe tbody tr th {\n",
              "        vertical-align: top;\n",
              "    }\n",
              "\n",
              "    .dataframe thead th {\n",
              "        text-align: right;\n",
              "    }\n",
              "</style>\n",
              "<table border=\"1\" class=\"dataframe\">\n",
              "  <thead>\n",
              "    <tr style=\"text-align: right;\">\n",
              "      <th></th>\n",
              "      <th>age</th>\n",
              "      <th>sex</th>\n",
              "      <th>bmi</th>\n",
              "      <th>children</th>\n",
              "      <th>smoker</th>\n",
              "      <th>region</th>\n",
              "      <th>charges</th>\n",
              "    </tr>\n",
              "  </thead>\n",
              "  <tbody>\n",
              "    <tr>\n",
              "      <th>0</th>\n",
              "      <td>19</td>\n",
              "      <td>female</td>\n",
              "      <td>27.900</td>\n",
              "      <td>0</td>\n",
              "      <td>yes</td>\n",
              "      <td>southwest</td>\n",
              "      <td>16884.92400</td>\n",
              "    </tr>\n",
              "    <tr>\n",
              "      <th>1</th>\n",
              "      <td>18</td>\n",
              "      <td>male</td>\n",
              "      <td>33.770</td>\n",
              "      <td>1</td>\n",
              "      <td>no</td>\n",
              "      <td>southeast</td>\n",
              "      <td>1725.55230</td>\n",
              "    </tr>\n",
              "    <tr>\n",
              "      <th>2</th>\n",
              "      <td>28</td>\n",
              "      <td>male</td>\n",
              "      <td>33.000</td>\n",
              "      <td>3</td>\n",
              "      <td>no</td>\n",
              "      <td>southeast</td>\n",
              "      <td>4449.46200</td>\n",
              "    </tr>\n",
              "    <tr>\n",
              "      <th>3</th>\n",
              "      <td>33</td>\n",
              "      <td>male</td>\n",
              "      <td>22.705</td>\n",
              "      <td>0</td>\n",
              "      <td>no</td>\n",
              "      <td>northwest</td>\n",
              "      <td>21984.47061</td>\n",
              "    </tr>\n",
              "    <tr>\n",
              "      <th>4</th>\n",
              "      <td>32</td>\n",
              "      <td>male</td>\n",
              "      <td>28.880</td>\n",
              "      <td>0</td>\n",
              "      <td>no</td>\n",
              "      <td>northwest</td>\n",
              "      <td>3866.85520</td>\n",
              "    </tr>\n",
              "    <tr>\n",
              "      <th>...</th>\n",
              "      <td>...</td>\n",
              "      <td>...</td>\n",
              "      <td>...</td>\n",
              "      <td>...</td>\n",
              "      <td>...</td>\n",
              "      <td>...</td>\n",
              "      <td>...</td>\n",
              "    </tr>\n",
              "    <tr>\n",
              "      <th>1333</th>\n",
              "      <td>50</td>\n",
              "      <td>male</td>\n",
              "      <td>30.970</td>\n",
              "      <td>3</td>\n",
              "      <td>no</td>\n",
              "      <td>northwest</td>\n",
              "      <td>10600.54830</td>\n",
              "    </tr>\n",
              "    <tr>\n",
              "      <th>1334</th>\n",
              "      <td>18</td>\n",
              "      <td>female</td>\n",
              "      <td>31.920</td>\n",
              "      <td>0</td>\n",
              "      <td>no</td>\n",
              "      <td>northeast</td>\n",
              "      <td>2205.98080</td>\n",
              "    </tr>\n",
              "    <tr>\n",
              "      <th>1335</th>\n",
              "      <td>18</td>\n",
              "      <td>female</td>\n",
              "      <td>36.850</td>\n",
              "      <td>0</td>\n",
              "      <td>no</td>\n",
              "      <td>southeast</td>\n",
              "      <td>1629.83350</td>\n",
              "    </tr>\n",
              "    <tr>\n",
              "      <th>1336</th>\n",
              "      <td>21</td>\n",
              "      <td>female</td>\n",
              "      <td>25.800</td>\n",
              "      <td>0</td>\n",
              "      <td>no</td>\n",
              "      <td>southwest</td>\n",
              "      <td>2007.94500</td>\n",
              "    </tr>\n",
              "    <tr>\n",
              "      <th>1337</th>\n",
              "      <td>61</td>\n",
              "      <td>female</td>\n",
              "      <td>29.070</td>\n",
              "      <td>0</td>\n",
              "      <td>yes</td>\n",
              "      <td>northwest</td>\n",
              "      <td>29141.36030</td>\n",
              "    </tr>\n",
              "  </tbody>\n",
              "</table>\n",
              "<p>1338 rows × 7 columns</p>\n",
              "</div>\n",
              "      <button class=\"colab-df-convert\" onclick=\"convertToInteractive('df-fb29f1bb-06ee-436e-a02e-4cccf6a4de90')\"\n",
              "              title=\"Convert this dataframe to an interactive table.\"\n",
              "              style=\"display:none;\">\n",
              "        \n",
              "  <svg xmlns=\"http://www.w3.org/2000/svg\" height=\"24px\"viewBox=\"0 0 24 24\"\n",
              "       width=\"24px\">\n",
              "    <path d=\"M0 0h24v24H0V0z\" fill=\"none\"/>\n",
              "    <path d=\"M18.56 5.44l.94 2.06.94-2.06 2.06-.94-2.06-.94-.94-2.06-.94 2.06-2.06.94zm-11 1L8.5 8.5l.94-2.06 2.06-.94-2.06-.94L8.5 2.5l-.94 2.06-2.06.94zm10 10l.94 2.06.94-2.06 2.06-.94-2.06-.94-.94-2.06-.94 2.06-2.06.94z\"/><path d=\"M17.41 7.96l-1.37-1.37c-.4-.4-.92-.59-1.43-.59-.52 0-1.04.2-1.43.59L10.3 9.45l-7.72 7.72c-.78.78-.78 2.05 0 2.83L4 21.41c.39.39.9.59 1.41.59.51 0 1.02-.2 1.41-.59l7.78-7.78 2.81-2.81c.8-.78.8-2.07 0-2.86zM5.41 20L4 18.59l7.72-7.72 1.47 1.35L5.41 20z\"/>\n",
              "  </svg>\n",
              "      </button>\n",
              "      \n",
              "  <style>\n",
              "    .colab-df-container {\n",
              "      display:flex;\n",
              "      flex-wrap:wrap;\n",
              "      gap: 12px;\n",
              "    }\n",
              "\n",
              "    .colab-df-convert {\n",
              "      background-color: #E8F0FE;\n",
              "      border: none;\n",
              "      border-radius: 50%;\n",
              "      cursor: pointer;\n",
              "      display: none;\n",
              "      fill: #1967D2;\n",
              "      height: 32px;\n",
              "      padding: 0 0 0 0;\n",
              "      width: 32px;\n",
              "    }\n",
              "\n",
              "    .colab-df-convert:hover {\n",
              "      background-color: #E2EBFA;\n",
              "      box-shadow: 0px 1px 2px rgba(60, 64, 67, 0.3), 0px 1px 3px 1px rgba(60, 64, 67, 0.15);\n",
              "      fill: #174EA6;\n",
              "    }\n",
              "\n",
              "    [theme=dark] .colab-df-convert {\n",
              "      background-color: #3B4455;\n",
              "      fill: #D2E3FC;\n",
              "    }\n",
              "\n",
              "    [theme=dark] .colab-df-convert:hover {\n",
              "      background-color: #434B5C;\n",
              "      box-shadow: 0px 1px 3px 1px rgba(0, 0, 0, 0.15);\n",
              "      filter: drop-shadow(0px 1px 2px rgba(0, 0, 0, 0.3));\n",
              "      fill: #FFFFFF;\n",
              "    }\n",
              "  </style>\n",
              "\n",
              "      <script>\n",
              "        const buttonEl =\n",
              "          document.querySelector('#df-fb29f1bb-06ee-436e-a02e-4cccf6a4de90 button.colab-df-convert');\n",
              "        buttonEl.style.display =\n",
              "          google.colab.kernel.accessAllowed ? 'block' : 'none';\n",
              "\n",
              "        async function convertToInteractive(key) {\n",
              "          const element = document.querySelector('#df-fb29f1bb-06ee-436e-a02e-4cccf6a4de90');\n",
              "          const dataTable =\n",
              "            await google.colab.kernel.invokeFunction('convertToInteractive',\n",
              "                                                     [key], {});\n",
              "          if (!dataTable) return;\n",
              "\n",
              "          const docLinkHtml = 'Like what you see? Visit the ' +\n",
              "            '<a target=\"_blank\" href=https://colab.research.google.com/notebooks/data_table.ipynb>data table notebook</a>'\n",
              "            + ' to learn more about interactive tables.';\n",
              "          element.innerHTML = '';\n",
              "          dataTable['output_type'] = 'display_data';\n",
              "          await google.colab.output.renderOutput(dataTable, element);\n",
              "          const docLink = document.createElement('div');\n",
              "          docLink.innerHTML = docLinkHtml;\n",
              "          element.appendChild(docLink);\n",
              "        }\n",
              "      </script>\n",
              "    </div>\n",
              "  </div>\n",
              "  "
            ]
          },
          "metadata": {},
          "execution_count": 185
        }
      ]
    },
    {
      "cell_type": "code",
      "source": [
        "# Column Transformer\n",
        "ct = make_column_transformer(\n",
        "    (MinMaxScaler(), ['age', 'bmi', 'children']),\n",
        "    (OneHotEncoder(handle_unknown='ignore'), ['sex', 'smoker', 'region'])\n",
        ")\n",
        "\n",
        "# Features and Label\n",
        "X = data.drop('charges', axis=1)\n",
        "y = data['charges']\n",
        "\n",
        "# Split the data into train and test sets\n",
        "X_train, X_test, y_train, y_test = train_test_split(X, y, test_size=0.20, random_state=1)\n",
        "\n",
        "# Fit column transformer to our training data\n",
        "ct.fit(X_train)"
      ],
      "metadata": {
        "colab": {
          "base_uri": "https://localhost:8080/"
        },
        "id": "5OcM98HP3oot",
        "outputId": "2988c81c-8846-4949-ff79-4a36e0563a11"
      },
      "execution_count": null,
      "outputs": [
        {
          "output_type": "execute_result",
          "data": {
            "text/plain": [
              "ColumnTransformer(transformers=[('minmaxscaler', MinMaxScaler(),\n",
              "                                 ['age', 'bmi', 'children']),\n",
              "                                ('onehotencoder',\n",
              "                                 OneHotEncoder(handle_unknown='ignore'),\n",
              "                                 ['sex', 'smoker', 'region'])])"
            ]
          },
          "metadata": {},
          "execution_count": 187
        }
      ]
    },
    {
      "cell_type": "code",
      "source": [
        "# Transform the columns\n",
        "X_train_normal = ct.transform(X_train)\n",
        "X_test_normal = ct.transform(X_test)"
      ],
      "metadata": {
        "id": "ewJpRlvx4qq4"
      },
      "execution_count": null,
      "outputs": []
    },
    {
      "cell_type": "code",
      "source": [
        "X_train_normal[0]"
      ],
      "metadata": {
        "colab": {
          "base_uri": "https://localhost:8080/"
        },
        "id": "EeZ0hgJG5qUW",
        "outputId": "8ddeb1df-2c72-488e-bd08-f5a815fe3acc"
      },
      "execution_count": null,
      "outputs": [
        {
          "output_type": "execute_result",
          "data": {
            "text/plain": [
              "array([0.76086957, 0.28625235, 0.        , 1.        , 0.        ,\n",
              "       1.        , 0.        , 0.        , 1.        , 0.        ,\n",
              "       0.        ])"
            ]
          },
          "metadata": {},
          "execution_count": 190
        }
      ]
    },
    {
      "cell_type": "code",
      "source": [
        "X_test_normal[0]"
      ],
      "metadata": {
        "colab": {
          "base_uri": "https://localhost:8080/"
        },
        "id": "4c6AU-j95spO",
        "outputId": "f6913c77-4d87-48b8-8a22-8f004543a7c7"
      },
      "execution_count": null,
      "outputs": [
        {
          "output_type": "execute_result",
          "data": {
            "text/plain": [
              "array([0.02173913, 0.52649987, 0.        , 0.        , 1.        ,\n",
              "       1.        , 0.        , 0.        , 1.        , 0.        ,\n",
              "       0.        ])"
            ]
          },
          "metadata": {},
          "execution_count": 191
        }
      ]
    },
    {
      "cell_type": "markdown",
      "source": [
        "### Build another model for our new data"
      ],
      "metadata": {
        "id": "ejyTTvCy59b0"
      }
    },
    {
      "cell_type": "code",
      "source": [
        "tf.random.set_seed(1)\n",
        "\n",
        "# Define the model\n",
        "model = tf.keras.Sequential([\n",
        "    tf.keras.layers.Dense(100),\n",
        "    tf.keras.layers.Dense(10),\n",
        "    tf.keras.layers.Dense(1)\n",
        "])\n",
        "\n",
        "# Compile the model\n",
        "model.compile(loss=tf.keras.losses.mae,\n",
        "              optimizer=tf.keras.optimizers.Adam(),\n",
        "              metrics=['mae'])\n",
        "\n",
        "# Fit the model\n",
        "history = model.fit(X_train_normal, y_train, epochs=200)"
      ],
      "metadata": {
        "colab": {
          "base_uri": "https://localhost:8080/"
        },
        "id": "OjE8T11l59E6",
        "outputId": "c0e46a04-1540-4696-fc50-7076614a411d"
      },
      "execution_count": null,
      "outputs": [
        {
          "output_type": "stream",
          "name": "stdout",
          "text": [
            "Epoch 1/200\n",
            "34/34 [==============================] - 0s 2ms/step - loss: 13228.7871 - mae: 13228.7871\n",
            "Epoch 2/200\n",
            "34/34 [==============================] - 0s 2ms/step - loss: 13222.6348 - mae: 13222.6348\n",
            "Epoch 3/200\n",
            "34/34 [==============================] - 0s 2ms/step - loss: 13205.8496 - mae: 13205.8496\n",
            "Epoch 4/200\n",
            "34/34 [==============================] - 0s 2ms/step - loss: 13168.3232 - mae: 13168.3232\n",
            "Epoch 5/200\n",
            "34/34 [==============================] - 0s 2ms/step - loss: 13098.9189 - mae: 13098.9189\n",
            "Epoch 6/200\n",
            "34/34 [==============================] - 0s 2ms/step - loss: 12986.2510 - mae: 12986.2510\n",
            "Epoch 7/200\n",
            "34/34 [==============================] - 0s 2ms/step - loss: 12819.8486 - mae: 12819.8486\n",
            "Epoch 8/200\n",
            "34/34 [==============================] - 0s 2ms/step - loss: 12589.3418 - mae: 12589.3418\n",
            "Epoch 9/200\n",
            "34/34 [==============================] - 0s 2ms/step - loss: 12284.2598 - mae: 12284.2598\n",
            "Epoch 10/200\n",
            "34/34 [==============================] - 0s 2ms/step - loss: 11897.0537 - mae: 11897.0537\n",
            "Epoch 11/200\n",
            "34/34 [==============================] - 0s 2ms/step - loss: 11434.6016 - mae: 11434.6016\n",
            "Epoch 12/200\n",
            "34/34 [==============================] - 0s 2ms/step - loss: 10932.5977 - mae: 10932.5977\n",
            "Epoch 13/200\n",
            "34/34 [==============================] - 0s 2ms/step - loss: 10422.7295 - mae: 10422.7295\n",
            "Epoch 14/200\n",
            "34/34 [==============================] - 0s 2ms/step - loss: 9926.7627 - mae: 9926.7627\n",
            "Epoch 15/200\n",
            "34/34 [==============================] - 0s 2ms/step - loss: 9456.3145 - mae: 9456.3145\n",
            "Epoch 16/200\n",
            "34/34 [==============================] - 0s 2ms/step - loss: 9054.0977 - mae: 9054.0977\n",
            "Epoch 17/200\n",
            "34/34 [==============================] - 0s 2ms/step - loss: 8739.1309 - mae: 8739.1309\n",
            "Epoch 18/200\n",
            "34/34 [==============================] - 0s 2ms/step - loss: 8497.5156 - mae: 8497.5156\n",
            "Epoch 19/200\n",
            "34/34 [==============================] - 0s 2ms/step - loss: 8309.3369 - mae: 8309.3369\n",
            "Epoch 20/200\n",
            "34/34 [==============================] - 0s 2ms/step - loss: 8172.5254 - mae: 8172.5254\n",
            "Epoch 21/200\n",
            "34/34 [==============================] - 0s 2ms/step - loss: 8066.8970 - mae: 8066.8970\n",
            "Epoch 22/200\n",
            "34/34 [==============================] - 0s 2ms/step - loss: 7991.7681 - mae: 7991.7681\n",
            "Epoch 23/200\n",
            "34/34 [==============================] - 0s 2ms/step - loss: 7932.3066 - mae: 7932.3066\n",
            "Epoch 24/200\n",
            "34/34 [==============================] - 0s 2ms/step - loss: 7880.4897 - mae: 7880.4897\n",
            "Epoch 25/200\n",
            "34/34 [==============================] - 0s 2ms/step - loss: 7830.4404 - mae: 7830.4404\n",
            "Epoch 26/200\n",
            "34/34 [==============================] - 0s 2ms/step - loss: 7783.5317 - mae: 7783.5317\n",
            "Epoch 27/200\n",
            "34/34 [==============================] - 0s 2ms/step - loss: 7740.3311 - mae: 7740.3311\n",
            "Epoch 28/200\n",
            "34/34 [==============================] - 0s 2ms/step - loss: 7698.1636 - mae: 7698.1636\n",
            "Epoch 29/200\n",
            "34/34 [==============================] - 0s 2ms/step - loss: 7655.4077 - mae: 7655.4077\n",
            "Epoch 30/200\n",
            "34/34 [==============================] - 0s 2ms/step - loss: 7608.7021 - mae: 7608.7021\n",
            "Epoch 31/200\n",
            "34/34 [==============================] - 0s 2ms/step - loss: 7564.0342 - mae: 7564.0342\n",
            "Epoch 32/200\n",
            "34/34 [==============================] - 0s 2ms/step - loss: 7518.5020 - mae: 7518.5020\n",
            "Epoch 33/200\n",
            "34/34 [==============================] - 0s 2ms/step - loss: 7471.5781 - mae: 7471.5781\n",
            "Epoch 34/200\n",
            "34/34 [==============================] - 0s 2ms/step - loss: 7423.0532 - mae: 7423.0532\n",
            "Epoch 35/200\n",
            "34/34 [==============================] - 0s 2ms/step - loss: 7377.0947 - mae: 7377.0947\n",
            "Epoch 36/200\n",
            "34/34 [==============================] - 0s 2ms/step - loss: 7324.8442 - mae: 7324.8442\n",
            "Epoch 37/200\n",
            "34/34 [==============================] - 0s 2ms/step - loss: 7275.2954 - mae: 7275.2954\n",
            "Epoch 38/200\n",
            "34/34 [==============================] - 0s 2ms/step - loss: 7221.6079 - mae: 7221.6079\n",
            "Epoch 39/200\n",
            "34/34 [==============================] - 0s 2ms/step - loss: 7170.2749 - mae: 7170.2749\n",
            "Epoch 40/200\n",
            "34/34 [==============================] - 0s 2ms/step - loss: 7111.6621 - mae: 7111.6621\n",
            "Epoch 41/200\n",
            "34/34 [==============================] - 0s 2ms/step - loss: 7054.3257 - mae: 7054.3257\n",
            "Epoch 42/200\n",
            "34/34 [==============================] - 0s 2ms/step - loss: 6994.4663 - mae: 6994.4663\n",
            "Epoch 43/200\n",
            "34/34 [==============================] - 0s 2ms/step - loss: 6931.6650 - mae: 6931.6650\n",
            "Epoch 44/200\n",
            "34/34 [==============================] - 0s 2ms/step - loss: 6866.5508 - mae: 6866.5508\n",
            "Epoch 45/200\n",
            "34/34 [==============================] - 0s 2ms/step - loss: 6798.5815 - mae: 6798.5815\n",
            "Epoch 46/200\n",
            "34/34 [==============================] - 0s 2ms/step - loss: 6731.1040 - mae: 6731.1040\n",
            "Epoch 47/200\n",
            "34/34 [==============================] - 0s 2ms/step - loss: 6654.1025 - mae: 6654.1025\n",
            "Epoch 48/200\n",
            "34/34 [==============================] - 0s 2ms/step - loss: 6575.9248 - mae: 6575.9248\n",
            "Epoch 49/200\n",
            "34/34 [==============================] - 0s 2ms/step - loss: 6493.8818 - mae: 6493.8818\n",
            "Epoch 50/200\n",
            "34/34 [==============================] - 0s 2ms/step - loss: 6407.4839 - mae: 6407.4839\n",
            "Epoch 51/200\n",
            "34/34 [==============================] - 0s 2ms/step - loss: 6318.2344 - mae: 6318.2344\n",
            "Epoch 52/200\n",
            "34/34 [==============================] - 0s 2ms/step - loss: 6224.2275 - mae: 6224.2275\n",
            "Epoch 53/200\n",
            "34/34 [==============================] - 0s 2ms/step - loss: 6124.9419 - mae: 6124.9419\n",
            "Epoch 54/200\n",
            "34/34 [==============================] - 0s 2ms/step - loss: 6021.0366 - mae: 6021.0366\n",
            "Epoch 55/200\n",
            "34/34 [==============================] - 0s 2ms/step - loss: 5912.7837 - mae: 5912.7837\n",
            "Epoch 56/200\n",
            "34/34 [==============================] - 0s 2ms/step - loss: 5797.9355 - mae: 5797.9355\n",
            "Epoch 57/200\n",
            "34/34 [==============================] - 0s 2ms/step - loss: 5676.3159 - mae: 5676.3159\n",
            "Epoch 58/200\n",
            "34/34 [==============================] - 0s 2ms/step - loss: 5551.6147 - mae: 5551.6147\n",
            "Epoch 59/200\n",
            "34/34 [==============================] - 0s 2ms/step - loss: 5424.4702 - mae: 5424.4702\n",
            "Epoch 60/200\n",
            "34/34 [==============================] - 0s 2ms/step - loss: 5291.2339 - mae: 5291.2339\n",
            "Epoch 61/200\n",
            "34/34 [==============================] - 0s 2ms/step - loss: 5152.9663 - mae: 5152.9663\n",
            "Epoch 62/200\n",
            "34/34 [==============================] - 0s 2ms/step - loss: 5011.9116 - mae: 5011.9116\n",
            "Epoch 63/200\n",
            "34/34 [==============================] - 0s 2ms/step - loss: 4867.2725 - mae: 4867.2725\n",
            "Epoch 64/200\n",
            "34/34 [==============================] - 0s 2ms/step - loss: 4718.6538 - mae: 4718.6538\n",
            "Epoch 65/200\n",
            "34/34 [==============================] - 0s 2ms/step - loss: 4573.8525 - mae: 4573.8525\n",
            "Epoch 66/200\n",
            "34/34 [==============================] - 0s 2ms/step - loss: 4434.4795 - mae: 4434.4795\n",
            "Epoch 67/200\n",
            "34/34 [==============================] - 0s 2ms/step - loss: 4307.1812 - mae: 4307.1812\n",
            "Epoch 68/200\n",
            "34/34 [==============================] - 0s 2ms/step - loss: 4190.7734 - mae: 4190.7734\n",
            "Epoch 69/200\n",
            "34/34 [==============================] - 0s 2ms/step - loss: 4082.6047 - mae: 4082.6047\n",
            "Epoch 70/200\n",
            "34/34 [==============================] - 0s 2ms/step - loss: 3989.8906 - mae: 3989.8906\n",
            "Epoch 71/200\n",
            "34/34 [==============================] - 0s 2ms/step - loss: 3908.0854 - mae: 3908.0854\n",
            "Epoch 72/200\n",
            "34/34 [==============================] - 0s 2ms/step - loss: 3839.9966 - mae: 3839.9966\n",
            "Epoch 73/200\n",
            "34/34 [==============================] - 0s 2ms/step - loss: 3783.5227 - mae: 3783.5227\n",
            "Epoch 74/200\n",
            "34/34 [==============================] - 0s 2ms/step - loss: 3741.1804 - mae: 3741.1804\n",
            "Epoch 75/200\n",
            "34/34 [==============================] - 0s 2ms/step - loss: 3710.2056 - mae: 3710.2056\n",
            "Epoch 76/200\n",
            "34/34 [==============================] - 0s 2ms/step - loss: 3689.6929 - mae: 3689.6929\n",
            "Epoch 77/200\n",
            "34/34 [==============================] - 0s 2ms/step - loss: 3675.5273 - mae: 3675.5273\n",
            "Epoch 78/200\n",
            "34/34 [==============================] - 0s 2ms/step - loss: 3661.8752 - mae: 3661.8752\n",
            "Epoch 79/200\n",
            "34/34 [==============================] - 0s 2ms/step - loss: 3652.0366 - mae: 3652.0366\n",
            "Epoch 80/200\n",
            "34/34 [==============================] - 0s 2ms/step - loss: 3646.0034 - mae: 3646.0034\n",
            "Epoch 81/200\n",
            "34/34 [==============================] - 0s 2ms/step - loss: 3640.9695 - mae: 3640.9695\n",
            "Epoch 82/200\n",
            "34/34 [==============================] - 0s 2ms/step - loss: 3636.8301 - mae: 3636.8301\n",
            "Epoch 83/200\n",
            "34/34 [==============================] - 0s 2ms/step - loss: 3633.5540 - mae: 3633.5540\n",
            "Epoch 84/200\n",
            "34/34 [==============================] - 0s 2ms/step - loss: 3628.7175 - mae: 3628.7175\n",
            "Epoch 85/200\n",
            "34/34 [==============================] - 0s 2ms/step - loss: 3629.8289 - mae: 3629.8289\n",
            "Epoch 86/200\n",
            "34/34 [==============================] - 0s 2ms/step - loss: 3624.8674 - mae: 3624.8674\n",
            "Epoch 87/200\n",
            "34/34 [==============================] - 0s 2ms/step - loss: 3623.9375 - mae: 3623.9375\n",
            "Epoch 88/200\n",
            "34/34 [==============================] - 0s 2ms/step - loss: 3621.8247 - mae: 3621.8247\n",
            "Epoch 89/200\n",
            "34/34 [==============================] - 0s 2ms/step - loss: 3619.1589 - mae: 3619.1589\n",
            "Epoch 90/200\n",
            "34/34 [==============================] - 0s 2ms/step - loss: 3617.1919 - mae: 3617.1919\n",
            "Epoch 91/200\n",
            "34/34 [==============================] - 0s 2ms/step - loss: 3613.8989 - mae: 3613.8989\n",
            "Epoch 92/200\n",
            "34/34 [==============================] - 0s 2ms/step - loss: 3612.3545 - mae: 3612.3545\n",
            "Epoch 93/200\n",
            "34/34 [==============================] - 0s 2ms/step - loss: 3610.2380 - mae: 3610.2380\n",
            "Epoch 94/200\n",
            "34/34 [==============================] - 0s 2ms/step - loss: 3609.5881 - mae: 3609.5881\n",
            "Epoch 95/200\n",
            "34/34 [==============================] - 0s 2ms/step - loss: 3604.7490 - mae: 3604.7490\n",
            "Epoch 96/200\n",
            "34/34 [==============================] - 0s 2ms/step - loss: 3606.7168 - mae: 3606.7168\n",
            "Epoch 97/200\n",
            "34/34 [==============================] - 0s 2ms/step - loss: 3602.7776 - mae: 3602.7776\n",
            "Epoch 98/200\n",
            "34/34 [==============================] - 0s 2ms/step - loss: 3600.1548 - mae: 3600.1548\n",
            "Epoch 99/200\n",
            "34/34 [==============================] - 0s 2ms/step - loss: 3597.4111 - mae: 3597.4111\n",
            "Epoch 100/200\n",
            "34/34 [==============================] - 0s 2ms/step - loss: 3598.7603 - mae: 3598.7603\n",
            "Epoch 101/200\n",
            "34/34 [==============================] - 0s 2ms/step - loss: 3594.6226 - mae: 3594.6226\n",
            "Epoch 102/200\n",
            "34/34 [==============================] - 0s 2ms/step - loss: 3595.4736 - mae: 3595.4736\n",
            "Epoch 103/200\n",
            "34/34 [==============================] - 0s 2ms/step - loss: 3591.1121 - mae: 3591.1121\n",
            "Epoch 104/200\n",
            "34/34 [==============================] - 0s 2ms/step - loss: 3588.5269 - mae: 3588.5269\n",
            "Epoch 105/200\n",
            "34/34 [==============================] - 0s 2ms/step - loss: 3588.1045 - mae: 3588.1045\n",
            "Epoch 106/200\n",
            "34/34 [==============================] - 0s 2ms/step - loss: 3584.5974 - mae: 3584.5974\n",
            "Epoch 107/200\n",
            "34/34 [==============================] - 0s 2ms/step - loss: 3582.0315 - mae: 3582.0315\n",
            "Epoch 108/200\n",
            "34/34 [==============================] - 0s 2ms/step - loss: 3581.2112 - mae: 3581.2112\n",
            "Epoch 109/200\n",
            "34/34 [==============================] - 0s 2ms/step - loss: 3578.7126 - mae: 3578.7126\n",
            "Epoch 110/200\n",
            "34/34 [==============================] - 0s 2ms/step - loss: 3575.9026 - mae: 3575.9026\n",
            "Epoch 111/200\n",
            "34/34 [==============================] - 0s 2ms/step - loss: 3573.8994 - mae: 3573.8994\n",
            "Epoch 112/200\n",
            "34/34 [==============================] - 0s 2ms/step - loss: 3574.3628 - mae: 3574.3628\n",
            "Epoch 113/200\n",
            "34/34 [==============================] - 0s 2ms/step - loss: 3571.0491 - mae: 3571.0491\n",
            "Epoch 114/200\n",
            "34/34 [==============================] - 0s 2ms/step - loss: 3567.8621 - mae: 3567.8621\n",
            "Epoch 115/200\n",
            "34/34 [==============================] - 0s 2ms/step - loss: 3565.8044 - mae: 3565.8044\n",
            "Epoch 116/200\n",
            "34/34 [==============================] - 0s 2ms/step - loss: 3563.2058 - mae: 3563.2058\n",
            "Epoch 117/200\n",
            "34/34 [==============================] - 0s 2ms/step - loss: 3562.3267 - mae: 3562.3267\n",
            "Epoch 118/200\n",
            "34/34 [==============================] - 0s 2ms/step - loss: 3560.3806 - mae: 3560.3806\n",
            "Epoch 119/200\n",
            "34/34 [==============================] - 0s 2ms/step - loss: 3556.3367 - mae: 3556.3367\n",
            "Epoch 120/200\n",
            "34/34 [==============================] - 0s 2ms/step - loss: 3554.9421 - mae: 3554.9421\n",
            "Epoch 121/200\n",
            "34/34 [==============================] - 0s 2ms/step - loss: 3553.5715 - mae: 3553.5715\n",
            "Epoch 122/200\n",
            "34/34 [==============================] - 0s 2ms/step - loss: 3551.3875 - mae: 3551.3875\n",
            "Epoch 123/200\n",
            "34/34 [==============================] - 0s 2ms/step - loss: 3547.8933 - mae: 3547.8933\n",
            "Epoch 124/200\n",
            "34/34 [==============================] - 0s 2ms/step - loss: 3544.8005 - mae: 3544.8005\n",
            "Epoch 125/200\n",
            "34/34 [==============================] - 0s 2ms/step - loss: 3543.3225 - mae: 3543.3225\n",
            "Epoch 126/200\n",
            "34/34 [==============================] - 0s 2ms/step - loss: 3542.0637 - mae: 3542.0637\n",
            "Epoch 127/200\n",
            "34/34 [==============================] - 0s 2ms/step - loss: 3539.9485 - mae: 3539.9485\n",
            "Epoch 128/200\n",
            "34/34 [==============================] - 0s 2ms/step - loss: 3538.1008 - mae: 3538.1008\n",
            "Epoch 129/200\n",
            "34/34 [==============================] - 0s 2ms/step - loss: 3532.3799 - mae: 3532.3799\n",
            "Epoch 130/200\n",
            "34/34 [==============================] - 0s 2ms/step - loss: 3530.9590 - mae: 3530.9590\n",
            "Epoch 131/200\n",
            "34/34 [==============================] - 0s 2ms/step - loss: 3529.9775 - mae: 3529.9775\n",
            "Epoch 132/200\n",
            "34/34 [==============================] - 0s 2ms/step - loss: 3526.2791 - mae: 3526.2791\n",
            "Epoch 133/200\n",
            "34/34 [==============================] - 0s 2ms/step - loss: 3524.6792 - mae: 3524.6792\n",
            "Epoch 134/200\n",
            "34/34 [==============================] - 0s 2ms/step - loss: 3520.8279 - mae: 3520.8279\n",
            "Epoch 135/200\n",
            "34/34 [==============================] - 0s 2ms/step - loss: 3517.7808 - mae: 3517.7808\n",
            "Epoch 136/200\n",
            "34/34 [==============================] - 0s 2ms/step - loss: 3516.9573 - mae: 3516.9573\n",
            "Epoch 137/200\n",
            "34/34 [==============================] - 0s 2ms/step - loss: 3515.1841 - mae: 3515.1841\n",
            "Epoch 138/200\n",
            "34/34 [==============================] - 0s 2ms/step - loss: 3512.2346 - mae: 3512.2346\n",
            "Epoch 139/200\n",
            "34/34 [==============================] - 0s 2ms/step - loss: 3511.9851 - mae: 3511.9851\n",
            "Epoch 140/200\n",
            "34/34 [==============================] - 0s 2ms/step - loss: 3508.4312 - mae: 3508.4312\n",
            "Epoch 141/200\n",
            "34/34 [==============================] - 0s 2ms/step - loss: 3508.4961 - mae: 3508.4961\n",
            "Epoch 142/200\n",
            "34/34 [==============================] - 0s 2ms/step - loss: 3504.4756 - mae: 3504.4756\n",
            "Epoch 143/200\n",
            "34/34 [==============================] - 0s 2ms/step - loss: 3504.0417 - mae: 3504.0417\n",
            "Epoch 144/200\n",
            "34/34 [==============================] - 0s 2ms/step - loss: 3501.5300 - mae: 3501.5300\n",
            "Epoch 145/200\n",
            "34/34 [==============================] - 0s 2ms/step - loss: 3500.3342 - mae: 3500.3342\n",
            "Epoch 146/200\n",
            "34/34 [==============================] - 0s 2ms/step - loss: 3497.9199 - mae: 3497.9199\n",
            "Epoch 147/200\n",
            "34/34 [==============================] - 0s 2ms/step - loss: 3497.5242 - mae: 3497.5242\n",
            "Epoch 148/200\n",
            "34/34 [==============================] - 0s 2ms/step - loss: 3495.4321 - mae: 3495.4321\n",
            "Epoch 149/200\n",
            "34/34 [==============================] - 0s 2ms/step - loss: 3491.7046 - mae: 3491.7046\n",
            "Epoch 150/200\n",
            "34/34 [==============================] - 0s 2ms/step - loss: 3491.5020 - mae: 3491.5020\n",
            "Epoch 151/200\n",
            "34/34 [==============================] - 0s 2ms/step - loss: 3488.9102 - mae: 3488.9102\n",
            "Epoch 152/200\n",
            "34/34 [==============================] - 0s 2ms/step - loss: 3486.3579 - mae: 3486.3579\n",
            "Epoch 153/200\n",
            "34/34 [==============================] - 0s 2ms/step - loss: 3486.1331 - mae: 3486.1331\n",
            "Epoch 154/200\n",
            "34/34 [==============================] - 0s 2ms/step - loss: 3482.8391 - mae: 3482.8391\n",
            "Epoch 155/200\n",
            "34/34 [==============================] - 0s 2ms/step - loss: 3482.9390 - mae: 3482.9390\n",
            "Epoch 156/200\n",
            "34/34 [==============================] - 0s 2ms/step - loss: 3480.3479 - mae: 3480.3479\n",
            "Epoch 157/200\n",
            "34/34 [==============================] - 0s 2ms/step - loss: 3477.9470 - mae: 3477.9470\n",
            "Epoch 158/200\n",
            "34/34 [==============================] - 0s 2ms/step - loss: 3477.8513 - mae: 3477.8513\n",
            "Epoch 159/200\n",
            "34/34 [==============================] - 0s 2ms/step - loss: 3475.8049 - mae: 3475.8049\n",
            "Epoch 160/200\n",
            "34/34 [==============================] - 0s 2ms/step - loss: 3472.8228 - mae: 3472.8228\n",
            "Epoch 161/200\n",
            "34/34 [==============================] - 0s 2ms/step - loss: 3474.6880 - mae: 3474.6880\n",
            "Epoch 162/200\n",
            "34/34 [==============================] - 0s 2ms/step - loss: 3470.0901 - mae: 3470.0901\n",
            "Epoch 163/200\n",
            "34/34 [==============================] - 0s 2ms/step - loss: 3469.1221 - mae: 3469.1221\n",
            "Epoch 164/200\n",
            "34/34 [==============================] - 0s 2ms/step - loss: 3469.5310 - mae: 3469.5310\n",
            "Epoch 165/200\n",
            "34/34 [==============================] - 0s 2ms/step - loss: 3467.5891 - mae: 3467.5891\n",
            "Epoch 166/200\n",
            "34/34 [==============================] - 0s 2ms/step - loss: 3465.6221 - mae: 3465.6221\n",
            "Epoch 167/200\n",
            "34/34 [==============================] - 0s 2ms/step - loss: 3463.4280 - mae: 3463.4280\n",
            "Epoch 168/200\n",
            "34/34 [==============================] - 0s 2ms/step - loss: 3462.8276 - mae: 3462.8276\n",
            "Epoch 169/200\n",
            "34/34 [==============================] - 0s 2ms/step - loss: 3462.6885 - mae: 3462.6885\n",
            "Epoch 170/200\n",
            "34/34 [==============================] - 0s 2ms/step - loss: 3460.7166 - mae: 3460.7166\n",
            "Epoch 171/200\n",
            "34/34 [==============================] - 0s 2ms/step - loss: 3457.8508 - mae: 3457.8508\n",
            "Epoch 172/200\n",
            "34/34 [==============================] - 0s 2ms/step - loss: 3458.1003 - mae: 3458.1003\n",
            "Epoch 173/200\n",
            "34/34 [==============================] - 0s 2ms/step - loss: 3455.7781 - mae: 3455.7781\n",
            "Epoch 174/200\n",
            "34/34 [==============================] - 0s 2ms/step - loss: 3454.6619 - mae: 3454.6619\n",
            "Epoch 175/200\n",
            "34/34 [==============================] - 0s 2ms/step - loss: 3455.6165 - mae: 3455.6165\n",
            "Epoch 176/200\n",
            "34/34 [==============================] - 0s 2ms/step - loss: 3451.8152 - mae: 3451.8152\n",
            "Epoch 177/200\n",
            "34/34 [==============================] - 0s 2ms/step - loss: 3450.7903 - mae: 3450.7903\n",
            "Epoch 178/200\n",
            "34/34 [==============================] - 0s 2ms/step - loss: 3449.1733 - mae: 3449.1733\n",
            "Epoch 179/200\n",
            "34/34 [==============================] - 0s 2ms/step - loss: 3449.2395 - mae: 3449.2395\n",
            "Epoch 180/200\n",
            "34/34 [==============================] - 0s 2ms/step - loss: 3447.5603 - mae: 3447.5603\n",
            "Epoch 181/200\n",
            "34/34 [==============================] - 0s 2ms/step - loss: 3444.8098 - mae: 3444.8098\n",
            "Epoch 182/200\n",
            "34/34 [==============================] - 0s 2ms/step - loss: 3444.1077 - mae: 3444.1077\n",
            "Epoch 183/200\n",
            "34/34 [==============================] - 0s 2ms/step - loss: 3442.9426 - mae: 3442.9426\n",
            "Epoch 184/200\n",
            "34/34 [==============================] - 0s 2ms/step - loss: 3442.2080 - mae: 3442.2080\n",
            "Epoch 185/200\n",
            "34/34 [==============================] - 0s 2ms/step - loss: 3441.3274 - mae: 3441.3274\n",
            "Epoch 186/200\n",
            "34/34 [==============================] - 0s 2ms/step - loss: 3439.1196 - mae: 3439.1196\n",
            "Epoch 187/200\n",
            "34/34 [==============================] - 0s 2ms/step - loss: 3435.7334 - mae: 3435.7334\n",
            "Epoch 188/200\n",
            "34/34 [==============================] - 0s 2ms/step - loss: 3437.6943 - mae: 3437.6943\n",
            "Epoch 189/200\n",
            "34/34 [==============================] - 0s 2ms/step - loss: 3437.8818 - mae: 3437.8818\n",
            "Epoch 190/200\n",
            "34/34 [==============================] - 0s 2ms/step - loss: 3438.2563 - mae: 3438.2563\n",
            "Epoch 191/200\n",
            "34/34 [==============================] - 0s 2ms/step - loss: 3431.0352 - mae: 3431.0352\n",
            "Epoch 192/200\n",
            "34/34 [==============================] - 0s 2ms/step - loss: 3433.5146 - mae: 3433.5146\n",
            "Epoch 193/200\n",
            "34/34 [==============================] - 0s 2ms/step - loss: 3430.4695 - mae: 3430.4695\n",
            "Epoch 194/200\n",
            "34/34 [==============================] - 0s 2ms/step - loss: 3429.3118 - mae: 3429.3118\n",
            "Epoch 195/200\n",
            "34/34 [==============================] - 0s 2ms/step - loss: 3428.4863 - mae: 3428.4863\n",
            "Epoch 196/200\n",
            "34/34 [==============================] - 0s 2ms/step - loss: 3427.7400 - mae: 3427.7400\n",
            "Epoch 197/200\n",
            "34/34 [==============================] - 0s 2ms/step - loss: 3426.8794 - mae: 3426.8794\n",
            "Epoch 198/200\n",
            "34/34 [==============================] - 0s 2ms/step - loss: 3426.0808 - mae: 3426.0808\n",
            "Epoch 199/200\n",
            "34/34 [==============================] - 0s 2ms/step - loss: 3426.8899 - mae: 3426.8899\n",
            "Epoch 200/200\n",
            "34/34 [==============================] - 0s 2ms/step - loss: 3426.7302 - mae: 3426.7302\n"
          ]
        }
      ]
    },
    {
      "cell_type": "code",
      "source": [
        "model.evaluate(X_test_normal, y_test)"
      ],
      "metadata": {
        "colab": {
          "base_uri": "https://localhost:8080/"
        },
        "id": "XK0CnptV5zP-",
        "outputId": "b9d00ded-bbb2-49a0-e511-8430c7a04835"
      },
      "execution_count": null,
      "outputs": [
        {
          "output_type": "stream",
          "name": "stdout",
          "text": [
            "9/9 [==============================] - 0s 2ms/step - loss: 3348.2625 - mae: 3348.2625\n"
          ]
        },
        {
          "output_type": "execute_result",
          "data": {
            "text/plain": [
              "[3348.262451171875, 3348.262451171875]"
            ]
          },
          "metadata": {},
          "execution_count": 194
        }
      ]
    },
    {
      "cell_type": "code",
      "source": [
        "pd.DataFrame(history.history).plot()"
      ],
      "metadata": {
        "colab": {
          "base_uri": "https://localhost:8080/",
          "height": 283
        },
        "id": "STTVDf-e9YUk",
        "outputId": "2349756d-da3d-4cc9-a2dc-7f84b44132c3"
      },
      "execution_count": null,
      "outputs": [
        {
          "output_type": "execute_result",
          "data": {
            "text/plain": [
              "<matplotlib.axes._subplots.AxesSubplot at 0x7f5f1963cd90>"
            ]
          },
          "metadata": {},
          "execution_count": 195
        },
        {
          "output_type": "display_data",
          "data": {
            "text/plain": [
              "<Figure size 432x288 with 1 Axes>"
            ],
            "image/png": "[encoded data removed]"
          },
          "metadata": {
            "needs_background": "light"
          }
        }
      ]
    },
    {
      "cell_type": "code",
      "source": [],
      "metadata": {
        "id": "LKBr_o9n9lkd"
      },
      "execution_count": null,
      "outputs": []
    }
  ]
}