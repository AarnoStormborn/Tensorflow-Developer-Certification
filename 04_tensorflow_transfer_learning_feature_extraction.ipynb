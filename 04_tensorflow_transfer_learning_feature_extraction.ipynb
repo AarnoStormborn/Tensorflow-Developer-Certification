{
  "nbformat": 4,
  "nbformat_minor": 0,
  "metadata": {
    "colab": {
      "provenance": [],
      "toc_visible": true,
      "authorship_tag": "ABX9TyMkX+oVui2HmxKLa07Qbj3u",
      "include_colab_link": true
    },
    "kernelspec": {
      "name": "python3",
      "display_name": "Python 3"
    },
    "language_info": {
      "name": "python"
    },
    "gpuClass": "standard",
    "accelerator": "GPU"
  },
  "cells": [
    {
      "cell_type": "markdown",
      "metadata": {
        "id": "view-in-github",
        "colab_type": "text"
      },
      "source": [
        "<a href=\"https://colab.research.google.com/github/AarnoStormborn/Tensorflow-Developer-Certification/blob/main/04_tensorflow_transfer_learning_feature_extraction.ipynb\" target=\"_parent\"><img src=\"https://colab.research.google.com/assets/colab-badge.svg\" alt=\"Open In Colab\"/></a>"
      ]
    },
    {
      "cell_type": "markdown",
      "source": [
        "# Transfer Learning with Tensorflow: Feature Extraction"
      ],
      "metadata": {
        "id": "mWGOB5FJEw8v"
      }
    },
    {
      "cell_type": "code",
      "execution_count": 1,
      "metadata": {
        "colab": {
          "base_uri": "https://localhost:8080/"
        },
        "id": "SKcnSII9EF58",
        "outputId": "87d2bbe5-5210-4aa2-eb4a-599f0129ad6b"
      },
      "outputs": [
        {
          "output_type": "stream",
          "name": "stdout",
          "text": [
            "Mon Jan  9 15:28:16 2023       \n",
            "+-----------------------------------------------------------------------------+\n",
            "| NVIDIA-SMI 460.32.03    Driver Version: 460.32.03    CUDA Version: 11.2     |\n",
            "|-------------------------------+----------------------+----------------------+\n",
            "| GPU  Name        Persistence-M| Bus-Id        Disp.A | Volatile Uncorr. ECC |\n",
            "| Fan  Temp  Perf  Pwr:Usage/Cap|         Memory-Usage | GPU-Util  Compute M. |\n",
            "|                               |                      |               MIG M. |\n",
            "|===============================+======================+======================|\n",
            "|   0  Tesla T4            Off  | 00000000:00:04.0 Off |                    0 |\n",
            "| N/A   70C    P0    30W /  70W |      0MiB / 15109MiB |      0%      Default |\n",
            "|                               |                      |                  N/A |\n",
            "+-------------------------------+----------------------+----------------------+\n",
            "                                                                               \n",
            "+-----------------------------------------------------------------------------+\n",
            "| Processes:                                                                  |\n",
            "|  GPU   GI   CI        PID   Type   Process name                  GPU Memory |\n",
            "|        ID   ID                                                   Usage      |\n",
            "|=============================================================================|\n",
            "|  No running processes found                                                 |\n",
            "+-----------------------------------------------------------------------------+\n"
          ]
        }
      ],
      "source": [
        "!nvidia-smi"
      ]
    },
    {
      "cell_type": "code",
      "source": [
        "import tensorflow as tf\n",
        "print(tf.__version__)"
      ],
      "metadata": {
        "id": "5GKCqikxESvb",
        "colab": {
          "base_uri": "https://localhost:8080/"
        },
        "outputId": "0509e8f5-24d8-42b1-8b51-cbd92562934d"
      },
      "execution_count": 2,
      "outputs": [
        {
          "output_type": "stream",
          "name": "stdout",
          "text": [
            "2.9.2\n"
          ]
        }
      ]
    },
    {
      "cell_type": "markdown",
      "source": [
        "## Data Acquisition"
      ],
      "metadata": {
        "id": "LcIgS2TdE220"
      }
    },
    {
      "cell_type": "code",
      "source": [
        "# (10% of 10_food_classes from Food101)\n",
        "import zipfile\n",
        "\n",
        "# Download the data\n",
        "!wget https://storage.googleapis.com/ztm_tf_course/food_vision/10_food_classes_10_percent.zip\n",
        "\n",
        "# Unzip the download\n",
        "zip_ref = zipfile.ZipFile(\"10_food_classes_10_percent.zip\")\n",
        "zip_ref.extractall()\n",
        "zip_ref.close()"
      ],
      "metadata": {
        "colab": {
          "base_uri": "https://localhost:8080/"
        },
        "id": "6YEoDVxCG9Jr",
        "outputId": "4cba947c-f922-4fa4-c10a-2fa531fd17ea"
      },
      "execution_count": 3,
      "outputs": [
        {
          "output_type": "stream",
          "name": "stdout",
          "text": [
            "--2023-01-09 15:28:19--  https://storage.googleapis.com/ztm_tf_course/food_vision/10_food_classes_10_percent.zip\n",
            "Resolving storage.googleapis.com (storage.googleapis.com)... 74.125.68.128, 74.125.24.128, 142.250.4.128, ...\n",
            "Connecting to storage.googleapis.com (storage.googleapis.com)|74.125.68.128|:443... connected.\n",
            "HTTP request sent, awaiting response... 200 OK\n",
            "Length: 168546183 (161M) [application/zip]\n",
            "Saving to: ‘10_food_classes_10_percent.zip’\n",
            "\n",
            "10_food_classes_10_ 100%[===================>] 160.74M  23.9MB/s    in 7.9s    \n",
            "\n",
            "2023-01-09 15:28:27 (20.5 MB/s) - ‘10_food_classes_10_percent.zip’ saved [168546183/168546183]\n",
            "\n"
          ]
        }
      ]
    },
    {
      "cell_type": "markdown",
      "source": [
        "## Inspect the data"
      ],
      "metadata": {
        "id": "J1xZdNotHzcn"
      }
    },
    {
      "cell_type": "code",
      "source": [
        "# Walk through the directories\n",
        "import os\n",
        "BASE_DIR = \"10_food_classes_10_percent\"\n",
        "for dirpath, dirnames, filenames in os.walk(BASE_DIR):\n",
        "    print(f\"{len(dirnames)} directories and {len(filenames)} images in '{dirpath}'\")"
      ],
      "metadata": {
        "colab": {
          "base_uri": "https://localhost:8080/"
        },
        "id": "TxmDh_1SJxXl",
        "outputId": "cc02b8df-c8f9-4a42-d945-b413637fc12c"
      },
      "execution_count": 4,
      "outputs": [
        {
          "output_type": "stream",
          "name": "stdout",
          "text": [
            "2 directories and 0 images in '10_food_classes_10_percent'\n",
            "10 directories and 0 images in '10_food_classes_10_percent/train'\n",
            "0 directories and 75 images in '10_food_classes_10_percent/train/fried_rice'\n",
            "0 directories and 75 images in '10_food_classes_10_percent/train/pizza'\n",
            "0 directories and 75 images in '10_food_classes_10_percent/train/chicken_wings'\n",
            "0 directories and 75 images in '10_food_classes_10_percent/train/ice_cream'\n",
            "0 directories and 75 images in '10_food_classes_10_percent/train/steak'\n",
            "0 directories and 75 images in '10_food_classes_10_percent/train/sushi'\n",
            "0 directories and 75 images in '10_food_classes_10_percent/train/hamburger'\n",
            "0 directories and 75 images in '10_food_classes_10_percent/train/ramen'\n",
            "0 directories and 75 images in '10_food_classes_10_percent/train/grilled_salmon'\n",
            "0 directories and 75 images in '10_food_classes_10_percent/train/chicken_curry'\n",
            "10 directories and 0 images in '10_food_classes_10_percent/test'\n",
            "0 directories and 250 images in '10_food_classes_10_percent/test/fried_rice'\n",
            "0 directories and 250 images in '10_food_classes_10_percent/test/pizza'\n",
            "0 directories and 250 images in '10_food_classes_10_percent/test/chicken_wings'\n",
            "0 directories and 250 images in '10_food_classes_10_percent/test/ice_cream'\n",
            "0 directories and 250 images in '10_food_classes_10_percent/test/steak'\n",
            "0 directories and 250 images in '10_food_classes_10_percent/test/sushi'\n",
            "0 directories and 250 images in '10_food_classes_10_percent/test/hamburger'\n",
            "0 directories and 250 images in '10_food_classes_10_percent/test/ramen'\n",
            "0 directories and 250 images in '10_food_classes_10_percent/test/grilled_salmon'\n",
            "0 directories and 250 images in '10_food_classes_10_percent/test/chicken_curry'\n"
          ]
        }
      ]
    },
    {
      "cell_type": "markdown",
      "source": [
        "### Load the images "
      ],
      "metadata": {
        "id": "QOxrBdYtKd5Q"
      }
    },
    {
      "cell_type": "code",
      "source": [
        "# Load the images into batches using ImageDataGenerators\n",
        "\n",
        "from tensorflow.keras.preprocessing.image import ImageDataGenerator\n",
        "\n",
        "# Set hyperparameters\n",
        "IMAGE_SHAPE = (256,256)\n",
        "BATCH_SIZE = 32\n",
        "\n",
        "# Set directories\n",
        "train_dir = BASE_DIR + '/train/'\n",
        "test_dir = BASE_DIR + '/test/'\n",
        "\n",
        "# Create Datagens\n",
        "train_datagen = ImageDataGenerator(rescale=1/255.)\n",
        "test_datagen = ImageDataGenerator(rescale=1/255.)\n",
        "\n",
        "# Load images\n",
        "train_set = train_datagen.flow_from_directory(train_dir,\n",
        "                                              target_size=IMAGE_SHAPE,\n",
        "                                              batch_size=BATCH_SIZE,\n",
        "                                              class_mode=\"categorical\",\n",
        "                                              shuffle=True)\n",
        "\n",
        "test_set = test_datagen.flow_from_directory(test_dir,\n",
        "                                            target_size=IMAGE_SHAPE,\n",
        "                                            batch_size=BATCH_SIZE,\n",
        "                                            class_mode=\"categorical\")"
      ],
      "metadata": {
        "id": "1fB1szDCLI2Y",
        "colab": {
          "base_uri": "https://localhost:8080/"
        },
        "outputId": "52d93ad4-e2ee-41aa-8d98-98bdf1365a63"
      },
      "execution_count": 5,
      "outputs": [
        {
          "output_type": "stream",
          "name": "stdout",
          "text": [
            "Found 750 images belonging to 10 classes.\n",
            "Found 2500 images belonging to 10 classes.\n"
          ]
        }
      ]
    },
    {
      "cell_type": "markdown",
      "source": [
        "## Setting up Callbacks\n",
        "\n",
        "Tensorflow Callbacks are functions or blocks of code which are executed during a specific instant while training a Deep Learning model  \\\n",
        "Some popular callbacks:\n",
        "* Tracking experiments with Tensorboard\n",
        "* Model checkpoint with ModelCheckpoint callback\n",
        "* Stopping a model before finishing all epochs with EarlyStopping callback\n",
        "\n",
        "\n",
        "\n"
      ],
      "metadata": {
        "id": "RHlE4JFIWAJq"
      }
    },
    {
      "cell_type": "code",
      "source": [
        "# Create tensorboard callback\n",
        "import datetime\n",
        "\n",
        "def tensorboard_callback(dir_name, experiment_name):\n",
        "    log_dir = dir_name +'/' + experiment_name + '/' + datetime.datetime.now().strftime(\"%d%m%Y-%H%M%S\")\n",
        "    tb_callback = tf.keras.callbacks.TensorBoard(log_dir=log_dir)\n",
        "    print(f\"Saved to {log_dir}\")\n",
        "    return tb_callback"
      ],
      "metadata": {
        "id": "tW7WMpxilOSe"
      },
      "execution_count": 6,
      "outputs": []
    },
    {
      "cell_type": "markdown",
      "source": [
        "## Creating Models with Tensorflow Hub\n",
        "\n",
        "Previously, we created our own models from scratch using Tensorflow. Now, we will use pretrained models that are available on Tensorflow Hub https://tfhub.dev/\n",
        "\n",
        "**Note**: Find research papers on Deep Learning: https://paperswithcode.com/\n",
        "\n",
        "For our First Transfer Learning Model, we will use EfficientNetB0 Feature Vector: https://tfhub.dev/tensorflow/efficientnet/b0/feature-vector/1\n",
        "\n",
        "And also Resnet50 Feature Vector: https://tfhub.dev/google/imagenet/resnet_v2_50/feature_vector/5"
      ],
      "metadata": {
        "id": "hJbMydhuB6ia"
      }
    },
    {
      "cell_type": "code",
      "source": [
        "# Let's compare the two models\n",
        "effnet_url = \"https://tfhub.dev/tensorflow/efficientnet/b0/feature-vector/1\"\n",
        "resnet_url = \"https://tfhub.dev/google/imagenet/resnet_v2_50/feature_vector/5\""
      ],
      "metadata": {
        "id": "fhtN9KGJCCA1"
      },
      "execution_count": 19,
      "outputs": []
    },
    {
      "cell_type": "code",
      "source": [
        "import tensorflow as tf \n",
        "import tensorflow_hub as hub\n",
        "from tensorflow.keras import layers"
      ],
      "metadata": {
        "id": "EygfkWrQF9xd"
      },
      "execution_count": 8,
      "outputs": []
    },
    {
      "cell_type": "code",
      "source": [
        "# Create a function to create model from URL\n",
        "def create_model(model_url, num_classes=10):\n",
        "    \"\"\"\n",
        "    Take tensorflow hub URL and create Sequential model with it\n",
        "\n",
        "    Args:\n",
        "        model_url (str): TensorFlow Hub URL\n",
        "        num_classes (int): Number of classes in the dataset. default 10\n",
        "\n",
        "    Returns:\n",
        "        An uncompiled Keras Sequential model\n",
        "    \"\"\"\n",
        "    # Get the Pretrained Model\n",
        "    feature_layer = hub.KerasLayer(model_url,\n",
        "                                   trainable=False,\n",
        "                                   name=\"feature_extraction_layer\",\n",
        "                                   input_shape=IMAGE_SHAPE+(3,))\n",
        "    \n",
        "    # Create Keras Model\n",
        "    model = tf.keras.Sequential([\n",
        "        feature_layer,\n",
        "        layers.Dense(num_classes, activation=\"softmax\", name=\"output_layer\")\n",
        "    ])\n",
        "\n",
        "    return model\n"
      ],
      "metadata": {
        "id": "hIem62bFGOvy"
      },
      "execution_count": 9,
      "outputs": []
    },
    {
      "cell_type": "markdown",
      "source": [
        "### ResNet50V2 Model"
      ],
      "metadata": {
        "id": "s5hEqHARHhIe"
      }
    },
    {
      "cell_type": "code",
      "source": [
        "# Create ResNet model using the function\n",
        "resnet_model = create_model(resnet_url)\n",
        "\n",
        "# Compile the model\n",
        "resnet_model.compile(loss=tf.keras.losses.CategoricalCrossentropy(),\n",
        "                     optimizer=tf.keras.optimizers.Adam(),\n",
        "                     metrics=[\"accuracy\"])\n",
        "\n",
        "# Fit the model\n",
        "resnet_history = resnet_model.fit(train_set,\n",
        "                                  epochs=5,\n",
        "                                  steps_per_epoch=len(train_set),\n",
        "                                  validation_data=test_set,\n",
        "                                  validation_steps=len(test_set),\n",
        "                                  callbacks=[tensorboard_callback(dir_name=\"tensorflow_hub\",\n",
        "                                                                  experiment_name=\"resnet50v2\")])"
      ],
      "metadata": {
        "colab": {
          "base_uri": "https://localhost:8080/"
        },
        "id": "TqIOT1v3Hkhb",
        "outputId": "6c965dbf-13a9-4fab-94b3-9e30c0a11405"
      },
      "execution_count": 10,
      "outputs": [
        {
          "output_type": "stream",
          "name": "stdout",
          "text": [
            "Saved to tensorflow_hub/resnet50v2/09012023-152841\n",
            "Epoch 1/5\n",
            "24/24 [==============================] - 31s 832ms/step - loss: 1.8971 - accuracy: 0.3653 - val_loss: 1.2011 - val_accuracy: 0.6364\n",
            "Epoch 2/5\n",
            "24/24 [==============================] - 25s 1s/step - loss: 0.8930 - accuracy: 0.7507 - val_loss: 0.8399 - val_accuracy: 0.7460\n",
            "Epoch 3/5\n",
            "24/24 [==============================] - 17s 738ms/step - loss: 0.6211 - accuracy: 0.8360 - val_loss: 0.7272 - val_accuracy: 0.7732\n",
            "Epoch 4/5\n",
            "24/24 [==============================] - 17s 739ms/step - loss: 0.4688 - accuracy: 0.8987 - val_loss: 0.6765 - val_accuracy: 0.7956\n",
            "Epoch 5/5\n",
            "24/24 [==============================] - 17s 744ms/step - loss: 0.3771 - accuracy: 0.9240 - val_loss: 0.6387 - val_accuracy: 0.8012\n"
          ]
        }
      ]
    },
    {
      "cell_type": "code",
      "source": [
        "# Check model summary\n",
        "resnet_model.summary()"
      ],
      "metadata": {
        "colab": {
          "base_uri": "https://localhost:8080/"
        },
        "id": "SDKIcXh0HzYt",
        "outputId": "93da5aaa-5194-40c1-beb7-b16a1997c593"
      },
      "execution_count": 11,
      "outputs": [
        {
          "output_type": "stream",
          "name": "stdout",
          "text": [
            "Model: \"sequential\"\n",
            "_________________________________________________________________\n",
            " Layer (type)                Output Shape              Param #   \n",
            "=================================================================\n",
            " feature_extraction_layer (K  (None, 2048)             23564800  \n",
            " erasLayer)                                                      \n",
            "                                                                 \n",
            " output_layer (Dense)        (None, 10)                20490     \n",
            "                                                                 \n",
            "=================================================================\n",
            "Total params: 23,585,290\n",
            "Trainable params: 20,490\n",
            "Non-trainable params: 23,564,800\n",
            "_________________________________________________________________\n"
          ]
        }
      ]
    },
    {
      "cell_type": "code",
      "source": [
        "# Function to plot loss curves\n",
        "def plot_curves(history):\n",
        "\n",
        "    \"\"\"\n",
        "    Returns separate loss and accuracy curves\n",
        "    \"\"\"\n",
        "    import matplotlib.pyplot as plt\n",
        "\n",
        "    loss = history.history[\"loss\"]\n",
        "    val_loss = history.history[\"val_loss\"]\n",
        "\n",
        "    accuracy = history.history[\"accuracy\"]\n",
        "    val_accuracy = history.history[\"val_accuracy\"]\n",
        "\n",
        "    epochs = range(len(history.history[\"loss\"]))\n",
        "\n",
        "    plt.plot(epochs, loss, label=\"training_loss\")\n",
        "    plt.plot(epochs, val_loss, label=\"val_loss\")\n",
        "    plt.title(\"loss\")\n",
        "    plt.xlabel(\"epochs\")\n",
        "    plt.legend()\n",
        "\n",
        "    plt.figure()\n",
        "    plt.plot(epochs, accuracy, label=\"training_accuracy\")\n",
        "    plt.plot(epochs, val_accuracy, label=\"val_accuracy\")\n",
        "    plt.title(\"accuracy\")\n",
        "    plt.xlabel(\"epochs\")\n",
        "    plt.legend()"
      ],
      "metadata": {
        "id": "qeigSQJPIHVM"
      },
      "execution_count": 14,
      "outputs": []
    },
    {
      "cell_type": "code",
      "source": [
        "plot_curves(resnet_history)"
      ],
      "metadata": {
        "colab": {
          "base_uri": "https://localhost:8080/",
          "height": 573
        },
        "id": "_WNdTbhULW5p",
        "outputId": "539b8544-befa-4069-bce2-1673363b61fe"
      },
      "execution_count": 15,
      "outputs": [
        {
          "output_type": "display_data",
          "data": {
            "text/plain": [
              "<Figure size 432x288 with 1 Axes>"
            ],
            "image/png": "[encoded data removed]"
          },
          "metadata": {
            "needs_background": "light"
          }
        },
        {
          "output_type": "display_data",
          "data": {
            "text/plain": [
              "<Figure size 432x288 with 1 Axes>"
            ],
            "image/png": "[encoded data removed]"
          },
          "metadata": {
            "needs_background": "light"
          }
        }
      ]
    },
    {
      "cell_type": "code",
      "source": [
        "resnet_model.evaluate(test_set)"
      ],
      "metadata": {
        "colab": {
          "base_uri": "https://localhost:8080/"
        },
        "id": "7ph0lJiELZkC",
        "outputId": "b44faed8-fa5a-4643-950e-559d0a4f2cb1"
      },
      "execution_count": 16,
      "outputs": [
        {
          "output_type": "stream",
          "name": "stdout",
          "text": [
            "79/79 [==============================] - 14s 172ms/step - loss: 0.6387 - accuracy: 0.8012\n"
          ]
        },
        {
          "output_type": "execute_result",
          "data": {
            "text/plain": [
              "[0.6386926770210266, 0.8011999726295471]"
            ]
          },
          "metadata": {},
          "execution_count": 16
        }
      ]
    },
    {
      "cell_type": "markdown",
      "source": [
        "### EfficientNetB0 Model"
      ],
      "metadata": {
        "id": "potyqf6LL-0U"
      }
    },
    {
      "cell_type": "code",
      "source": [
        "# Create a EfficientNet model\n",
        "effnet_model = create_model(effnet_url)\n",
        "\n",
        "# Compile the model\n",
        "effnet_model.compile(loss=tf.keras.losses.CategoricalCrossentropy(),\n",
        "                     optimizer=tf.keras.optimizers.Adam(),\n",
        "                     metrics=[\"accuracy\"])\n",
        "\n",
        "# Fit the model\n",
        "effnet_history = effnet_model.fit(train_set,\n",
        "                                  epochs=5,\n",
        "                                  steps_per_epoch=len(train_set),\n",
        "                                  validation_data=test_set,\n",
        "                                  validation_steps=len(test_set),\n",
        "                                  callbacks=[tensorboard_callback(dir_name=\"tensorflow_hub\",\n",
        "                                                                  experiment_name=\"efficientnetb0\")])"
      ],
      "metadata": {
        "colab": {
          "base_uri": "https://localhost:8080/"
        },
        "id": "YYDIHgTfMRF5",
        "outputId": "441ad12e-2344-4ebf-9aa6-5238c3cc2696"
      },
      "execution_count": 20,
      "outputs": [
        {
          "output_type": "stream",
          "name": "stdout",
          "text": [
            "Saved to tensorflow_hub/efficientnetb0/09012023-162843\n",
            "Epoch 1/5\n",
            "24/24 [==============================] - 27s 770ms/step - loss: 1.8541 - accuracy: 0.4147 - val_loss: 1.3111 - val_accuracy: 0.7140\n",
            "Epoch 2/5\n",
            "24/24 [==============================] - 16s 692ms/step - loss: 1.0743 - accuracy: 0.7747 - val_loss: 0.8713 - val_accuracy: 0.8168\n",
            "Epoch 3/5\n",
            "24/24 [==============================] - 16s 694ms/step - loss: 0.7663 - accuracy: 0.8360 - val_loss: 0.6980 - val_accuracy: 0.8476\n",
            "Epoch 4/5\n",
            "24/24 [==============================] - 16s 699ms/step - loss: 0.6180 - accuracy: 0.8587 - val_loss: 0.6102 - val_accuracy: 0.8540\n",
            "Epoch 5/5\n",
            "24/24 [==============================] - 17s 710ms/step - loss: 0.5248 - accuracy: 0.8880 - val_loss: 0.5554 - val_accuracy: 0.8640\n"
          ]
        }
      ]
    },
    {
      "cell_type": "code",
      "source": [
        "effnet_model.summary()"
      ],
      "metadata": {
        "colab": {
          "base_uri": "https://localhost:8080/"
        },
        "id": "G4nfPo5eXAuV",
        "outputId": "f1b514ca-8f37-439b-826a-45ff0291802c"
      },
      "execution_count": 21,
      "outputs": [
        {
          "output_type": "stream",
          "name": "stdout",
          "text": [
            "Model: \"sequential_1\"\n",
            "_________________________________________________________________\n",
            " Layer (type)                Output Shape              Param #   \n",
            "=================================================================\n",
            " feature_extraction_layer (K  (None, 1280)             4049564   \n",
            " erasLayer)                                                      \n",
            "                                                                 \n",
            " output_layer (Dense)        (None, 10)                12810     \n",
            "                                                                 \n",
            "=================================================================\n",
            "Total params: 4,062,374\n",
            "Trainable params: 12,810\n",
            "Non-trainable params: 4,049,564\n",
            "_________________________________________________________________\n"
          ]
        }
      ]
    },
    {
      "cell_type": "code",
      "source": [
        "plot_curves(effnet_history)"
      ],
      "metadata": {
        "colab": {
          "base_uri": "https://localhost:8080/",
          "height": 573
        },
        "id": "E-cR_1T9Xs9Z",
        "outputId": "11bc2500-4519-4b6c-b918-8ae88a9d57c6"
      },
      "execution_count": 22,
      "outputs": [
        {
          "output_type": "display_data",
          "data": {
            "text/plain": [
              "<Figure size 432x288 with 1 Axes>"
            ],
            "image/png": "[encoded data removed]"
          },
          "metadata": {
            "needs_background": "light"
          }
        },
        {
          "output_type": "display_data",
          "data": {
            "text/plain": [
              "<Figure size 432x288 with 1 Axes>"
            ],
            "image/png": "[encoded data removed]"
          },
          "metadata": {
            "needs_background": "light"
          }
        }
      ]
    },
    {
      "cell_type": "code",
      "source": [
        "effnet_model.evaluate(test_set)"
      ],
      "metadata": {
        "colab": {
          "base_uri": "https://localhost:8080/"
        },
        "id": "OxUDK_RKXxbw",
        "outputId": "6ed7df3c-89d2-40cd-e79e-bbf0814333bc"
      },
      "execution_count": 23,
      "outputs": [
        {
          "output_type": "stream",
          "name": "stdout",
          "text": [
            "79/79 [==============================] - 13s 161ms/step - loss: 0.5554 - accuracy: 0.8640\n"
          ]
        },
        {
          "output_type": "execute_result",
          "data": {
            "text/plain": [
              "[0.5553562045097351, 0.8640000224113464]"
            ]
          },
          "metadata": {},
          "execution_count": 23
        }
      ]
    },
    {
      "cell_type": "code",
      "source": [
        "# Number of layers in EfficientNetB0\n",
        "len(effnet_model.layers[0].weights)"
      ],
      "metadata": {
        "colab": {
          "base_uri": "https://localhost:8080/"
        },
        "id": "t6a89nNrbnnE",
        "outputId": "507f59a4-7523-442a-f7c4-82a727e5c39d"
      },
      "execution_count": 25,
      "outputs": [
        {
          "output_type": "execute_result",
          "data": {
            "text/plain": [
              "309"
            ]
          },
          "metadata": {},
          "execution_count": 25
        }
      ]
    },
    {
      "cell_type": "markdown",
      "source": [
        "## Types of Transfer Learning\n",
        "\n",
        "* **Direct Transfer Learning** : Using an entire model with no changes\n",
        "* **Feature Extraction**: Using features learned by other models in the form of feature vectors to create our own output\n",
        "* **Fine Tuned Transfer Learning**: Use the pretrained model with customizations to some/all of its layers "
      ],
      "metadata": {
        "id": "xfEdVTy-aX98"
      }
    },
    {
      "cell_type": "markdown",
      "source": [
        "## Compare model results with TensorBoard"
      ],
      "metadata": {
        "id": "W4obb_vEbTj8"
      }
    },
    {
      "cell_type": "code",
      "source": [
        "# Upload records to TensorBoard dev\n",
        "!tensorboard dev upload --logdir ./tensorflow_hub/ \\\n",
        "--name \"EfficientNetB0 vs ResNet50V2\" \\\n",
        "--description \"Experiment to compare two prominent Transfer Learning models\" \\\n",
        "--one_shot"
      ],
      "metadata": {
        "colab": {
          "base_uri": "https://localhost:8080/"
        },
        "id": "B9DsDJeAcr2E",
        "outputId": "88ea7bb6-de4c-413b-87ab-4a83d8311eaf"
      },
      "execution_count": 28,
      "outputs": [
        {
          "output_type": "stream",
          "name": "stdout",
          "text": [
            "\n",
            "***** TensorBoard Uploader *****\n",
            "\n",
            "This will upload your TensorBoard logs to https://tensorboard.dev/ from\n",
            "the following directory:\n",
            "\n",
            "./tensorflow_hub/\n",
            "\n",
            "This TensorBoard will be visible to everyone. Do not upload sensitive\n",
            "data.\n",
            "\n",
            "Your use of this service is subject to Google's Terms of Service\n",
            "<https://policies.google.com/terms> and Privacy Policy\n",
            "<https://policies.google.com/privacy>, and TensorBoard.dev's Terms of Service\n",
            "<https://tensorboard.dev/policy/terms/>.\n",
            "\n",
            "This notice will not be shown again while you are logged into the uploader.\n",
            "To log out, run `tensorboard dev auth revoke`.\n",
            "\n",
            "Continue? (yes/NO) yes\n",
            "\n",
            "Please visit this URL to authorize this application: https://accounts.google.com/o/oauth2/auth?response_type=code&client_id=373649185512-8v619h5kft38l4456nm2dj4ubeqsrvh6.apps.googleusercontent.com&redirect_uri=urn%3Aietf%3Awg%3Aoauth%3A2.0%3Aoob&scope=openid+https%3A%2F%2Fwww.googleapis.com%2Fauth%2Fuserinfo.email&state=pibEqsZyl7ClpivRgYHkp9572IkQTN&prompt=consent&access_type=offline\n",
            "Enter the authorization code: 4/1AWgavdf1BCnMWlaB8mZkiuzosbB5KK5inVqoYtPuX3RpNgw-Nl5a7iKbvYU\n",
            "\n",
            "\n",
            "New experiment created. View your TensorBoard at: https://tensorboard.dev/experiment/XUKn3ImkT9CAjTBgdxwILw/\n",
            "\n",
            "\u001b[1m[2023-01-09T16:55:51]\u001b[0m Started scanning logdir.\n",
            "\u001b[1m[2023-01-09T16:55:56]\u001b[0m Total uploaded: 60 scalars, 0 tensors, 2 binary objects (5.5 MB)\n",
            "\u001b[1m[2023-01-09T16:55:56]\u001b[0m Done scanning logdir.\n",
            "\n",
            "\n",
            "Done. View your TensorBoard at https://tensorboard.dev/experiment/XUKn3ImkT9CAjTBgdxwILw/\n"
          ]
        }
      ]
    },
    {
      "cell_type": "code",
      "source": [
        "# Check all experiments\n",
        "!tensorboard dev list"
      ],
      "metadata": {
        "colab": {
          "base_uri": "https://localhost:8080/"
        },
        "id": "xZMQ4wAjdKQY",
        "outputId": "167b73fa-b0f9-43b7-f33f-c11064614224"
      },
      "execution_count": 29,
      "outputs": [
        {
          "output_type": "stream",
          "name": "stdout",
          "text": [
            "https://tensorboard.dev/experiment/XUKn3ImkT9CAjTBgdxwILw/\n",
            "\tName                 EfficientNetB0 vs ResNet50V2\n",
            "\tDescription          Experiment to compare two prominent Transfer Learning models\n",
            "\tId                   XUKn3ImkT9CAjTBgdxwILw\n",
            "\tCreated              2023-01-09 16:55:51 (8 minutes ago)\n",
            "\tUpdated              2023-01-09 16:55:56 (8 minutes ago)\n",
            "\tRuns                 4\n",
            "\tTags                 5\n",
            "\tScalars              60\n",
            "\tTensor bytes         0\n",
            "\tBinary object bytes  5794895\n",
            "Total: 1 experiment(s)\n"
          ]
        }
      ]
    },
    {
      "cell_type": "code",
      "source": [
        "# Delete an experiment\n",
        "# !tensorboard dev delete --experiment_id XUKn3ImkT9CAjTBgdxwILw"
      ],
      "metadata": {
        "id": "EvTBpjU5fWLl"
      },
      "execution_count": 30,
      "outputs": []
    }
  ]
}