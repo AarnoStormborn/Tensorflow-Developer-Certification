{
  "cells": [
    {
      "cell_type": "markdown",
      "metadata": {
        "id": "view-in-github",
        "colab_type": "text"
      },
      "source": [
        "<a href=\"https://colab.research.google.com/github/AarnoStormborn/Tensorflow-Developer-Certification/blob/main/03_tensorflow_computer_vision.ipynb\" target=\"_parent\"><img src=\"https://colab.research.google.com/assets/colab-badge.svg\" alt=\"Open In Colab\"/></a>"
      ]
    },
    {
      "cell_type": "code",
      "source": [
        "!nvidia-smi"
      ],
      "metadata": {
        "id": "sj7_8CCQvata",
        "outputId": "16b16110-1e1f-41a9-98f0-c279b71b7e41",
        "colab": {
          "base_uri": "https://localhost:8080/"
        }
      },
      "execution_count": null,
      "outputs": [
        {
          "output_type": "stream",
          "name": "stdout",
          "text": [
            "Sun Dec 11 16:07:57 2022       \n",
            "+-----------------------------------------------------------------------------+\n",
            "| NVIDIA-SMI 460.32.03    Driver Version: 460.32.03    CUDA Version: 11.2     |\n",
            "|-------------------------------+----------------------+----------------------+\n",
            "| GPU  Name        Persistence-M| Bus-Id        Disp.A | Volatile Uncorr. ECC |\n",
            "| Fan  Temp  Perf  Pwr:Usage/Cap|         Memory-Usage | GPU-Util  Compute M. |\n",
            "|                               |                      |               MIG M. |\n",
            "|===============================+======================+======================|\n",
            "|   0  Tesla T4            Off  | 00000000:00:04.0 Off |                    0 |\n",
            "| N/A   49C    P0    27W /  70W |      0MiB / 15109MiB |      0%      Default |\n",
            "|                               |                      |                  N/A |\n",
            "+-------------------------------+----------------------+----------------------+\n",
            "                                                                               \n",
            "+-----------------------------------------------------------------------------+\n",
            "| Processes:                                                                  |\n",
            "|  GPU   GI   CI        PID   Type   Process name                  GPU Memory |\n",
            "|        ID   ID                                                   Usage      |\n",
            "|=============================================================================|\n",
            "|  No running processes found                                                 |\n",
            "+-----------------------------------------------------------------------------+\n"
          ]
        }
      ]
    },
    {
      "cell_type": "code",
      "execution_count": null,
      "metadata": {
        "colab": {
          "base_uri": "https://localhost:8080/"
        },
        "id": "IpUAP-m8qDQg",
        "outputId": "87c2e48f-22b5-43bc-c41c-974fed464c60"
      },
      "outputs": [
        {
          "output_type": "stream",
          "name": "stdout",
          "text": [
            "2.9.2\n"
          ]
        }
      ],
      "source": [
        "import tensorflow as tf\n",
        "print(tf.__version__)"
      ]
    },
    {
      "cell_type": "markdown",
      "metadata": {
        "id": "sqM8BwNwf5To"
      },
      "source": [
        "# Computer Vision with Tensorflow"
      ]
    },
    {
      "cell_type": "markdown",
      "metadata": {
        "id": "0eC3_IbsqM1s"
      },
      "source": [
        "## Get the data from Github"
      ]
    },
    {
      "cell_type": "code",
      "execution_count": null,
      "metadata": {
        "colab": {
          "base_uri": "https://localhost:8080/"
        },
        "id": "572dCMTfj6tf",
        "outputId": "4cc002e1-eac1-4c77-fe40-1da7303977b9"
      },
      "outputs": [
        {
          "output_type": "stream",
          "name": "stdout",
          "text": [
            "--2022-12-11 16:07:59--  https://storage.googleapis.com/ztm_tf_course/food_vision/pizza_steak.zip\n",
            "Resolving storage.googleapis.com (storage.googleapis.com)... 142.251.12.128, 74.125.200.128, 74.125.68.128, ...\n",
            "Connecting to storage.googleapis.com (storage.googleapis.com)|142.251.12.128|:443... connected.\n",
            "HTTP request sent, awaiting response... 200 OK\n",
            "Length: 109540975 (104M) [application/zip]\n",
            "Saving to: ‘pizza_steak.zip’\n",
            "\n",
            "pizza_steak.zip     100%[===================>] 104.47M  24.0MB/s    in 5.4s    \n",
            "\n",
            "2022-12-11 16:08:06 (19.2 MB/s) - ‘pizza_steak.zip’ saved [109540975/109540975]\n",
            "\n"
          ]
        }
      ],
      "source": [
        "import zipfile\n",
        "\n",
        "!wget https://storage.googleapis.com/ztm_tf_course/food_vision/pizza_steak.zip\n",
        "\n",
        "# Unzip the file\n",
        "zip_ref = zipfile.ZipFile(\"pizza_steak.zip\")\n",
        "zip_ref.extractall()\n",
        "zip_ref.close()"
      ]
    },
    {
      "cell_type": "markdown",
      "metadata": {
        "id": "6FwKnWSxkScO"
      },
      "source": [
        "## Inspect the Data"
      ]
    },
    {
      "cell_type": "code",
      "execution_count": null,
      "metadata": {
        "colab": {
          "base_uri": "https://localhost:8080/"
        },
        "id": "tZBGB-Ssn25X",
        "outputId": "ee99a325-1c89-45cd-fedd-09bbc4f8200f"
      },
      "outputs": [
        {
          "output_type": "stream",
          "name": "stdout",
          "text": [
            "test  train\n"
          ]
        }
      ],
      "source": [
        "!ls pizza_steak"
      ]
    },
    {
      "cell_type": "code",
      "execution_count": null,
      "metadata": {
        "colab": {
          "base_uri": "https://localhost:8080/"
        },
        "id": "H18DOgl3oZWk",
        "outputId": "db5b5958-2c2d-4791-93c3-fe955f1887eb"
      },
      "outputs": [
        {
          "output_type": "stream",
          "name": "stdout",
          "text": [
            "1000205.jpg  1647351.jpg  2238681.jpg  2824680.jpg  3375959.jpg  417368.jpg\n",
            "100135.jpg   1650002.jpg  2238802.jpg  2825100.jpg  3381560.jpg  4176.jpg\n",
            "101312.jpg   165639.jpg   2254705.jpg  2826987.jpg  3382936.jpg  42125.jpg\n",
            "1021458.jpg  1658186.jpg  225990.jpg   2832499.jpg  3386119.jpg  421476.jpg\n",
            "1032846.jpg  1658443.jpg  2260231.jpg  2832960.jpg  3388717.jpg  421561.jpg\n",
            "10380.jpg    165964.jpg   2268692.jpg  285045.jpg   3389138.jpg  438871.jpg\n",
            "1049459.jpg  167069.jpg   2271133.jpg  285147.jpg   3393547.jpg  43924.jpg\n",
            "1053665.jpg  1675632.jpg  227576.jpg   2855315.jpg  3393688.jpg  440188.jpg\n",
            "1068516.jpg  1678108.jpg  2283057.jpg  2856066.jpg  3396589.jpg  442757.jpg\n",
            "1068975.jpg  168006.jpg   2286639.jpg  2859933.jpg  339891.jpg\t 443210.jpg\n",
            "1081258.jpg  1682496.jpg  2287136.jpg  286219.jpg   3417789.jpg  444064.jpg\n",
            "1090122.jpg  1684438.jpg  2291292.jpg  2862562.jpg  3425047.jpg  444709.jpg\n",
            "1093966.jpg  168775.jpg   229323.jpg   2865730.jpg  3434983.jpg  447557.jpg\n",
            "1098844.jpg  1697339.jpg  2300534.jpg  2878151.jpg  3435358.jpg  461187.jpg\n",
            "1100074.jpg  1710569.jpg  2300845.jpg  2880035.jpg  3438319.jpg  461689.jpg\n",
            "1105280.jpg  1714605.jpg  231296.jpg   2881783.jpg  3444407.jpg  465494.jpg\n",
            "1117936.jpg  1724387.jpg  2315295.jpg  2884233.jpg  345734.jpg\t 468384.jpg\n",
            "1126126.jpg  1724717.jpg  2323132.jpg  2890573.jpg  3460673.jpg  477486.jpg\n",
            "114601.jpg   172936.jpg   2324994.jpg  2893832.jpg  3465327.jpg  482022.jpg\n",
            "1147047.jpg  1736543.jpg  2327701.jpg  2893892.jpg  3466159.jpg  482465.jpg\n",
            "1147883.jpg  1736968.jpg  2331076.jpg  2907177.jpg  3469024.jpg  483788.jpg\n",
            "1155665.jpg  1746626.jpg  233964.jpg   290850.jpg   3470083.jpg  493029.jpg\n",
            "1163977.jpg  1752330.jpg  2344227.jpg  2909031.jpg  3476564.jpg  503589.jpg\n",
            "1190233.jpg  1761285.jpg  234626.jpg   2910418.jpg  3478318.jpg  510757.jpg\n",
            "1208405.jpg  176508.jpg   234704.jpg   2912290.jpg  3488748.jpg  513129.jpg\n",
            "1209120.jpg  1772039.jpg  2357281.jpg  2916448.jpg  3492328.jpg  513842.jpg\n",
            "1212161.jpg  1777107.jpg  2361812.jpg  2916967.jpg  3518960.jpg  523535.jpg\n",
            "1213988.jpg  1787505.jpg  2365287.jpg  2927833.jpg  3522209.jpg  525041.jpg\n",
            "1219039.jpg  179293.jpg   2374582.jpg  2928643.jpg  3524429.jpg  534560.jpg\n",
            "1225762.jpg  1816235.jpg  239025.jpg   2929179.jpg  3528458.jpg  534633.jpg\n",
            "1230968.jpg  1822407.jpg  2390628.jpg  2936477.jpg  3531805.jpg  536535.jpg\n",
            "1236155.jpg  1823263.jpg  2392910.jpg  2938012.jpg  3536023.jpg  541410.jpg\n",
            "1241193.jpg  1826066.jpg  2394465.jpg  2938151.jpg  3538682.jpg  543691.jpg\n",
            "1248337.jpg  1828502.jpg  2395127.jpg  2939678.jpg  3540750.jpg  560503.jpg\n",
            "1257104.jpg  1828969.jpg  2396291.jpg  2940544.jpg  354329.jpg\t 561972.jpg\n",
            "126345.jpg   1829045.jpg  2400975.jpg  2940621.jpg  3547166.jpg  56240.jpg\n",
            "1264050.jpg  1829088.jpg  2403776.jpg  2949079.jpg  3553911.jpg  56409.jpg\n",
            "1264154.jpg  1836332.jpg  2403907.jpg  295491.jpg   3556871.jpg  564530.jpg\n",
            "1264858.jpg  1839025.jpg  240435.jpg   296268.jpg   355715.jpg\t 568972.jpg\n",
            "127029.jpg   1839481.jpg  2404695.jpg  2964732.jpg  356234.jpg\t 576725.jpg\n",
            "1289900.jpg  183995.jpg   2404884.jpg  2965021.jpg  3571963.jpg  588739.jpg\n",
            "1290362.jpg  184110.jpg   2407770.jpg  2966859.jpg  3576078.jpg  590142.jpg\n",
            "1295457.jpg  184226.jpg   2412263.jpg  2977966.jpg  3577618.jpg  60633.jpg\n",
            "1312841.jpg  1846706.jpg  2425062.jpg  2979061.jpg  3577732.jpg  60655.jpg\n",
            "1313316.jpg  1849364.jpg  2425389.jpg  2983260.jpg  3578934.jpg  606820.jpg\n",
            "1324791.jpg  1849463.jpg  2435316.jpg  2984311.jpg  358042.jpg\t 612551.jpg\n",
            "1327567.jpg  1849542.jpg  2437268.jpg  2988960.jpg  358045.jpg\t 614975.jpg\n",
            "1327667.jpg  1853564.jpg  2437843.jpg  2989882.jpg  3591821.jpg  616809.jpg\n",
            "1333055.jpg  1869467.jpg  2440131.jpg  2995169.jpg  359330.jpg\t 628628.jpg\n",
            "1334054.jpg  1870942.jpg  2443168.jpg  2996324.jpg  3601483.jpg  632427.jpg\n",
            "1335556.jpg  187303.jpg   2446660.jpg  3000131.jpg  3606642.jpg  636594.jpg\n",
            "1337814.jpg  187521.jpg   2455944.jpg  3002350.jpg  3609394.jpg  637374.jpg\n",
            "1340977.jpg  1888450.jpg  2458401.jpg  3007772.jpg  361067.jpg\t 640539.jpg\n",
            "1343209.jpg  1889336.jpg  2487306.jpg  3008192.jpg  3613455.jpg  644777.jpg\n",
            "134369.jpg   1907039.jpg  248841.jpg   3009617.jpg  3621464.jpg  644867.jpg\n",
            "1344105.jpg  1925230.jpg  2489716.jpg  3011642.jpg  3621562.jpg  658189.jpg\n",
            "134598.jpg   1927984.jpg  2490489.jpg  3020591.jpg  3621565.jpg  660900.jpg\n",
            "1346387.jpg  1930577.jpg  2495884.jpg  3030578.jpg  3623556.jpg  663014.jpg\n",
            "1348047.jpg  1937872.jpg  2495903.jpg  3047807.jpg  3640915.jpg  664545.jpg\n",
            "1351372.jpg  1941807.jpg  2499364.jpg  3059843.jpg  3643951.jpg  667075.jpg\n",
            "1362989.jpg  1942333.jpg  2500292.jpg  3074367.jpg  3653129.jpg  669180.jpg\n",
            "1367035.jpg  1945132.jpg  2509017.jpg  3082120.jpg  3656752.jpg  669960.jpg\n",
            "1371177.jpg  1961025.jpg  250978.jpg   3094354.jpg  3663518.jpg  6709.jpg\n",
            "1375640.jpg  1966300.jpg  2514432.jpg  3095301.jpg  3663800.jpg  674001.jpg\n",
            "1382427.jpg  1966967.jpg  2526838.jpg  3099645.jpg  3664376.jpg  676189.jpg\n",
            "1392718.jpg  1969596.jpg  252858.jpg   3100476.jpg  3670607.jpg  681609.jpg\n",
            "1395906.jpg  1971757.jpg  2532239.jpg  3110387.jpg  3671021.jpg  6926.jpg\n",
            "1400760.jpg  1976160.jpg  2534567.jpg  3113772.jpg  3671877.jpg  703556.jpg\n",
            "1403005.jpg  1984271.jpg  2535431.jpg  3116018.jpg  368073.jpg\t 703909.jpg\n",
            "1404770.jpg  1987213.jpg  2535456.jpg  3128952.jpg  368162.jpg\t 704316.jpg\n",
            "140832.jpg   1987639.jpg  2538000.jpg  3130412.jpg  368170.jpg\t 714298.jpg\n",
            "141056.jpg   1995118.jpg  2543081.jpg  3136.jpg     3693649.jpg  720060.jpg\n",
            "141135.jpg   1995252.jpg  2544643.jpg  313851.jpg   3700079.jpg  726083.jpg\n",
            "1413972.jpg  199754.jpg   2547797.jpg  3140083.jpg  3704103.jpg  728020.jpg\n",
            "1421393.jpg  2002400.jpg  2548974.jpg  3140147.jpg  3707493.jpg  732986.jpg\n",
            "1428947.jpg  2011264.jpg  2549316.jpg  3142045.jpg  3716881.jpg  734445.jpg\n",
            "1433912.jpg  2012996.jpg  2561199.jpg  3142618.jpg  3724677.jpg  735441.jpg\n",
            "143490.jpg   2013535.jpg  2563233.jpg  3142674.jpg  3727036.jpg  740090.jpg\n",
            "1445352.jpg  2017387.jpg  256592.jpg   3143192.jpg  3727491.jpg  745189.jpg\n",
            "1446401.jpg  2018173.jpg  2568848.jpg  314359.jpg   3736065.jpg  752203.jpg\n",
            "1453991.jpg  2020613.jpg  2573392.jpg  3157832.jpg  37384.jpg\t 75537.jpg\n",
            "1456841.jpg  2032669.jpg  2592401.jpg  3159818.jpg  3743286.jpg  756655.jpg\n",
            "146833.jpg   203450.jpg   2599817.jpg  3162376.jpg  3745515.jpg  762210.jpg\n",
            "1476404.jpg  2034628.jpg  2603058.jpg  3168620.jpg  3750472.jpg  763690.jpg\n",
            "1485083.jpg  2036920.jpg  2606444.jpg  3171085.jpg  3752362.jpg  767442.jpg\n",
            "1487113.jpg  2038418.jpg  2614189.jpg  317206.jpg   3766099.jpg  786409.jpg\n",
            "148916.jpg   2042975.jpg  2614649.jpg  3173444.jpg  3770370.jpg  80215.jpg\n",
            "149087.jpg   2045647.jpg  2615718.jpg  3180182.jpg  377190.jpg\t 802348.jpg\n",
            "1493169.jpg  2050584.jpg  2619625.jpg  31881.jpg    3777020.jpg  804684.jpg\n",
            "149682.jpg   2052542.jpg  2622140.jpg  3191589.jpg  3777482.jpg  812163.jpg\n",
            "1508094.jpg  2056627.jpg  262321.jpg   3204977.jpg  3781152.jpg  813486.jpg\n",
            "1512226.jpg  2062248.jpg  2625330.jpg  320658.jpg   3787809.jpg  819027.jpg\n",
            "1512347.jpg  2081995.jpg  2628106.jpg  3209173.jpg  3788729.jpg  822550.jpg\n",
            "1524526.jpg  2087958.jpg  2629750.jpg  3223400.jpg  3790962.jpg  823766.jpg\n",
            "1530833.jpg  2088030.jpg  2643906.jpg  3223601.jpg  3792514.jpg  827764.jpg\n",
            "1539499.jpg  2088195.jpg  2644457.jpg  3241894.jpg  379737.jpg\t 830007.jpg\n",
            "1541672.jpg  2090493.jpg  2648423.jpg  3245533.jpg  3807440.jpg  838344.jpg\n",
            "1548239.jpg  2090504.jpg  2651300.jpg  3245622.jpg  381162.jpg\t 853327.jpg\n",
            "1550997.jpg  2125877.jpg  2653594.jpg  3247009.jpg  3812039.jpg  854150.jpg\n",
            "1552530.jpg  2129685.jpg  2661577.jpg  3253588.jpg  3829392.jpg  864997.jpg\n",
            "15580.jpg    2133717.jpg  2668916.jpg  3260624.jpg  3830872.jpg  885571.jpg\n",
            "1559052.jpg  2136662.jpg  268444.jpg   326587.jpg   38442.jpg\t 907107.jpg\n",
            "1563266.jpg  213765.jpg   2691461.jpg  32693.jpg    3855584.jpg  908261.jpg\n",
            "1567554.jpg  2138335.jpg  2706403.jpg  3271253.jpg  3857508.jpg  910672.jpg\n",
            "1575322.jpg  2140776.jpg  270687.jpg   3274423.jpg  386335.jpg\t 911803.jpg\n",
            "1588879.jpg  214320.jpg   2707522.jpg  3280453.jpg  3867460.jpg  91432.jpg\n",
            "1594719.jpg  2146963.jpg  2711806.jpg  3298495.jpg  3868959.jpg  914570.jpg\n",
            "1595869.jpg  215222.jpg   2716993.jpg  330182.jpg   3869679.jpg  922752.jpg\n",
            "1598345.jpg  2154126.jpg  2724554.jpg  3306627.jpg  388776.jpg\t 923772.jpg\n",
            "1598885.jpg  2154779.jpg  2738227.jpg  3315727.jpg  3890465.jpg  926414.jpg\n",
            "1600179.jpg  2159975.jpg  2748917.jpg  331860.jpg   3894222.jpg  931356.jpg\n",
            "1600794.jpg  2163079.jpg  2760475.jpg  332232.jpg   3895825.jpg  937133.jpg\n",
            "160552.jpg   217250.jpg   2761427.jpg  3322909.jpg  389739.jpg\t 945791.jpg\n",
            "1606596.jpg  2172600.jpg  2765887.jpg  332557.jpg   3916407.jpg  947877.jpg\n",
            "1615395.jpg  2173084.jpg  2768451.jpg  3326734.jpg  393349.jpg\t 952407.jpg\n",
            "1618011.jpg  217996.jpg   2771149.jpg  3330642.jpg  393494.jpg\t 952437.jpg\n",
            "1619357.jpg  2193684.jpg  2779040.jpg  3333128.jpg  398288.jpg\t 955466.jpg\n",
            "1621763.jpg  220341.jpg   2788312.jpg  3333735.jpg  40094.jpg\t 9555.jpg\n",
            "1623325.jpg  22080.jpg\t  2788759.jpg  3334973.jpg  401094.jpg\t 961341.jpg\n",
            "1624450.jpg  2216146.jpg  2796102.jpg  3335013.jpg  401144.jpg\t 97656.jpg\n",
            "1624747.jpg  2222018.jpg  280284.jpg   3335267.jpg  401651.jpg\t 979110.jpg\n",
            "1628861.jpg  2223787.jpg  2807888.jpg  3346787.jpg  405173.jpg\t 980247.jpg\n",
            "1632774.jpg  2230959.jpg  2815172.jpg  3364420.jpg  405794.jpg\t 982988.jpg\n",
            "1636831.jpg  2232310.jpg  2818805.jpg  336637.jpg   40762.jpg\t 987732.jpg\n",
            "1645470.jpg  2233395.jpg  2823872.jpg  3372616.jpg  413325.jpg\t 996684.jpg\n"
          ]
        }
      ],
      "source": [
        "!ls pizza_steak/train/steak"
      ]
    },
    {
      "cell_type": "code",
      "execution_count": null,
      "metadata": {
        "colab": {
          "base_uri": "https://localhost:8080/"
        },
        "id": "aTh81s3QofAm",
        "outputId": "f1cc33f4-d1b4-4ac8-d970-5a57418ea233"
      },
      "outputs": [
        {
          "output_type": "stream",
          "name": "stdout",
          "text": [
            "0 images in pizza_steak\n",
            "0 images in pizza_steak/test\n",
            "250 images in pizza_steak/test/pizza\n",
            "250 images in pizza_steak/test/steak\n",
            "0 images in pizza_steak/train\n",
            "750 images in pizza_steak/train/pizza\n",
            "750 images in pizza_steak/train/steak\n"
          ]
        }
      ],
      "source": [
        "import os\n",
        "\n",
        "for dirpath,dirnames,filenames in os.walk(\"pizza_steak\"):\n",
        "    print(f\"{len(filenames)} images in {dirpath}\")"
      ]
    },
    {
      "cell_type": "code",
      "execution_count": null,
      "metadata": {
        "colab": {
          "base_uri": "https://localhost:8080/"
        },
        "id": "8R-g6UHxqtFi",
        "outputId": "3c7094e9-c605-4a92-bfdc-4e8291af3105"
      },
      "outputs": [
        {
          "output_type": "stream",
          "name": "stdout",
          "text": [
            "['pizza' 'steak']\n"
          ]
        }
      ],
      "source": [
        "import pathlib \n",
        "import numpy as np\n",
        "\n",
        "data_dir = pathlib.Path(\"pizza_steak/train\")\n",
        "classes = np.array(sorted([item.name for item in data_dir.glob(\"*\")]))\n",
        "print(classes)"
      ]
    },
    {
      "cell_type": "code",
      "execution_count": null,
      "metadata": {
        "id": "EZe-vevrtAAc"
      },
      "outputs": [],
      "source": [
        "# Visualize the data\n",
        "\n",
        "import matplotlib.pyplot as plt\n",
        "import matplotlib.image as mpimg\n",
        "import random\n",
        "\n",
        "def view_random_image(target_dir, target_class):\n",
        "    # target folder is directory plus class name\n",
        "    target_folder = target_dir + \"/\" + target_class\n",
        "\n",
        "    # Randomly sample an image from the target folder\n",
        "    random_image = random.sample(os.listdir(target_folder), 1)\n",
        "\n",
        "    # Read image\n",
        "    img = mpimg.imread(target_folder + \"/\" + random_image[0])\n",
        "    plt.imshow(img)\n",
        "    plt.title(target_class)\n",
        "    plt.axis('off')\n",
        "\n",
        "    print(f\"Image shape: {img.shape}\")\n",
        "\n",
        "    return img"
      ]
    },
    {
      "cell_type": "code",
      "execution_count": null,
      "metadata": {
        "colab": {
          "base_uri": "https://localhost:8080/",
          "height": 281
        },
        "id": "jfAaEHM2u1ql",
        "outputId": "6f456a16-63bb-4d60-819f-3b1c70ac35b0"
      },
      "outputs": [
        {
          "output_type": "stream",
          "name": "stdout",
          "text": [
            "Image shape: (509, 512, 3)\n"
          ]
        },
        {
          "output_type": "display_data",
          "data": {
            "text/plain": [
              "<Figure size 432x288 with 1 Axes>"
            ],
            "image/png": "[encoded data removed]"
          },
          "metadata": {
            "needs_background": "light"
          }
        }
      ],
      "source": [
        "img = view_random_image(target_dir='pizza_steak/train',\n",
        "                  target_class='pizza')"
      ]
    },
    {
      "cell_type": "code",
      "execution_count": null,
      "metadata": {
        "colab": {
          "base_uri": "https://localhost:8080/"
        },
        "id": "tqEy45zAu_1s",
        "outputId": "9c6e8213-fa90-4852-a24d-a962cc60ab04"
      },
      "outputs": [
        {
          "output_type": "execute_result",
          "data": {
            "text/plain": [
              "(array([[[  1,   1,   1],\n",
              "         [  1,   1,   1],\n",
              "         [  1,   1,   1],\n",
              "         ...,\n",
              "         [ 85,  48,  21],\n",
              "         [ 84,  47,  20],\n",
              "         [ 84,  47,  20]],\n",
              " \n",
              "        [[  1,   1,   1],\n",
              "         [  1,   1,   1],\n",
              "         [  1,   1,   1],\n",
              "         ...,\n",
              "         [ 85,  48,  21],\n",
              "         [ 85,  48,  21],\n",
              "         [ 85,  48,  21]],\n",
              " \n",
              "        [[  1,   1,   1],\n",
              "         [  1,   1,   1],\n",
              "         [  1,   1,   1],\n",
              "         ...,\n",
              "         [ 85,  48,  21],\n",
              "         [ 86,  49,  22],\n",
              "         [ 86,  49,  22]],\n",
              " \n",
              "        ...,\n",
              " \n",
              "        [[100,  60,  25],\n",
              "         [101,  61,  26],\n",
              "         [105,  62,  28],\n",
              "         ...,\n",
              "         [  2,   0,   1],\n",
              "         [  2,   0,   1],\n",
              "         [  2,   0,   1]],\n",
              " \n",
              "        [[101,  61,  25],\n",
              "         [102,  62,  26],\n",
              "         [106,  63,  29],\n",
              "         ...,\n",
              "         [  2,   0,   3],\n",
              "         [  2,   0,   3],\n",
              "         [  2,   0,   3]],\n",
              " \n",
              "        [[100,  60,  24],\n",
              "         [103,  60,  25],\n",
              "         [106,  63,  28],\n",
              "         ...,\n",
              "         [  2,   0,   3],\n",
              "         [  2,   0,   3],\n",
              "         [  2,   0,   3]]], dtype=uint8), dtype('uint8'))"
            ]
          },
          "metadata": {},
          "execution_count": 10
        }
      ],
      "source": [
        "img, img.dtype"
      ]
    },
    {
      "cell_type": "code",
      "execution_count": null,
      "metadata": {
        "colab": {
          "base_uri": "https://localhost:8080/"
        },
        "id": "u642Lu5GQt2B",
        "outputId": "b59348c3-28f0-41e9-dd0f-6b23e98171c4"
      },
      "outputs": [
        {
          "output_type": "execute_result",
          "data": {
            "text/plain": [
              "<tf.Tensor: shape=(509, 512, 3), dtype=uint8, numpy=\n",
              "array([[[  1,   1,   1],\n",
              "        [  1,   1,   1],\n",
              "        [  1,   1,   1],\n",
              "        ...,\n",
              "        [ 85,  48,  21],\n",
              "        [ 84,  47,  20],\n",
              "        [ 84,  47,  20]],\n",
              "\n",
              "       [[  1,   1,   1],\n",
              "        [  1,   1,   1],\n",
              "        [  1,   1,   1],\n",
              "        ...,\n",
              "        [ 85,  48,  21],\n",
              "        [ 85,  48,  21],\n",
              "        [ 85,  48,  21]],\n",
              "\n",
              "       [[  1,   1,   1],\n",
              "        [  1,   1,   1],\n",
              "        [  1,   1,   1],\n",
              "        ...,\n",
              "        [ 85,  48,  21],\n",
              "        [ 86,  49,  22],\n",
              "        [ 86,  49,  22]],\n",
              "\n",
              "       ...,\n",
              "\n",
              "       [[100,  60,  25],\n",
              "        [101,  61,  26],\n",
              "        [105,  62,  28],\n",
              "        ...,\n",
              "        [  2,   0,   1],\n",
              "        [  2,   0,   1],\n",
              "        [  2,   0,   1]],\n",
              "\n",
              "       [[101,  61,  25],\n",
              "        [102,  62,  26],\n",
              "        [106,  63,  29],\n",
              "        ...,\n",
              "        [  2,   0,   3],\n",
              "        [  2,   0,   3],\n",
              "        [  2,   0,   3]],\n",
              "\n",
              "       [[100,  60,  24],\n",
              "        [103,  60,  25],\n",
              "        [106,  63,  28],\n",
              "        ...,\n",
              "        [  2,   0,   3],\n",
              "        [  2,   0,   3],\n",
              "        [  2,   0,   3]]], dtype=uint8)>"
            ]
          },
          "metadata": {},
          "execution_count": 11
        }
      ],
      "source": [
        "tf.constant(img)"
      ]
    },
    {
      "cell_type": "markdown",
      "metadata": {
        "id": "fq1ON3STRXS7"
      },
      "source": [
        "## Normalizing the Image data"
      ]
    },
    {
      "cell_type": "code",
      "execution_count": null,
      "metadata": {
        "colab": {
          "base_uri": "https://localhost:8080/"
        },
        "id": "4FMq5tf1QxCh",
        "outputId": "ec1bced7-91c3-4278-acf8-4eb37583edbb"
      },
      "outputs": [
        {
          "output_type": "execute_result",
          "data": {
            "text/plain": [
              "array([[[0.00392157, 0.00392157, 0.00392157],\n",
              "        [0.00392157, 0.00392157, 0.00392157],\n",
              "        [0.00392157, 0.00392157, 0.00392157],\n",
              "        ...,\n",
              "        [0.33333333, 0.18823529, 0.08235294],\n",
              "        [0.32941176, 0.18431373, 0.07843137],\n",
              "        [0.32941176, 0.18431373, 0.07843137]],\n",
              "\n",
              "       [[0.00392157, 0.00392157, 0.00392157],\n",
              "        [0.00392157, 0.00392157, 0.00392157],\n",
              "        [0.00392157, 0.00392157, 0.00392157],\n",
              "        ...,\n",
              "        [0.33333333, 0.18823529, 0.08235294],\n",
              "        [0.33333333, 0.18823529, 0.08235294],\n",
              "        [0.33333333, 0.18823529, 0.08235294]],\n",
              "\n",
              "       [[0.00392157, 0.00392157, 0.00392157],\n",
              "        [0.00392157, 0.00392157, 0.00392157],\n",
              "        [0.00392157, 0.00392157, 0.00392157],\n",
              "        ...,\n",
              "        [0.33333333, 0.18823529, 0.08235294],\n",
              "        [0.3372549 , 0.19215686, 0.08627451],\n",
              "        [0.3372549 , 0.19215686, 0.08627451]],\n",
              "\n",
              "       ...,\n",
              "\n",
              "       [[0.39215686, 0.23529412, 0.09803922],\n",
              "        [0.39607843, 0.23921569, 0.10196078],\n",
              "        [0.41176471, 0.24313725, 0.10980392],\n",
              "        ...,\n",
              "        [0.00784314, 0.        , 0.00392157],\n",
              "        [0.00784314, 0.        , 0.00392157],\n",
              "        [0.00784314, 0.        , 0.00392157]],\n",
              "\n",
              "       [[0.39607843, 0.23921569, 0.09803922],\n",
              "        [0.4       , 0.24313725, 0.10196078],\n",
              "        [0.41568627, 0.24705882, 0.11372549],\n",
              "        ...,\n",
              "        [0.00784314, 0.        , 0.01176471],\n",
              "        [0.00784314, 0.        , 0.01176471],\n",
              "        [0.00784314, 0.        , 0.01176471]],\n",
              "\n",
              "       [[0.39215686, 0.23529412, 0.09411765],\n",
              "        [0.40392157, 0.23529412, 0.09803922],\n",
              "        [0.41568627, 0.24705882, 0.10980392],\n",
              "        ...,\n",
              "        [0.00784314, 0.        , 0.01176471],\n",
              "        [0.00784314, 0.        , 0.01176471],\n",
              "        [0.00784314, 0.        , 0.01176471]]])"
            ]
          },
          "metadata": {},
          "execution_count": 12
        }
      ],
      "source": [
        "img/255."
      ]
    },
    {
      "cell_type": "markdown",
      "metadata": {
        "id": "S70Rs2J3TOBj"
      },
      "source": [
        "## An end-to-end example\n",
        "\n",
        "* Load our images\n",
        "* Preprocess our images\n",
        "* Build a CNN model\n",
        "* Compile the CNN \n",
        "* Fit the CNN to our training data and evaluation "
      ]
    },
    {
      "cell_type": "code",
      "execution_count": null,
      "metadata": {
        "colab": {
          "base_uri": "https://localhost:8080/"
        },
        "id": "hyMcKIM3Wq2Y",
        "outputId": "ebd554f0-c330-47df-f272-c0405451c6a6"
      },
      "outputs": [
        {
          "output_type": "stream",
          "name": "stdout",
          "text": [
            "Found 1500 images belonging to 2 classes.\n",
            "Found 500 images belonging to 2 classes.\n",
            "Epoch 1/10\n",
            "47/47 [==============================] - 20s 220ms/step - loss: 0.6413 - accuracy: 0.6200 - val_loss: 0.4246 - val_accuracy: 0.8160\n",
            "Epoch 2/10\n",
            "47/47 [==============================] - 9s 200ms/step - loss: 0.4719 - accuracy: 0.7947 - val_loss: 0.3827 - val_accuracy: 0.8720\n",
            "Epoch 3/10\n",
            "47/47 [==============================] - 9s 201ms/step - loss: 0.4335 - accuracy: 0.8067 - val_loss: 0.3508 - val_accuracy: 0.8400\n",
            "Epoch 4/10\n",
            "47/47 [==============================] - 9s 201ms/step - loss: 0.3852 - accuracy: 0.8340 - val_loss: 0.3291 - val_accuracy: 0.8800\n",
            "Epoch 5/10\n",
            "47/47 [==============================] - 9s 200ms/step - loss: 0.3351 - accuracy: 0.8700 - val_loss: 0.3165 - val_accuracy: 0.8620\n",
            "Epoch 6/10\n",
            "47/47 [==============================] - 9s 201ms/step - loss: 0.3271 - accuracy: 0.8687 - val_loss: 0.2959 - val_accuracy: 0.8780\n",
            "Epoch 7/10\n",
            "47/47 [==============================] - 9s 201ms/step - loss: 0.2822 - accuracy: 0.8913 - val_loss: 0.2903 - val_accuracy: 0.8900\n",
            "Epoch 8/10\n",
            "47/47 [==============================] - 9s 200ms/step - loss: 0.2316 - accuracy: 0.9120 - val_loss: 0.3336 - val_accuracy: 0.8720\n",
            "Epoch 9/10\n",
            "47/47 [==============================] - 9s 199ms/step - loss: 0.1802 - accuracy: 0.9387 - val_loss: 0.3358 - val_accuracy: 0.8620\n",
            "Epoch 10/10\n",
            "47/47 [==============================] - 9s 200ms/step - loss: 0.1468 - accuracy: 0.9447 - val_loss: 0.3716 - val_accuracy: 0.8660\n"
          ]
        }
      ],
      "source": [
        "# fresh imports\n",
        "import tensorflow as tf\n",
        "from tensorflow.keras.preprocessing.image import ImageDataGenerator as IDG\n",
        "\n",
        "# set random seed\n",
        "tf.random.set_seed(40)\n",
        "\n",
        "# Preprocess data -> Normalization\n",
        "train_datagen = IDG(rescale=1./255)\n",
        "valid_datagen = IDG(rescale=1./255)\n",
        "\n",
        "# Setup paths to our directories\n",
        "train_dir = \"pizza_steak/train\"\n",
        "valid_dir = \"pizza_steak/test\"\n",
        "\n",
        "# Import data from directories and turn it into batches\n",
        "train_data = train_datagen.flow_from_directory(directory=train_dir,\n",
        "                                               batch_size=32,\n",
        "                                               target_size=(256,256),\n",
        "                                               class_mode=\"binary\",\n",
        "                                               seed=40)\n",
        "\n",
        "valid_data = valid_datagen.flow_from_directory(directory=valid_dir,\n",
        "                                              batch_size=32,\n",
        "                                              target_size=(256,256),\n",
        "                                              class_mode=\"binary\",\n",
        "                                              seed=40)\n",
        "\n",
        "# Build a CNN model\n",
        "model_1 = tf.keras.models.Sequential([\n",
        "    tf.keras.layers.Conv2D(filters=10,\n",
        "                           kernel_size=3,\n",
        "                           activation='relu',\n",
        "                           input_shape=(256,256,3)),\n",
        "    tf.keras.layers.Conv2D(10,3,activation='relu'),\n",
        "    tf.keras.layers.MaxPool2D(pool_size=2,\n",
        "                              padding='valid'),\n",
        "    tf.keras.layers.Conv2D(10,3,activation='relu'),\n",
        "    tf.keras.layers.Conv2D(10,3,activation='relu'),\n",
        "    tf.keras.layers.MaxPool2D(2),\n",
        "    tf.keras.layers.Flatten(),\n",
        "    tf.keras.layers.Dense(1, activation='sigmoid')\n",
        "])\n",
        "\n",
        "# Compile the model\n",
        "model_1.compile(loss=tf.keras.losses.BinaryCrossentropy(),\n",
        "              optimizer=tf.keras.optimizers.Adam(),\n",
        "              metrics=[\"accuracy\"])\n",
        "\n",
        "# Fit the model\n",
        "history_1 = model_1.fit(train_data, \n",
        "                        epochs=10,\n",
        "                        steps_per_epoch=len(train_data),\n",
        "                        validation_data=valid_data,\n",
        "                        validation_steps=len(valid_data))"
      ]
    },
    {
      "cell_type": "markdown",
      "metadata": {
        "id": "8csXxeRLbJn5"
      },
      "source": [
        "## Speed up training - Use a GPU\n",
        "\n",
        "It took **159s** for just one epoch of training. To speed up the process, we use the GPUs provided by Google Colab"
      ]
    },
    {
      "cell_type": "code",
      "execution_count": null,
      "metadata": {
        "colab": {
          "base_uri": "https://localhost:8080/"
        },
        "id": "yzsJ2Y3_XWb7",
        "outputId": "01948395-30b5-4287-c6ce-b79f27b12b39"
      },
      "outputs": [
        {
          "output_type": "stream",
          "name": "stdout",
          "text": [
            "Model: \"sequential\"\n",
            "_________________________________________________________________\n",
            " Layer (type)                Output Shape              Param #   \n",
            "=================================================================\n",
            " conv2d (Conv2D)             (None, 254, 254, 10)      280       \n",
            "                                                                 \n",
            " conv2d_1 (Conv2D)           (None, 252, 252, 10)      910       \n",
            "                                                                 \n",
            " max_pooling2d (MaxPooling2D  (None, 126, 126, 10)     0         \n",
            " )                                                               \n",
            "                                                                 \n",
            " conv2d_2 (Conv2D)           (None, 124, 124, 10)      910       \n",
            "                                                                 \n",
            " conv2d_3 (Conv2D)           (None, 122, 122, 10)      910       \n",
            "                                                                 \n",
            " max_pooling2d_1 (MaxPooling  (None, 61, 61, 10)       0         \n",
            " 2D)                                                             \n",
            "                                                                 \n",
            " flatten (Flatten)           (None, 37210)             0         \n",
            "                                                                 \n",
            " dense (Dense)               (None, 1)                 37211     \n",
            "                                                                 \n",
            "=================================================================\n",
            "Total params: 40,221\n",
            "Trainable params: 40,221\n",
            "Non-trainable params: 0\n",
            "_________________________________________________________________\n"
          ]
        }
      ],
      "source": [
        "model_1.summary()"
      ]
    },
    {
      "cell_type": "markdown",
      "metadata": {
        "id": "yRqqWTF8pG2b"
      },
      "source": [
        "## Use an ANN for the same data - Experimentation"
      ]
    },
    {
      "cell_type": "code",
      "execution_count": null,
      "metadata": {
        "colab": {
          "base_uri": "https://localhost:8080/"
        },
        "id": "ZKGwnZGlinjv",
        "outputId": "d268cde5-49fe-4b2f-a477-8fbccefb95f9"
      },
      "outputs": [
        {
          "output_type": "stream",
          "name": "stdout",
          "text": [
            "Epoch 1/10\n",
            "47/47 [==============================] - 9s 189ms/step - loss: 1.4588 - accuracy: 0.6727 - val_loss: 1.2466 - val_accuracy: 0.5800\n",
            "Epoch 2/10\n",
            "47/47 [==============================] - 9s 183ms/step - loss: 0.8888 - accuracy: 0.6813 - val_loss: 0.7686 - val_accuracy: 0.7380\n",
            "Epoch 3/10\n",
            "47/47 [==============================] - 9s 183ms/step - loss: 0.9328 - accuracy: 0.7287 - val_loss: 1.3207 - val_accuracy: 0.6820\n",
            "Epoch 4/10\n",
            "47/47 [==============================] - 9s 183ms/step - loss: 0.6584 - accuracy: 0.7640 - val_loss: 1.2273 - val_accuracy: 0.5740\n",
            "Epoch 5/10\n",
            "47/47 [==============================] - 9s 183ms/step - loss: 0.7024 - accuracy: 0.7680 - val_loss: 0.8476 - val_accuracy: 0.6720\n",
            "Epoch 6/10\n",
            "47/47 [==============================] - 9s 182ms/step - loss: 0.3624 - accuracy: 0.8493 - val_loss: 0.9110 - val_accuracy: 0.6460\n",
            "Epoch 7/10\n",
            "47/47 [==============================] - 9s 183ms/step - loss: 0.3714 - accuracy: 0.8493 - val_loss: 0.5597 - val_accuracy: 0.7740\n",
            "Epoch 8/10\n",
            "47/47 [==============================] - 9s 184ms/step - loss: 0.5476 - accuracy: 0.8013 - val_loss: 0.5520 - val_accuracy: 0.7920\n",
            "Epoch 9/10\n",
            "47/47 [==============================] - 9s 184ms/step - loss: 0.5701 - accuracy: 0.7927 - val_loss: 1.0461 - val_accuracy: 0.6800\n",
            "Epoch 10/10\n",
            "47/47 [==============================] - 9s 196ms/step - loss: 0.4614 - accuracy: 0.8153 - val_loss: 0.5703 - val_accuracy: 0.7680\n"
          ]
        },
        {
          "output_type": "execute_result",
          "data": {
            "text/plain": [
              "<keras.callbacks.History at 0x7f487c3a0670>"
            ]
          },
          "metadata": {},
          "execution_count": 15
        }
      ],
      "source": [
        "# Set random seed\n",
        "tf.random.set_seed(40)\n",
        "\n",
        "# Define the Model\n",
        "model_2 = tf.keras.models.Sequential([\n",
        "    tf.keras.layers.Flatten(),\n",
        "    tf.keras.layers.Dense(4, activation='relu'),\n",
        "    tf.keras.layers.Dense(4, activation='relu'),\n",
        "    tf.keras.layers.Dense(1, activation='sigmoid')\n",
        "])\n",
        "\n",
        "# Compile the model\n",
        "model_2.compile(loss=tf.keras.losses.BinaryCrossentropy(),\n",
        "                optimizer=tf.keras.optimizers.Adam(learning_rate=0.001),\n",
        "                metrics=['accuracy'])\n",
        "\n",
        "# Fit the model\n",
        "model_2.fit(train_data,\n",
        "            epochs=10,\n",
        "            steps_per_epoch=len(train_data),\n",
        "            validation_data=valid_data,\n",
        "            validation_steps=len(valid_data))"
      ]
    },
    {
      "cell_type": "code",
      "execution_count": null,
      "metadata": {
        "id": "MRvW6vpBrOss",
        "colab": {
          "base_uri": "https://localhost:8080/"
        },
        "outputId": "f1a45d58-3492-4cc0-80cc-0c010625b808"
      },
      "outputs": [
        {
          "output_type": "stream",
          "name": "stdout",
          "text": [
            "Model: \"sequential_1\"\n",
            "_________________________________________________________________\n",
            " Layer (type)                Output Shape              Param #   \n",
            "=================================================================\n",
            " flatten_1 (Flatten)         (None, None)              0         \n",
            "                                                                 \n",
            " dense_1 (Dense)             (None, 4)                 786436    \n",
            "                                                                 \n",
            " dense_2 (Dense)             (None, 4)                 20        \n",
            "                                                                 \n",
            " dense_3 (Dense)             (None, 1)                 5         \n",
            "                                                                 \n",
            "=================================================================\n",
            "Total params: 786,461\n",
            "Trainable params: 786,461\n",
            "Non-trainable params: 0\n",
            "_________________________________________________________________\n"
          ]
        }
      ],
      "source": [
        "model_2.summary()"
      ]
    },
    {
      "cell_type": "code",
      "execution_count": null,
      "metadata": {
        "id": "E7lvaki9sUia",
        "outputId": "7fa16c8a-ceea-48e9-9d8e-81bf8cfdbf77",
        "colab": {
          "base_uri": "https://localhost:8080/"
        }
      },
      "outputs": [
        {
          "output_type": "stream",
          "name": "stdout",
          "text": [
            "Epoch 1/10\n",
            "47/47 [==============================] - 9s 189ms/step - loss: 3.5809 - accuracy: 0.6773 - val_loss: 0.7604 - val_accuracy: 0.7460\n",
            "Epoch 2/10\n",
            "47/47 [==============================] - 8s 181ms/step - loss: 0.6377 - accuracy: 0.7387 - val_loss: 1.7399 - val_accuracy: 0.5200\n",
            "Epoch 3/10\n",
            "47/47 [==============================] - 9s 182ms/step - loss: 0.7940 - accuracy: 0.7227 - val_loss: 0.6118 - val_accuracy: 0.7660\n",
            "Epoch 4/10\n",
            "47/47 [==============================] - 8s 181ms/step - loss: 0.6668 - accuracy: 0.7620 - val_loss: 0.6850 - val_accuracy: 0.7620\n",
            "Epoch 5/10\n",
            "47/47 [==============================] - 9s 182ms/step - loss: 0.5512 - accuracy: 0.7793 - val_loss: 0.6390 - val_accuracy: 0.7380\n",
            "Epoch 6/10\n",
            "47/47 [==============================] - 9s 182ms/step - loss: 0.6328 - accuracy: 0.7680 - val_loss: 1.0271 - val_accuracy: 0.6540\n",
            "Epoch 7/10\n",
            "47/47 [==============================] - 9s 183ms/step - loss: 0.6415 - accuracy: 0.7627 - val_loss: 0.5455 - val_accuracy: 0.7820\n",
            "Epoch 8/10\n",
            "47/47 [==============================] - 9s 184ms/step - loss: 0.4167 - accuracy: 0.8347 - val_loss: 0.5819 - val_accuracy: 0.7260\n",
            "Epoch 9/10\n",
            "47/47 [==============================] - 9s 182ms/step - loss: 0.3197 - accuracy: 0.8633 - val_loss: 0.7612 - val_accuracy: 0.6840\n",
            "Epoch 10/10\n",
            "47/47 [==============================] - 9s 184ms/step - loss: 0.3849 - accuracy: 0.8320 - val_loss: 1.0401 - val_accuracy: 0.6480\n"
          ]
        },
        {
          "output_type": "execute_result",
          "data": {
            "text/plain": [
              "<keras.callbacks.History at 0x7f487c3971f0>"
            ]
          },
          "metadata": {},
          "execution_count": 17
        }
      ],
      "source": [
        "# Set random seed\n",
        "tf.random.set_seed(40)\n",
        "\n",
        "# Define the Model\n",
        "model_3 = tf.keras.models.Sequential([\n",
        "    tf.keras.layers.Flatten(),\n",
        "    tf.keras.layers.Dense(32, activation='relu'),\n",
        "    tf.keras.layers.Dense(16, activation='relu'),\n",
        "    tf.keras.layers.Dense(1, activation='sigmoid')\n",
        "])\n",
        "\n",
        "# Compile the model\n",
        "model_3.compile(loss=tf.keras.losses.BinaryCrossentropy(),\n",
        "                optimizer=tf.keras.optimizers.Adam(learning_rate=0.001),\n",
        "                metrics=['accuracy'])\n",
        "\n",
        "# Fit the model\n",
        "model_3.fit(train_data,\n",
        "            epochs=10,\n",
        "            steps_per_epoch=len(train_data),\n",
        "            validation_data=valid_data,\n",
        "            validation_steps=len(valid_data))"
      ]
    },
    {
      "cell_type": "code",
      "execution_count": null,
      "metadata": {
        "id": "auYpooS3siuG",
        "outputId": "1c0ad23d-7ebc-44aa-e7e4-495d8d8649a0",
        "colab": {
          "base_uri": "https://localhost:8080/"
        }
      },
      "outputs": [
        {
          "output_type": "stream",
          "name": "stdout",
          "text": [
            "Model: \"sequential_2\"\n",
            "_________________________________________________________________\n",
            " Layer (type)                Output Shape              Param #   \n",
            "=================================================================\n",
            " flatten_2 (Flatten)         (None, None)              0         \n",
            "                                                                 \n",
            " dense_4 (Dense)             (None, 32)                6291488   \n",
            "                                                                 \n",
            " dense_5 (Dense)             (None, 16)                528       \n",
            "                                                                 \n",
            " dense_6 (Dense)             (None, 1)                 17        \n",
            "                                                                 \n",
            "=================================================================\n",
            "Total params: 6,292,033\n",
            "Trainable params: 6,292,033\n",
            "Non-trainable params: 0\n",
            "_________________________________________________________________\n"
          ]
        }
      ],
      "source": [
        "model_3.summary()"
      ]
    },
    {
      "cell_type": "markdown",
      "metadata": {
        "id": "GL5g57ATDfTE"
      },
      "source": [
        "## Image Binary Classification: Let's break it down\n",
        "\n",
        "1. Visualize and Explore the Data\n",
        "2. Preprocess the data\n",
        "> Use `ImageDataGenerator()` and create datagens\\\n",
        "> Add rescale factor **1/255.**\\\n",
        "> Define train and test directory paths\\\n",
        "> Use `flow_from_directory()` method to read images. It takes:\n",
        ">> 1. **directory**: path to directory\n",
        ">> 2. **target_size**: image size (height,width)\n",
        ">> 3. **class_mode**: \"binary\" or \"multiclass\"\n",
        ">> 4. **batch_size**: Number of images in a batch\n",
        "3. Build a CNN model (Baseline)\n",
        "> CNN models use `Conv2D()` and `MaxPool2D()` layers\n",
        ">> **`Conv2D(filters,kernel_size,strides,padding,activation,input_shape)`**:\n",
        ">>> 1. **filters**: dimensionality of the output space. The number of feature maps that get created over an image. More the filters, more the number of features extracted. Too many will lead to overfitting\n",
        ">>> 2. **kernel_size**: how many pixels to cover in one convolution window. int/tuple(int,int). Smaller kernel size will learn more magnified, detailed features and larger sizes will learn more general features.\n",
        ">>> 3. **strides**: strides of convolution, how many pixels along the dimension to cover, default=1\n",
        ">>> 4. **padding**: if kernel_size is incompatible with input_shape. set to 'same' to add a layer zeros evenly to all sides of an image. 'valid' for no padding, default='valid'  \n",
        "If 'valid', then the output shape is compressed, else 'same', output shape remains the same\n",
        ">>> 5. **activation**: activation function, default=None\n",
        ">>> 6. **input_shape**: input shape of image (height, width, color channels) (First Layer Only)\n",
        ">> **`Flatten()`**: Use this function to fit the features along one axis, this is required for the Dense Output Layer"
      ]
    },
    {
      "cell_type": "code",
      "execution_count": null,
      "metadata": {
        "id": "tS1mq2XTDjoK",
        "outputId": "cfeefe5d-e323-499b-98fe-b7960581c710",
        "colab": {
          "base_uri": "https://localhost:8080/"
        }
      },
      "outputs": [
        {
          "output_type": "stream",
          "name": "stdout",
          "text": [
            "Found 1500 images belonging to 2 classes.\n",
            "Found 500 images belonging to 2 classes.\n"
          ]
        }
      ],
      "source": [
        "from tensorflow.keras.preprocessing.image import ImageDataGenerator\n",
        "\n",
        "# Create data generators and apply preprocessing\n",
        "train_datagen = ImageDataGenerator(rescale=1/255.)\n",
        "test_datagen = ImageDataGenerator(rescale=1/255.)\n",
        "\n",
        "# Define directory paths\n",
        "train_dir = \"/content/pizza_steak/train\"\n",
        "test_dir = \"/content/pizza_steak/test\"\n",
        "\n",
        "# Load the data using data generators\n",
        "train_data = train_datagen.flow_from_directory(directory=train_dir,\n",
        "                                               target_size=(256,256),\n",
        "                                               class_mode=\"binary\",\n",
        "                                               batch_size=32)\n",
        "test_data = test_datagen.flow_from_directory(directory=test_dir,\n",
        "                                             target_size=(256,256),\n",
        "                                             class_mode=\"binary\",\n",
        "                                             batch_size=32)"
      ]
    },
    {
      "cell_type": "code",
      "source": [
        "# Check a sample batch\n",
        "images, labels = train_data.next()\n",
        "len(images), len(labels)"
      ],
      "metadata": {
        "id": "lrzmOD4XFa21",
        "outputId": "576f45b3-3bcb-401c-c460-6f968e05e8f9",
        "colab": {
          "base_uri": "https://localhost:8080/"
        }
      },
      "execution_count": null,
      "outputs": [
        {
          "output_type": "execute_result",
          "data": {
            "text/plain": [
              "(32, 32)"
            ]
          },
          "metadata": {},
          "execution_count": 20
        }
      ]
    },
    {
      "cell_type": "code",
      "source": [
        "# How many batches ?\n",
        "len(train_data)"
      ],
      "metadata": {
        "id": "ZvjolTznFiWD",
        "outputId": "e822664b-05b2-456e-c850-59765f39bf2c",
        "colab": {
          "base_uri": "https://localhost:8080/"
        }
      },
      "execution_count": null,
      "outputs": [
        {
          "output_type": "execute_result",
          "data": {
            "text/plain": [
              "47"
            ]
          },
          "metadata": {},
          "execution_count": 21
        }
      ]
    },
    {
      "cell_type": "code",
      "source": [
        "47*32"
      ],
      "metadata": {
        "id": "kMMMgQ-iF13z",
        "outputId": "a0aa4401-eddb-4efa-e2d9-0d6c8b260ee1",
        "colab": {
          "base_uri": "https://localhost:8080/"
        }
      },
      "execution_count": null,
      "outputs": [
        {
          "output_type": "execute_result",
          "data": {
            "text/plain": [
              "1504"
            ]
          },
          "metadata": {},
          "execution_count": 22
        }
      ]
    },
    {
      "cell_type": "code",
      "source": [
        "# Get an image tensor and its shape\n",
        "images[0], images[0].shape"
      ],
      "metadata": {
        "id": "2Q9BZl4BF3Ix",
        "outputId": "86afb33a-56c1-4f5b-9fb3-ddb83b1d4019",
        "colab": {
          "base_uri": "https://localhost:8080/"
        }
      },
      "execution_count": null,
      "outputs": [
        {
          "output_type": "execute_result",
          "data": {
            "text/plain": [
              "(array([[[0.6666667 , 0.6745098 , 0.72156864],\n",
              "         [0.627451  , 0.61960787, 0.6627451 ],\n",
              "         [0.54509807, 0.5058824 , 0.5411765 ],\n",
              "         ...,\n",
              "         [0.21568629, 0.12941177, 0.07843138],\n",
              "         [0.21960786, 0.13333334, 0.08235294],\n",
              "         [0.20784315, 0.13333334, 0.07843138]],\n",
              " \n",
              "        [[0.6117647 , 0.61960787, 0.67058825],\n",
              "         [0.61960787, 0.6117647 , 0.6627451 ],\n",
              "         [0.5176471 , 0.48627454, 0.5294118 ],\n",
              "         ...,\n",
              "         [0.20392159, 0.12941177, 0.07450981],\n",
              "         [0.19607845, 0.12156864, 0.06666667],\n",
              "         [0.18823531, 0.1137255 , 0.05882353]],\n",
              " \n",
              "        [[0.58431375, 0.5803922 , 0.6431373 ],\n",
              "         [0.5921569 , 0.5764706 , 0.63529414],\n",
              "         [0.5058824 , 0.47450984, 0.5254902 ],\n",
              "         ...,\n",
              "         [0.20392159, 0.13333334, 0.07843138],\n",
              "         [0.21176472, 0.14901961, 0.09019608],\n",
              "         [0.21960786, 0.15686275, 0.09803922]],\n",
              " \n",
              "        ...,\n",
              " \n",
              "        [[0.8941177 , 0.69411767, 0.44705886],\n",
              "         [0.8862746 , 0.6862745 , 0.43921572],\n",
              "         [0.8705883 , 0.65882355, 0.4156863 ],\n",
              "         ...,\n",
              "         [0.0627451 , 0.02745098, 0.03921569],\n",
              "         [0.05882353, 0.02352941, 0.02745098],\n",
              "         [0.05882353, 0.02352941, 0.02745098]],\n",
              " \n",
              "        [[0.9215687 , 0.70980394, 0.45882356],\n",
              "         [0.9176471 , 0.7058824 , 0.454902  ],\n",
              "         [0.8980393 , 0.6862745 , 0.43529415],\n",
              "         ...,\n",
              "         [0.0509804 , 0.03529412, 0.03137255],\n",
              "         [0.05490196, 0.03921569, 0.02745098],\n",
              "         [0.05882353, 0.04313726, 0.03137255]],\n",
              " \n",
              "        [[0.91372555, 0.7019608 , 0.45098042],\n",
              "         [0.9333334 , 0.72156864, 0.47058827],\n",
              "         [0.9333334 , 0.72156864, 0.47058827],\n",
              "         ...,\n",
              "         [0.03529412, 0.03921569, 0.01960784],\n",
              "         [0.03529412, 0.03921569, 0.01960784],\n",
              "         [0.03137255, 0.03529412, 0.01568628]]], dtype=float32), (256, 256, 3))"
            ]
          },
          "metadata": {},
          "execution_count": 23
        }
      ]
    },
    {
      "cell_type": "code",
      "source": [
        "# View labels\n",
        "labels"
      ],
      "metadata": {
        "id": "wWKK852ZGHy9",
        "outputId": "b4bd33da-7273-4743-9601-ef2373563c35",
        "colab": {
          "base_uri": "https://localhost:8080/"
        }
      },
      "execution_count": null,
      "outputs": [
        {
          "output_type": "execute_result",
          "data": {
            "text/plain": [
              "array([0., 0., 0., 1., 1., 1., 1., 1., 0., 1., 1., 1., 0., 1., 1., 0., 1.,\n",
              "       1., 1., 0., 1., 1., 1., 1., 0., 1., 0., 0., 1., 1., 0., 0.],\n",
              "      dtype=float32)"
            ]
          },
          "metadata": {},
          "execution_count": 24
        }
      ]
    },
    {
      "cell_type": "markdown",
      "source": [
        "### Create a CNN model (Baseline)"
      ],
      "metadata": {
        "id": "Sl5D8BNlHPyM"
      }
    },
    {
      "cell_type": "code",
      "source": [
        "# Start with a simple model\n",
        "\n",
        "from tensorflow.keras.layers import Dense, Flatten, Conv2D, MaxPool2D\n",
        "from tensorflow.keras.optimizers import Adam\n",
        "from tensorflow.keras.losses import BinaryCrossentropy\n",
        "from tensorflow.keras.models import Sequential"
      ],
      "metadata": {
        "id": "ulJO8JKrHSpl"
      },
      "execution_count": null,
      "outputs": []
    },
    {
      "cell_type": "code",
      "source": [
        "model_4 = Sequential([\n",
        "    Conv2D(filters=10,\n",
        "           kernel_size=3,\n",
        "           strides=1, # default\n",
        "           padding='valid', # deafult\n",
        "           activation='relu',\n",
        "           input_shape=(256,256,3)), # only needed in first layer\n",
        "    Conv2D(filters=10, kernel_size=3, activation='relu'),\n",
        "    Conv2D(10, 3, activation='relu'),\n",
        "    Flatten(),\n",
        "    Dense(1, activation='sigmoid')\n",
        "    ])"
      ],
      "metadata": {
        "id": "854-pa-AH8YL"
      },
      "execution_count": null,
      "outputs": []
    },
    {
      "cell_type": "code",
      "source": [
        "# Compile the Model\n",
        "model_4.compile(loss=BinaryCrossentropy(),\n",
        "                optimizer=Adam(),\n",
        "                metrics=[\"accuracy\"])"
      ],
      "metadata": {
        "id": "vo1sdOYWXqWx"
      },
      "execution_count": null,
      "outputs": []
    },
    {
      "cell_type": "code",
      "source": [
        "model_4.summary()"
      ],
      "metadata": {
        "colab": {
          "base_uri": "https://localhost:8080/"
        },
        "id": "SGvTF9O699s4",
        "outputId": "01d53dbe-8628-4fe1-e0a7-dc3bddc3b8e0"
      },
      "execution_count": null,
      "outputs": [
        {
          "output_type": "stream",
          "name": "stdout",
          "text": [
            "Model: \"sequential_3\"\n",
            "_________________________________________________________________\n",
            " Layer (type)                Output Shape              Param #   \n",
            "=================================================================\n",
            " conv2d_4 (Conv2D)           (None, 254, 254, 10)      280       \n",
            "                                                                 \n",
            " conv2d_5 (Conv2D)           (None, 252, 252, 10)      910       \n",
            "                                                                 \n",
            " conv2d_6 (Conv2D)           (None, 250, 250, 10)      910       \n",
            "                                                                 \n",
            " flatten_3 (Flatten)         (None, 625000)            0         \n",
            "                                                                 \n",
            " dense_7 (Dense)             (None, 1)                 625001    \n",
            "                                                                 \n",
            "=================================================================\n",
            "Total params: 627,101\n",
            "Trainable params: 627,101\n",
            "Non-trainable params: 0\n",
            "_________________________________________________________________\n"
          ]
        }
      ]
    },
    {
      "cell_type": "code",
      "source": [
        "# Fit the model\n",
        "len(train_data), len(test_data)"
      ],
      "metadata": {
        "colab": {
          "base_uri": "https://localhost:8080/"
        },
        "id": "4Jw23LE-9_Ea",
        "outputId": "9c074b5a-df34-41f7-a61b-a085541604d0"
      },
      "execution_count": null,
      "outputs": [
        {
          "output_type": "execute_result",
          "data": {
            "text/plain": [
              "(47, 16)"
            ]
          },
          "metadata": {},
          "execution_count": 29
        }
      ]
    },
    {
      "cell_type": "code",
      "source": [
        "history_4 = model_4.fit(train_data,\n",
        "                        epochs=5,\n",
        "                        steps_per_epoch=len(train_data),\n",
        "                        validation_data=test_data,\n",
        "                        validation_steps=len(test_data))"
      ],
      "metadata": {
        "colab": {
          "base_uri": "https://localhost:8080/"
        },
        "id": "FlIwNPKE-Phm",
        "outputId": "186a4888-fab4-44bb-88cd-e1dae7c56d52"
      },
      "execution_count": null,
      "outputs": [
        {
          "output_type": "stream",
          "name": "stdout",
          "text": [
            "Epoch 1/5\n",
            "47/47 [==============================] - 11s 211ms/step - loss: 0.8374 - accuracy: 0.6520 - val_loss: 0.4153 - val_accuracy: 0.8280\n",
            "Epoch 2/5\n",
            "47/47 [==============================] - 10s 209ms/step - loss: 0.4163 - accuracy: 0.8213 - val_loss: 0.4023 - val_accuracy: 0.8240\n",
            "Epoch 3/5\n",
            "47/47 [==============================] - 10s 202ms/step - loss: 0.2909 - accuracy: 0.8913 - val_loss: 0.3614 - val_accuracy: 0.8400\n",
            "Epoch 4/5\n",
            "47/47 [==============================] - 10s 203ms/step - loss: 0.1878 - accuracy: 0.9393 - val_loss: 0.4276 - val_accuracy: 0.8140\n",
            "Epoch 5/5\n",
            "47/47 [==============================] - 9s 201ms/step - loss: 0.0885 - accuracy: 0.9767 - val_loss: 0.4227 - val_accuracy: 0.8300\n"
          ]
        }
      ]
    },
    {
      "cell_type": "code",
      "source": [
        "model_1.evaluate(test_data)"
      ],
      "metadata": {
        "colab": {
          "base_uri": "https://localhost:8080/"
        },
        "id": "sdLCB3kj-mse",
        "outputId": "958f6b8a-8dcc-42df-a971-49052db6e5f9"
      },
      "execution_count": null,
      "outputs": [
        {
          "output_type": "stream",
          "name": "stdout",
          "text": [
            "16/16 [==============================] - 2s 139ms/step - loss: 0.3716 - accuracy: 0.8660\n"
          ]
        },
        {
          "output_type": "execute_result",
          "data": {
            "text/plain": [
              "[0.3716415464878082, 0.8659999966621399]"
            ]
          },
          "metadata": {},
          "execution_count": 32
        }
      ]
    },
    {
      "cell_type": "code",
      "source": [
        "model_1.summary()"
      ],
      "metadata": {
        "colab": {
          "base_uri": "https://localhost:8080/"
        },
        "id": "YUMIFVipA_OO",
        "outputId": "05a7e8e8-3dd1-47fe-856a-effa173ff211"
      },
      "execution_count": null,
      "outputs": [
        {
          "output_type": "stream",
          "name": "stdout",
          "text": [
            "Model: \"sequential\"\n",
            "_________________________________________________________________\n",
            " Layer (type)                Output Shape              Param #   \n",
            "=================================================================\n",
            " conv2d (Conv2D)             (None, 254, 254, 10)      280       \n",
            "                                                                 \n",
            " conv2d_1 (Conv2D)           (None, 252, 252, 10)      910       \n",
            "                                                                 \n",
            " max_pooling2d (MaxPooling2D  (None, 126, 126, 10)     0         \n",
            " )                                                               \n",
            "                                                                 \n",
            " conv2d_2 (Conv2D)           (None, 124, 124, 10)      910       \n",
            "                                                                 \n",
            " conv2d_3 (Conv2D)           (None, 122, 122, 10)      910       \n",
            "                                                                 \n",
            " max_pooling2d_1 (MaxPooling  (None, 61, 61, 10)       0         \n",
            " 2D)                                                             \n",
            "                                                                 \n",
            " flatten (Flatten)           (None, 37210)             0         \n",
            "                                                                 \n",
            " dense (Dense)               (None, 1)                 37211     \n",
            "                                                                 \n",
            "=================================================================\n",
            "Total params: 40,221\n",
            "Trainable params: 40,221\n",
            "Non-trainable params: 0\n",
            "_________________________________________________________________\n"
          ]
        }
      ]
    },
    {
      "cell_type": "code",
      "source": [
        "model_4.evaluate(test_data)"
      ],
      "metadata": {
        "colab": {
          "base_uri": "https://localhost:8080/"
        },
        "id": "aPqCeLYvBD-o",
        "outputId": "f174379a-ff50-433e-e47f-c8029554bb98"
      },
      "execution_count": null,
      "outputs": [
        {
          "output_type": "stream",
          "name": "stdout",
          "text": [
            "16/16 [==============================] - 2s 142ms/step - loss: 0.4227 - accuracy: 0.8300\n"
          ]
        },
        {
          "output_type": "execute_result",
          "data": {
            "text/plain": [
              "[0.4226880371570587, 0.8299999833106995]"
            ]
          },
          "metadata": {},
          "execution_count": 34
        }
      ]
    },
    {
      "cell_type": "code",
      "source": [
        "model_4.summary()"
      ],
      "metadata": {
        "colab": {
          "base_uri": "https://localhost:8080/"
        },
        "id": "N3-lNoYFBilL",
        "outputId": "e4714e37-aaf4-487f-9975-8f57d705f9dd"
      },
      "execution_count": null,
      "outputs": [
        {
          "output_type": "stream",
          "name": "stdout",
          "text": [
            "Model: \"sequential_3\"\n",
            "_________________________________________________________________\n",
            " Layer (type)                Output Shape              Param #   \n",
            "=================================================================\n",
            " conv2d_4 (Conv2D)           (None, 254, 254, 10)      280       \n",
            "                                                                 \n",
            " conv2d_5 (Conv2D)           (None, 252, 252, 10)      910       \n",
            "                                                                 \n",
            " conv2d_6 (Conv2D)           (None, 250, 250, 10)      910       \n",
            "                                                                 \n",
            " flatten_3 (Flatten)         (None, 625000)            0         \n",
            "                                                                 \n",
            " dense_7 (Dense)             (None, 1)                 625001    \n",
            "                                                                 \n",
            "=================================================================\n",
            "Total params: 627,101\n",
            "Trainable params: 627,101\n",
            "Non-trainable params: 0\n",
            "_________________________________________________________________\n"
          ]
        }
      ]
    },
    {
      "cell_type": "markdown",
      "source": [
        "### Evaluate the Baseline Model"
      ],
      "metadata": {
        "id": "HdWfOhHcBkfj"
      }
    },
    {
      "cell_type": "code",
      "source": [
        "import pandas as pd\n",
        "pd.DataFrame(history_4.history).plot(figsize=(10,7))"
      ],
      "metadata": {
        "colab": {
          "base_uri": "https://localhost:8080/",
          "height": 445
        },
        "id": "ypXmTvFuELGK",
        "outputId": "297666f7-e118-463d-911e-cd4e2e8a0f09"
      },
      "execution_count": null,
      "outputs": [
        {
          "output_type": "execute_result",
          "data": {
            "text/plain": [
              "<matplotlib.axes._subplots.AxesSubplot at 0x7f48671569d0>"
            ]
          },
          "metadata": {},
          "execution_count": 36
        },
        {
          "output_type": "display_data",
          "data": {
            "text/plain": [
              "<Figure size 720x504 with 1 Axes>"
            ],
            "image/png": "[encoded data removed]"
          },
          "metadata": {
            "needs_background": "light"
          }
        }
      ]
    },
    {
      "cell_type": "code",
      "source": [
        "def plot_curves(history):\n",
        "\n",
        "    \"\"\"\n",
        "    Returns separate loss and accuracy curves\n",
        "    \"\"\"\n",
        "\n",
        "    loss = history.history[\"loss\"]\n",
        "    val_loss = history.history[\"val_loss\"]\n",
        "\n",
        "    accuracy = history.history[\"accuracy\"]\n",
        "    val_accuracy = history.history[\"val_accuracy\"]\n",
        "\n",
        "    epochs = range(len(history.history[\"loss\"]))\n",
        "\n",
        "    plt.plot(epochs, loss, label=\"training_loss\")\n",
        "    plt.plot(epochs, val_loss, label=\"val_loss\")\n",
        "    plt.title(\"loss\")\n",
        "    plt.xlabel(\"epochs\")\n",
        "    plt.legend()\n",
        "\n",
        "    plt.figure()\n",
        "    plt.plot(epochs, accuracy, label=\"training_accuracy\")\n",
        "    plt.plot(epochs, val_accuracy, label=\"val_accuracy\")\n",
        "    plt.title(\"accuracy\")\n",
        "    plt.xlabel(\"epochs\")\n",
        "    plt.legend()"
      ],
      "metadata": {
        "id": "QR1EmHvJEWQ4"
      },
      "execution_count": null,
      "outputs": []
    },
    {
      "cell_type": "code",
      "source": [
        "plot_curves(history_4)"
      ],
      "metadata": {
        "colab": {
          "base_uri": "https://localhost:8080/",
          "height": 573
        },
        "id": "qFkgr4-IGSOO",
        "outputId": "da3e0f42-ef48-45a8-ab4b-1c8e21b87ded"
      },
      "execution_count": null,
      "outputs": [
        {
          "output_type": "display_data",
          "data": {
            "text/plain": [
              "<Figure size 432x288 with 1 Axes>"
            ],
            "image/png": "[encoded data removed]"
          },
          "metadata": {
            "needs_background": "light"
          }
        },
        {
          "output_type": "display_data",
          "data": {
            "text/plain": [
              "<Figure size 432x288 with 1 Axes>"
            ],
            "image/png": "[encoded data removed]"
          },
          "metadata": {
            "needs_background": "light"
          }
        }
      ]
    },
    {
      "cell_type": "markdown",
      "source": [
        "### Dealing with Overfitting\n",
        "\n",
        "Reduce Overfitting\n",
        "* Add data augmentation\n",
        "* Add regularization layers\n",
        "* Add more data..."
      ],
      "metadata": {
        "id": "K9Uf6KO0GVgL"
      }
    },
    {
      "cell_type": "code",
      "source": [
        "# Create a new model with MaxPool layers\n",
        "\n",
        "model_5 = Sequential([\n",
        "    Conv2D(10,3,activation='relu', input_shape=(256,256,3)),\n",
        "    MaxPool2D(pool_size=2),\n",
        "    Conv2D(10,3,activation='relu'),\n",
        "    MaxPool2D(pool_size=2),\n",
        "    Conv2D(10,3,activation='relu'),\n",
        "    MaxPool2D(pool_size=2),\n",
        "    Flatten(),\n",
        "    Dense(1, activation='sigmoid')\n",
        "])"
      ],
      "metadata": {
        "id": "I1uI7FRwHTsj"
      },
      "execution_count": null,
      "outputs": []
    },
    {
      "cell_type": "code",
      "source": [
        "# Compile the Model\n",
        "model_5.compile(loss=BinaryCrossentropy(),\n",
        "                optimizer=Adam(),\n",
        "                metrics=[\"accuracy\"])"
      ],
      "metadata": {
        "id": "93bxZC2FJNtJ"
      },
      "execution_count": null,
      "outputs": []
    },
    {
      "cell_type": "code",
      "source": [
        "# Fit the model\n",
        "history_5 = model_5.fit(train_data,\n",
        "                        epochs=5,\n",
        "                        steps_per_epoch=len(train_data),\n",
        "                        validation_data=test_data,\n",
        "                        validation_steps=len(valid_data))"
      ],
      "metadata": {
        "colab": {
          "base_uri": "https://localhost:8080/"
        },
        "id": "PFOpkBalJnJ7",
        "outputId": "0600437e-4e42-46a1-859b-6969dfa3b97d"
      },
      "execution_count": null,
      "outputs": [
        {
          "output_type": "stream",
          "name": "stdout",
          "text": [
            "Epoch 1/5\n",
            "47/47 [==============================] - 9s 196ms/step - loss: 0.3828 - accuracy: 0.8307 - val_loss: 0.3308 - val_accuracy: 0.8680\n",
            "Epoch 2/5\n",
            "47/47 [==============================] - 9s 200ms/step - loss: 0.3613 - accuracy: 0.8507 - val_loss: 0.3073 - val_accuracy: 0.8760\n",
            "Epoch 3/5\n",
            "47/47 [==============================] - 9s 190ms/step - loss: 0.3543 - accuracy: 0.8487 - val_loss: 0.3087 - val_accuracy: 0.8760\n",
            "Epoch 4/5\n",
            "47/47 [==============================] - 9s 191ms/step - loss: 0.3138 - accuracy: 0.8713 - val_loss: 0.2927 - val_accuracy: 0.8760\n",
            "Epoch 5/5\n",
            "47/47 [==============================] - 9s 189ms/step - loss: 0.3154 - accuracy: 0.8787 - val_loss: 0.3183 - val_accuracy: 0.8780\n"
          ]
        }
      ]
    },
    {
      "cell_type": "code",
      "source": [
        "model_5.summary() # Pay attention to the shapes"
      ],
      "metadata": {
        "colab": {
          "base_uri": "https://localhost:8080/"
        },
        "id": "v4jnv4uMJx4Z",
        "outputId": "5e97abfe-0f0a-4c96-b26e-1255520ce142"
      },
      "execution_count": null,
      "outputs": [
        {
          "output_type": "stream",
          "name": "stdout",
          "text": [
            "Model: \"sequential_4\"\n",
            "_________________________________________________________________\n",
            " Layer (type)                Output Shape              Param #   \n",
            "=================================================================\n",
            " conv2d_7 (Conv2D)           (None, 254, 254, 10)      280       \n",
            "                                                                 \n",
            " max_pooling2d_2 (MaxPooling  (None, 127, 127, 10)     0         \n",
            " 2D)                                                             \n",
            "                                                                 \n",
            " conv2d_8 (Conv2D)           (None, 125, 125, 10)      910       \n",
            "                                                                 \n",
            " max_pooling2d_3 (MaxPooling  (None, 62, 62, 10)       0         \n",
            " 2D)                                                             \n",
            "                                                                 \n",
            " conv2d_9 (Conv2D)           (None, 60, 60, 10)        910       \n",
            "                                                                 \n",
            " max_pooling2d_4 (MaxPooling  (None, 30, 30, 10)       0         \n",
            " 2D)                                                             \n",
            "                                                                 \n",
            " flatten_4 (Flatten)         (None, 9000)              0         \n",
            "                                                                 \n",
            " dense_8 (Dense)             (None, 1)                 9001      \n",
            "                                                                 \n",
            "=================================================================\n",
            "Total params: 11,101\n",
            "Trainable params: 11,101\n",
            "Non-trainable params: 0\n",
            "_________________________________________________________________\n"
          ]
        }
      ]
    },
    {
      "cell_type": "code",
      "source": [
        "plot_curves(history_5)"
      ],
      "metadata": {
        "colab": {
          "base_uri": "https://localhost:8080/",
          "height": 573
        },
        "id": "d6gqvcLzKU-s",
        "outputId": "000f1471-1a57-4271-ebdc-f5f7bde85577"
      },
      "execution_count": null,
      "outputs": [
        {
          "output_type": "display_data",
          "data": {
            "text/plain": [
              "<Figure size 432x288 with 1 Axes>"
            ],
            "image/png": "[encoded data removed]"
          },
          "metadata": {
            "needs_background": "light"
          }
        },
        {
          "output_type": "display_data",
          "data": {
            "text/plain": [
              "<Figure size 432x288 with 1 Axes>"
            ],
            "image/png": "[encoded data removed]"
          },
          "metadata": {
            "needs_background": "light"
          }
        }
      ]
    },
    {
      "cell_type": "markdown",
      "source": [
        "### Data Augmentation"
      ],
      "metadata": {
        "id": "Op5AIWoOL3Qa"
      }
    },
    {
      "cell_type": "code",
      "source": [
        "# Create datagens again with data augmentation\n",
        "\n",
        "train_datagen_augmented = ImageDataGenerator(rescale=1/255.,\n",
        "                                             rotation_range=0.2,\n",
        "                                             shear_range=0.2,\n",
        "                                             zoom_range=0.2,\n",
        "                                             width_shift_range=0.2,\n",
        "                                             height_shift_range=0.3,\n",
        "                                             horizontal_flip=True)\n",
        "\n",
        "# Datagens without augmentation\n",
        "train_datagen = ImageDataGenerator(rescale=1/255.)\n",
        "test_datagen = ImageDataGenerator(rescale=1/255.)"
      ],
      "metadata": {
        "id": "YFZCiutcNO0u"
      },
      "execution_count": null,
      "outputs": []
    },
    {
      "cell_type": "code",
      "source": [],
      "metadata": {
        "id": "10o0ittxN4un"
      },
      "execution_count": null,
      "outputs": []
    }
  ],
  "metadata": {
    "accelerator": "GPU",
    "colab": {
      "provenance": [],
      "authorship_tag": "ABX9TyOLS51Zjm256Do36iGliEMK",
      "include_colab_link": true
    },
    "kernelspec": {
      "display_name": "Python 3",
      "name": "python3"
    },
    "language_info": {
      "name": "python"
    },
    "gpuClass": "standard"
  },
  "nbformat": 4,
  "nbformat_minor": 0
}